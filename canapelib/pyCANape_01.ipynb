{
 "cells": [
  {
   "cell_type": "code",
   "execution_count": 1,
   "metadata": {
    "collapsed": false
   },
   "outputs": [],
   "source": [
    "import ctypes\n",
    "import os\n",
    "import sys\n",
    "import tempfile"
   ]
  },
  {
   "cell_type": "code",
   "execution_count": 2,
   "metadata": {
    "collapsed": false
   },
   "outputs": [
    {
     "data": {
      "text/plain": [
       "'C:\\\\Python\\\\Projects\\\\lmt\\\\canapelib'"
      ]
     },
     "execution_count": 2,
     "metadata": {},
     "output_type": "execute_result"
    }
   ],
   "source": [
    "os.path.abspath(os.path.curdir)"
   ]
  },
  {
   "cell_type": "code",
   "execution_count": 3,
   "metadata": {
    "collapsed": false
   },
   "outputs": [],
   "source": [
    "working_directory=os.path.abspath(tempfile.mkdtemp(suffix=\"_canape\",prefix=\"tmp_\",dir=os.curdir))"
   ]
  },
  {
   "cell_type": "code",
   "execution_count": 4,
   "metadata": {
    "collapsed": true
   },
   "outputs": [],
   "source": [
    "api_path=r\"C:\\Program Files (x86)\\Vector CANape 14\\CANapeAPI\""
   ]
  },
  {
   "cell_type": "markdown",
   "metadata": {},
   "source": [
    "- http://vector.com/portal/medien/cmc/application_notes/AN-AMC-1-103_CANape_ASAM_MCD3_Interface.pdf\n",
    "\n",
    "Access to the ASAP3 interface is possible via three different methods:\n",
    "1. CANapAPI.DLL: The ASAP3 functions are realized via DLL functions locally\n",
    "2. CANaptcp.DLL: Remote access to CANape via client application using DLL functions\n",
    "3. COM interface: This interface enlarges the CANapeAPI functions. Other programs have access to ECUs\n",
    "via the Microsoft COM interface (Vector Application Note AN67-15)\n",
    "\n",
    "### The CANapeAPI.DLL provides the following functionalities:\n",
    "1. Exchange of data between CANape and other external applications\n",
    "2. Creation of an mdf (Measurement Data Format) file to log Measurement Data\n",
    "3. Automation of calibration sequences with customer-specific user interface\n",
    "4. Execute script files and services\n",
    "\n",
    "### The CANaptcp.DLL provides the following functionalities:\n",
    "1. All functions included in the CANapAPI.DLL\n",
    "2. Remote TCP/IP access instead of local direct access"
   ]
  },
  {
   "cell_type": "markdown",
   "metadata": {
    "collapsed": true
   },
   "source": [
    "# Method 0: COM\n",
    "\n",
    "Connect to CANape using the COM interface. \n",
    "\n",
    "Pros:\n",
    "- COM interface.\n",
    "\n",
    "Cons:\n",
    "- COM interface. \n",
    "- Stuck with a single version of CANape (which ever one has its DLL registered).\n",
    "- To register a new version requires Admin access."
   ]
  },
  {
   "cell_type": "code",
   "execution_count": null,
   "metadata": {
    "collapsed": true
   },
   "outputs": [],
   "source": [
    "import win32com.client\n",
    "hdl = win32com.client.Dispatch('CANAPE.Application')"
   ]
  },
  {
   "cell_type": "code",
   "execution_count": null,
   "metadata": {
    "collapsed": false
   },
   "outputs": [],
   "source": [
    "hdl.Open(working_directory,0)"
   ]
  },
  {
   "cell_type": "code",
   "execution_count": null,
   "metadata": {
    "collapsed": false
   },
   "outputs": [],
   "source": [
    "hdl.Quit()"
   ]
  },
  {
   "cell_type": "code",
   "execution_count": null,
   "metadata": {
    "collapsed": false
   },
   "outputs": [],
   "source": [
    "hdl.Open1(working_directory,1,1000,True)"
   ]
  },
  {
   "cell_type": "code",
   "execution_count": null,
   "metadata": {
    "collapsed": false
   },
   "outputs": [],
   "source": [
    "hdl.Quit()"
   ]
  },
  {
   "cell_type": "markdown",
   "metadata": {},
   "source": [
    "# Method 1: CANapAPI\n",
    "\n",
    "Connect to CANape using the API, directly.\n",
    "\n",
    "Pros:\n",
    "- 32 and 64-bit versions.\n",
    "- Use any version of CANape you have installed.\n",
    "- More hard core.\n",
    "\n",
    "Cons:\n",
    "- Requires use of CTypes\n",
    "- ~~I had to write everything below.~~ [Magic](https://github.com/davidjamesca/ctypesgen)"
   ]
  },
  {
   "cell_type": "code",
   "execution_count": 5,
   "metadata": {
    "collapsed": true
   },
   "outputs": [],
   "source": [
    "import platform\n",
    "import CANapAPI"
   ]
  },
  {
   "cell_type": "code",
   "execution_count": 6,
   "metadata": {
    "collapsed": false
   },
   "outputs": [],
   "source": [
    "if platform.architecture()[0] == '32bit':\n",
    "    canape_api=ctypes.WinDLL(os.path.join(api_path,\"CANapAPI.dll\"))\n",
    "else:\n",
    "    canape_api=ctypes.WinDLL(os.path.join(api_path,\"CANapAPI64.dll\"))"
   ]
  },
  {
   "cell_type": "code",
   "execution_count": 7,
   "metadata": {
    "collapsed": true
   },
   "outputs": [],
   "source": [
    "ver = CANapAPI.version_t()"
   ]
  },
  {
   "cell_type": "code",
   "execution_count": 8,
   "metadata": {
    "collapsed": false
   },
   "outputs": [
    {
     "name": "stdout",
     "output_type": "stream",
     "text": [
      "58779905\n",
      "<CANapAPI.struct_anon_34 object at 0x0388C3F0>\n"
     ]
    }
   ],
   "source": [
    "r = canape_api.Asap3GetVersion(ctypes.byref(ver))\n",
    "print(r)\n",
    "print(ver)"
   ]
  },
  {
   "cell_type": "code",
   "execution_count": 9,
   "metadata": {
    "collapsed": false
   },
   "outputs": [
    {
     "name": "stdout",
     "output_type": "stream",
     "text": [
      "dllMainVersion: 2\n",
      "dllSubVersion: 3\n",
      "dllRelease: 1\n",
      "osVersion: Windows95/WindowsNT\n",
      "osRelease: 0\n"
     ]
    }
   ],
   "source": [
    "for field, ct in CANapAPI.version_t._fields_:\n",
    "    print(\"{}: {}\".format(field,getattr(ver,field)))"
   ]
  },
  {
   "cell_type": "code",
   "execution_count": 14,
   "metadata": {
    "collapsed": false
   },
   "outputs": [
    {
     "data": {
      "text/plain": [
       "CANapAPI.struct_tAsap3Hdl"
      ]
     },
     "execution_count": 14,
     "metadata": {},
     "output_type": "execute_result"
    }
   ],
   "source": [
    "CANapAPI.tAsap3Hdl"
   ]
  },
  {
   "cell_type": "code",
   "execution_count": 15,
   "metadata": {
    "collapsed": false
   },
   "outputs": [
    {
     "data": {
      "text/plain": [
       "CANapAPI.LP_struct_tAsap3Hdl"
      ]
     },
     "execution_count": 15,
     "metadata": {},
     "output_type": "execute_result"
    }
   ],
   "source": [
    "CANapAPI.TAsap3Hdl"
   ]
  },
  {
   "cell_type": "code",
   "execution_count": 18,
   "metadata": {
    "collapsed": false
   },
   "outputs": [
    {
     "ename": "AttributeError",
     "evalue": "'module' object has no attribute 'None'",
     "output_type": "error",
     "traceback": [
      "\u001b[1;31m---------------------------------------------------------------------------\u001b[0m",
      "\u001b[1;31mAttributeError\u001b[0m                            Traceback (most recent call last)",
      "\u001b[1;32m<ipython-input-18-3f17d224071d>\u001b[0m in \u001b[0;36m<module>\u001b[1;34m()\u001b[0m\n\u001b[1;32m----> 1\u001b[1;33m \u001b[0mctypes\u001b[0m\u001b[1;33m.\u001b[0m\u001b[0mNone\u001b[0m\u001b[1;33m\u001b[0m\u001b[0m\n\u001b[0m",
      "\u001b[1;31mAttributeError\u001b[0m: 'module' object has no attribute 'None'"
     ]
    }
   ],
   "source": []
  },
  {
   "cell_type": "code",
   "execution_count": 19,
   "metadata": {
    "collapsed": false
   },
   "outputs": [],
   "source": [
    "Hdl=None\n",
    "responseTimeout=200000\n",
    "workingDir = working_directory\n",
    "fifoSize = 8192\n",
    "debugMode = True"
   ]
  },
  {
   "cell_type": "code",
   "execution_count": 24,
   "metadata": {
    "collapsed": false
   },
   "outputs": [
    {
     "data": {
      "text/plain": [
       "ctypes.c_char"
      ]
     },
     "execution_count": 24,
     "metadata": {},
     "output_type": "execute_result"
    }
   ],
   "source": [
    "ctypes.c_char"
   ]
  },
  {
   "cell_type": "code",
   "execution_count": 28,
   "metadata": {
    "collapsed": false
   },
   "outputs": [],
   "source": [
    "init=canape_api.Asap3Init\n",
    "init.argtypes = (ctypes.POINTER(CANapAPI.TAsap3Hdl),\n",
    "                 ctypes.c_ulong,\n",
    "                 ctypes.c_char_p,\n",
    "                 ctypes.c_ulong,\n",
    "                 ctypes.c_bool\n",
    "                )\n",
    "init.restype = ctypes.c_bool"
   ]
  },
  {
   "cell_type": "code",
   "execution_count": 20,
   "metadata": {
    "collapsed": false
   },
   "outputs": [
    {
     "ename": "TypeError",
     "evalue": "byref() argument must be a ctypes instance, not 'NoneType'",
     "output_type": "error",
     "traceback": [
      "\u001b[1;31m---------------------------------------------------------------------------\u001b[0m",
      "\u001b[1;31mTypeError\u001b[0m                                 Traceback (most recent call last)",
      "\u001b[1;32m<ipython-input-20-8af256acb244>\u001b[0m in \u001b[0;36m<module>\u001b[1;34m()\u001b[0m\n\u001b[1;32m----> 1\u001b[1;33m canape_api.Asap3Init(ctypes.byref(Hdl),\n\u001b[0m\u001b[0;32m      2\u001b[0m                      \u001b[0mresponseTimeout\u001b[0m\u001b[1;33m,\u001b[0m\u001b[1;33m\u001b[0m\u001b[0m\n\u001b[0;32m      3\u001b[0m                      \u001b[0mworkingDir\u001b[0m\u001b[1;33m,\u001b[0m\u001b[1;33m\u001b[0m\u001b[0m\n\u001b[0;32m      4\u001b[0m                      \u001b[0mfifoSize\u001b[0m\u001b[1;33m,\u001b[0m\u001b[1;33m\u001b[0m\u001b[0m\n\u001b[0;32m      5\u001b[0m                      debugMode)\n",
      "\u001b[1;31mTypeError\u001b[0m: byref() argument must be a ctypes instance, not 'NoneType'"
     ]
    }
   ],
   "source": [
    "canape_api.Asap3Init(ctypes.byref(Hdl),\n",
    "                     responseTimeout,\n",
    "                     workingDir,\n",
    "                     fifoSize,\n",
    "                     debugMode)"
   ]
  },
  {
   "cell_type": "code",
   "execution_count": null,
   "metadata": {
    "collapsed": false
   },
   "outputs": [],
   "source": [
    "canape_api.Asap3PopupDebugWindow(hdl)"
   ]
  },
  {
   "cell_type": "code",
   "execution_count": 63,
   "metadata": {
    "collapsed": false
   },
   "outputs": [
    {
     "data": {
      "text/plain": [
       "<CANapAPI.LP_struct_tAsap3Hdl at 0x5886800>"
      ]
     },
     "execution_count": 63,
     "metadata": {},
     "output_type": "execute_result"
    }
   ],
   "source": [
    "hdl"
   ]
  },
  {
   "cell_type": "code",
   "execution_count": null,
   "metadata": {
    "collapsed": true
   },
   "outputs": [],
   "source": []
  },
  {
   "cell_type": "code",
   "execution_count": 61,
   "metadata": {
    "collapsed": false
   },
   "outputs": [
    {
     "data": {
      "text/plain": [
       "0"
      ]
     },
     "execution_count": 61,
     "metadata": {},
     "output_type": "execute_result"
    }
   ],
   "source": [
    "canape_api.Asap3Exit(ctypes.byref(hdl))"
   ]
  },
  {
   "cell_type": "code",
   "execution_count": null,
   "metadata": {
    "collapsed": true
   },
   "outputs": [],
   "source": []
  },
  {
   "cell_type": "code",
   "execution_count": null,
   "metadata": {
    "collapsed": true
   },
   "outputs": [],
   "source": []
  },
  {
   "cell_type": "code",
   "execution_count": null,
   "metadata": {
    "collapsed": true
   },
   "outputs": [],
   "source": []
  },
  {
   "cell_type": "code",
   "execution_count": null,
   "metadata": {
    "collapsed": true
   },
   "outputs": [],
   "source": []
  },
  {
   "cell_type": "code",
   "execution_count": null,
   "metadata": {
    "collapsed": true
   },
   "outputs": [],
   "source": []
  },
  {
   "cell_type": "code",
   "execution_count": null,
   "metadata": {
    "collapsed": true
   },
   "outputs": [],
   "source": []
  },
  {
   "cell_type": "markdown",
   "metadata": {},
   "source": [
    "# Method 2: CANaptcp\n",
    "\n",
    "Connect to CANape using the TCP/IP API, directly.\n",
    "\n",
    "Pros:\n",
    "- 32 and 64-bit versions.\n",
    "- Use any version of CANape you have installed.\n",
    "- Use CANape on a remote machine.\n",
    "\n",
    "Cons:\n",
    "- Requires use of CTypes.\n",
    "- CANape must be started manually on the remote machine."
   ]
  },
  {
   "cell_type": "code",
   "execution_count": null,
   "metadata": {
    "collapsed": false
   },
   "outputs": [],
   "source": []
  },
  {
   "cell_type": "code",
   "execution_count": null,
   "metadata": {
    "collapsed": true
   },
   "outputs": [],
   "source": [
    "canape_api=ctypes.WinDLL(os.path.join(api_path,\"CANapAPI.dll\"))"
   ]
  },
  {
   "cell_type": "code",
   "execution_count": null,
   "metadata": {
    "collapsed": true
   },
   "outputs": [],
   "source": [
    "hdl = ctypes.c_uint32()"
   ]
  },
  {
   "cell_type": "code",
   "execution_count": null,
   "metadata": {
    "collapsed": false
   },
   "outputs": [],
   "source": [
    "m_WorkingDir=os.path.abspath(os.curdir)\n",
    "m_WorkingDir"
   ]
  },
  {
   "cell_type": "code",
   "execution_count": null,
   "metadata": {
    "collapsed": false
   },
   "outputs": [],
   "source": [
    "canape_api =canape_api.Asap3Init5(ctypes.byref(hdl), 20000, m_WorkingDir, 1000, 1, True, True, False, False);"
   ]
  },
  {
   "cell_type": "code",
   "execution_count": null,
   "metadata": {
    "collapsed": true
   },
   "outputs": [],
   "source": [
    "import platform"
   ]
  },
  {
   "cell_type": "code",
   "execution_count": null,
   "metadata": {
    "collapsed": false
   },
   "outputs": [],
   "source": [
    "platform.architecture()"
   ]
  }
 ],
 "metadata": {
  "kernelspec": {
   "display_name": "Python 2",
   "language": "python",
   "name": "python2"
  },
  "language_info": {
   "codemirror_mode": {
    "name": "ipython",
    "version": 2
   },
   "file_extension": ".py",
   "mimetype": "text/x-python",
   "name": "python",
   "nbconvert_exporter": "python",
   "pygments_lexer": "ipython2",
   "version": "2.7.10"
  }
 },
 "nbformat": 4,
 "nbformat_minor": 0
}
