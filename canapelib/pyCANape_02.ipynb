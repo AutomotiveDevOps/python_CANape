{
 "cells": [
  {
   "cell_type": "markdown",
   "metadata": {},
   "source": [
    "# Method 1: CANapAPI\n",
    "\n",
    "Connect to CANape using the API, directly.\n",
    "\n",
    "Pros:\n",
    "- 32 and 64-bit versions.\n",
    "- Use any version of CANape you have installed.\n",
    "- More hard core.\n",
    "\n",
    "Cons:\n",
    "- Requires use of CTypes\n",
    "- ~~I had to write everything below.~~ [Magic](https://github.com/davidjamesca/ctypesgen)"
   ]
  },
  {
   "cell_type": "code",
   "execution_count": 7,
   "metadata": {
    "collapsed": false
   },
   "outputs": [
    {
     "name": "stdout",
     "output_type": "stream",
     "text": [
      "Version:\n",
      "\tdllMainVersion: 2\n",
      "\tdllSubVersion: 3\n",
      "\tdllRelease: 1\n",
      "\tosVersion: Windows95/WindowsNT\n",
      "\tosRelease: 0\n"
     ]
    }
   ],
   "source": [
    "import ctypes\n",
    "import os\n",
    "import sys\n",
    "import tempfile\n",
    "import platform\n",
    "import CANapAPI\n",
    "#\n",
    "working_directory=os.path.abspath(tempfile.mkdtemp(suffix=\"_canape\",prefix=\"tmp_\",dir=os.curdir))\n",
    "#\n",
    "canape_path=r\"C:\\Program Files (x86)\\Vector\\CANape\\12\"\n",
    "canape_path=r\"C:\\Program Files (x86)\\Vector CANape 13\"\n",
    "canape_path=r\"C:\\Program Files (x86)\\Vector CANape 14\"\n",
    "\n",
    "api_path=os.path.join(canape_path,\"CANapeAPI\")\n",
    "\n",
    "if platform.architecture()[0] == '32bit':\n",
    "    canape_api=ctypes.WinDLL(os.path.join(api_path,\"CANapAPI.dll\"))\n",
    "else:\n",
    "    canape_api=ctypes.WinDLL(os.path.join(api_path,\"CANapAPI64.dll\"))\n",
    "\n",
    "ver = CANapAPI.version_t()\n",
    "r = canape_api.Asap3GetVersion(ctypes.byref(ver))\n",
    "print(\"Version:\")\n",
    "for field, ct in CANapAPI.version_t._fields_:\n",
    "    print(\"\\t{}: {}\".format(field,getattr(ver,field)))"
   ]
  },
  {
   "cell_type": "markdown",
   "metadata": {},
   "source": [
    "### Asap3Init\n",
    "\n",
    "| Parameter       | Input  | Description                                                                                                                                                                                                                             |\n",
    "|-----------------|--------|-----------------------------------------------------------------------------------------------------------------------------------------------------------------------------------------------------------------------------------------|\n",
    "| hdl             | Output | Asap3Handle for further access to this interface.                                                                                                                                                                                       |\n",
    "| responseTimeout | Input  | Maximum response time (ms)                                                                                                                                                                                                              |\n",
    "| workingDir      | Input  | Sets CANape working directory. By default the project file CANape.INI is saved at the working directory used for the CANape session. If you want to load a different project file. please append the project file name to 'workingDir'. |\n",
    "| fifoSize        | Input  | Total size of FIFO used for data acquisition, i.e. number of FIFO entries which can be read out using Asap3GetNextSample(). Each FIFO entry includes at most ACQ_MAX_VALUES=128 measurement values.                                     |\n",
    "| debugMode       | Input  | If this is true call CANape in 'normal' screen size instead of 'minimized'.   If it is false call CANape in 'minimized' mode.                                                                                                           |"
   ]
  },
  {
   "cell_type": "code",
   "execution_count": 9,
   "metadata": {
    "collapsed": false
   },
   "outputs": [
    {
     "data": {
      "text/plain": [
       "1"
      ]
     },
     "execution_count": 9,
     "metadata": {},
     "output_type": "execute_result"
    }
   ],
   "source": [
    "Hdl=CANapAPI.TAsap3Hdl()\n",
    "responseTimeout=200000\n",
    "workingDir = working_directory\n",
    "fifoSize = 512\n",
    "debugMode = True\n",
    "# Init 1\n",
    "canape_api.Asap3Init(ctypes.byref(Hdl),\n",
    "                     responseTimeout,\n",
    "                     workingDir,\n",
    "                     fifoSize,\n",
    "                     debugMode)\n",
    "canape_api.Asap3Exit(Hdl)"
   ]
  },
  {
   "cell_type": "markdown",
   "metadata": {},
   "source": [
    "### Asap3Init2\n",
    "Adds ```sampleSize```. The maximum number of measurement values per FIFO entry.\n",
    "The maximum number of measurement values per FIFO entry is 256. "
   ]
  },
  {
   "cell_type": "code",
   "execution_count": 17,
   "metadata": {
    "collapsed": false
   },
   "outputs": [
    {
     "data": {
      "text/plain": [
       "1"
      ]
     },
     "execution_count": 17,
     "metadata": {},
     "output_type": "execute_result"
    }
   ],
   "source": [
    "sampleSize=128\n",
    "# Init 2\n",
    "canape_api.Asap3Init2(ctypes.byref(Hdl),\n",
    "                      responseTimeout,\n",
    "                      workingDir,\n",
    "                      fifoSize,\n",
    "                      sampleSize,\n",
    "                      debugMode)\n",
    "canape_api.Asap3Exit(Hdl)"
   ]
  },
  {
   "cell_type": "markdown",
   "metadata": {
    "collapsed": false
   },
   "source": [
    "### Asap3Init3\n",
    "Adds ```clearDeviceList```. The device list of CANape is only cleared if the value of clearDeviceList is 'True'.\n",
    "\n",
    "| ```clearDeviceList=True```  | Clear the devices in the .ini.       |\n",
    "|-----------------------------|--------------------------------------|\n",
    "| ```clearDeviceList=False``` | Don't clear the devices in the .ini. |"
   ]
  },
  {
   "cell_type": "code",
   "execution_count": 40,
   "metadata": {
    "collapsed": false
   },
   "outputs": [
    {
     "data": {
      "text/plain": [
       "1"
      ]
     },
     "execution_count": 40,
     "metadata": {},
     "output_type": "execute_result"
    }
   ],
   "source": [
    "clearDeviceList=True\n",
    "canape_api.Asap3Init3(ctypes.byref(Hdl),\n",
    "                      responseTimeout,\n",
    "                      workingDir,\n",
    "                      fifoSize,\n",
    "                      sampleSize,\n",
    "                      debugMode,\n",
    "                      clearDeviceList);\n",
    "canape_api.Asap3Exit(Hdl)"
   ]
  },
  {
   "cell_type": "markdown",
   "metadata": {},
   "source": [
    "### Asap3Init4\n",
    "Adds ```bHexmode```. CANape is started in Hexmode if value of bHexmode is 'true'. Hex is a special CANape mode to view your databases or/and hexfiles without an device.\n",
    "**In this mode data acqusition is impossible.**\n",
    "\n",
    "| ```bHexmode=True```  | CDM Editor / Vector CANape CDM Edit Mode |\n",
    "|----------------------|------------------------------------------|\n",
    "| ```bHexmode=False``` | Start CANape through the API 'normally'  |"
   ]
  },
  {
   "cell_type": "code",
   "execution_count": 34,
   "metadata": {
    "collapsed": true
   },
   "outputs": [],
   "source": [
    "bHexmode=True\n",
    "canape_api.Asap3Init4(ctypes.byref(Hdl),\n",
    "                      responseTimeout,\n",
    "                      workingDir,\n",
    "                      fifoSize,\n",
    "                      sampleSize,\n",
    "                      debugMode,\n",
    "             `         clearDeviceList,\n",
    "                      bHexmode)"
   ]
  },
  {
   "cell_type": "code",
   "execution_count": 36,
   "metadata": {
    "collapsed": false
   },
   "outputs": [
    {
     "data": {
      "text/plain": [
       "0"
      ]
     },
     "execution_count": 36,
     "metadata": {},
     "output_type": "execute_result"
    }
   ],
   "source": [
    "# Can't quit from Hexmode via the API\n",
    "canape_api.Asap3Exit(Hdl)"
   ]
  },
  {
   "cell_type": "code",
   "execution_count": 37,
   "metadata": {
    "collapsed": false
   },
   "outputs": [
    {
     "data": {
      "text/plain": [
       "1"
      ]
     },
     "execution_count": 37,
     "metadata": {},
     "output_type": "execute_result"
    }
   ],
   "source": [
    "canape_api.Asap3Exit2(Hdl, True)"
   ]
  },
  {
   "cell_type": "code",
   "execution_count": 38,
   "metadata": {
    "collapsed": false
   },
   "outputs": [
    {
     "data": {
      "text/plain": [
       "1"
      ]
     },
     "execution_count": 38,
     "metadata": {},
     "output_type": "execute_result"
    }
   ],
   "source": [
    "bHexmode=False\n",
    "canape_api.Asap3Init4(ctypes.byref(Hdl),\n",
    "                      responseTimeout,\n",
    "                      workingDir,\n",
    "                      fifoSize,\n",
    "                      sampleSize,\n",
    "                      debugMode,\n",
    "                      clearDeviceList,\n",
    "                      bHexmode);\n",
    "canape_api.Asap3Exit(Hdl)"
   ]
  },
  {
   "cell_type": "markdown",
   "metadata": {},
   "source": [
    "### Asap3Init5\n",
    "Adds ```bModalMode```. CANape is started in nonmodal mode, if value of bModalMode is 'false'.\n",
    "\n",
    "```bModalMode=True```. The same as launching CANape by double clicking on the shortcut."
   ]
  },
  {
   "cell_type": "code",
   "execution_count": 32,
   "metadata": {
    "collapsed": false
   },
   "outputs": [
    {
     "data": {
      "text/plain": [
       "1"
      ]
     },
     "execution_count": 32,
     "metadata": {},
     "output_type": "execute_result"
    }
   ],
   "source": [
    "bModalMode=True\n",
    "canape_api.Asap3Init5(ctypes.byref(Hdl),\n",
    "                      responseTimeout,\n",
    "                      workingDir,\n",
    "                      fifoSize,\n",
    "                      sampleSize,\n",
    "                      debugMode,\n",
    "                      clearDeviceList,\n",
    "                      bHexmode,\n",
    "                      bModalMode);\n",
    "canape_api.Asap3Exit(Hdl)"
   ]
  },
  {
   "cell_type": "code",
   "execution_count": 33,
   "metadata": {
    "collapsed": false
   },
   "outputs": [
    {
     "data": {
      "text/plain": [
       "1"
      ]
     },
     "execution_count": 33,
     "metadata": {},
     "output_type": "execute_result"
    }
   ],
   "source": [
    "bModalMode=False\n",
    "canape_api.Asap3Init5(ctypes.byref(Hdl),\n",
    "                      responseTimeout,\n",
    "                      workingDir,\n",
    "                      fifoSize,\n",
    "                      sampleSize,\n",
    "                      debugMode,\n",
    "                      clearDeviceList,\n",
    "                      bHexmode,\n",
    "                      bModalMode);\n",
    "canape_api.Asap3Exit(Hdl)"
   ]
  },
  {
   "cell_type": "markdown",
   "metadata": {},
   "source": [
    "### Asap3Init6\n",
    "\n",
    "Adds ```eAppType```. This paramter describes the Application (eCANAPE) which the client wants to start.\n",
    "\n",
    "```eAppType``` is of type: ```TApplicationID```. Struct with ```TApplicationType``` and Application Path."
   ]
  },
  {
   "cell_type": "code",
   "execution_count": null,
   "metadata": {
    "collapsed": true
   },
   "outputs": [],
   "source": [
    "bModalMode=False\n",
    "canape_api.Asap3Init5(ctypes.byref(Hdl),\n",
    "                      responseTimeout,\n",
    "                      workingDir,\n",
    "                      fifoSize,\n",
    "                      sampleSize,\n",
    "                      debugMode,\n",
    "                      clearDeviceList,\n",
    "                      bHexmode,\n",
    "                      bModalMode);\n",
    "canape_api.Asap3Exit(Hdl)"
   ]
  }
 ],
 "metadata": {
  "kernelspec": {
   "display_name": "Python 2",
   "language": "python",
   "name": "python2"
  },
  "language_info": {
   "codemirror_mode": {
    "name": "ipython",
    "version": 2
   },
   "file_extension": ".py",
   "mimetype": "text/x-python",
   "name": "python",
   "nbconvert_exporter": "python",
   "pygments_lexer": "ipython2",
   "version": "2.7.10"
  }
 },
 "nbformat": 4,
 "nbformat_minor": 0
}
