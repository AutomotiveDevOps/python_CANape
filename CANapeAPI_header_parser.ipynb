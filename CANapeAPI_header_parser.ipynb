{
 "cells": [
  {
   "cell_type": "code",
   "execution_count": 65,
   "metadata": {},
   "outputs": [],
   "source": [
    "import os\n",
    "import ctypes\n",
    "__here__ = os.path.abspath(\".\")\n",
    "\n",
    "import pygccxml\n",
    "\n",
    "from pygccxml import utils\n",
    "from pygccxml import declarations\n",
    "from pygccxml import parser\n",
    "import os\n",
    "import subprocess\n",
    "\n",
    "# Configure the xml generator\n",
    "try:\n",
    "    gcc_path = subprocess.check_output([\"where\", \"gcc\"]).decode(\"UTF-8\").strip()\n",
    "    gcc_path = os.path.abspath(gcc_path)\n",
    "    assert os.path.isfile(gcc_path)\n",
    "except subprocess.CalledProcessError:\n",
    "    pass\n",
    "\n",
    "os.chdir(r\"castxml\\bin\")\n",
    "generator_path, generator_name = utils.find_xml_generator()\n",
    "os.chdir(__here__)\n",
    "\n",
    "xml_generator_config = parser.xml_generator_configuration_t(\n",
    "    xml_generator_path=generator_path,\n",
    "    xml_generator=generator_name,\n",
    "    compiler_path=gcc_path\n",
    ")"
   ]
  },
  {
   "cell_type": "code",
   "execution_count": 67,
   "metadata": {},
   "outputs": [
    {
     "name": "stderr",
     "output_type": "stream",
     "text": [
      "INFO Parsing source file \"C:\\Projects\\python_CANape\\Development\\CANapAPI.h\" ... \n"
     ]
    },
    {
     "ename": "RuntimeError",
     "evalue": "Error occurred while running CASTXML:  status:1",
     "output_type": "error",
     "traceback": [
      "\u001b[1;31m---------------------------------------------------------------------------\u001b[0m",
      "\u001b[1;31mRuntimeError\u001b[0m                              Traceback (most recent call last)",
      "\u001b[1;32m<ipython-input-67-6f4b7ed45d7c>\u001b[0m in \u001b[0;36m<module>\u001b[1;34m()\u001b[0m\n\u001b[0;32m      5\u001b[0m header_declarations = parser.parse(\n\u001b[0;32m      6\u001b[0m     \u001b[0mfiles\u001b[0m\u001b[1;33m=\u001b[0m\u001b[1;33m[\u001b[0m\u001b[0mheader\u001b[0m\u001b[1;33m]\u001b[0m\u001b[1;33m,\u001b[0m\u001b[1;33m\u001b[0m\u001b[0m\n\u001b[1;32m----> 7\u001b[1;33m     \u001b[0mconfig\u001b[0m\u001b[1;33m=\u001b[0m\u001b[0mxml_generator_config\u001b[0m\u001b[1;33m\u001b[0m\u001b[0m\n\u001b[0m\u001b[0;32m      8\u001b[0m )\n",
      "\u001b[1;32mC:\\Projects\\bootstrap_WinPython\\WinPython\\python-3.6.6.amd64\\lib\\site-packages\\pygccxml\\parser\\__init__.py\u001b[0m in \u001b[0;36mparse\u001b[1;34m(files, config, compilation_mode, cache)\u001b[0m\n\u001b[0;32m     49\u001b[0m         \u001b[0mconfig\u001b[0m \u001b[1;33m=\u001b[0m \u001b[0mxml_generator_configuration_t\u001b[0m\u001b[1;33m(\u001b[0m\u001b[1;33m)\u001b[0m\u001b[1;33m\u001b[0m\u001b[0m\n\u001b[0;32m     50\u001b[0m     \u001b[0mparser\u001b[0m \u001b[1;33m=\u001b[0m \u001b[0mproject_reader_t\u001b[0m\u001b[1;33m(\u001b[0m\u001b[0mconfig\u001b[0m\u001b[1;33m=\u001b[0m\u001b[0mconfig\u001b[0m\u001b[1;33m,\u001b[0m \u001b[0mcache\u001b[0m\u001b[1;33m=\u001b[0m\u001b[0mcache\u001b[0m\u001b[1;33m)\u001b[0m\u001b[1;33m\u001b[0m\u001b[0m\n\u001b[1;32m---> 51\u001b[1;33m     \u001b[0mdeclarations\u001b[0m \u001b[1;33m=\u001b[0m \u001b[0mparser\u001b[0m\u001b[1;33m.\u001b[0m\u001b[0mread_files\u001b[0m\u001b[1;33m(\u001b[0m\u001b[0mfiles\u001b[0m\u001b[1;33m,\u001b[0m \u001b[0mcompilation_mode\u001b[0m\u001b[1;33m)\u001b[0m\u001b[1;33m\u001b[0m\u001b[0m\n\u001b[0m\u001b[0;32m     52\u001b[0m     \u001b[0mconfig\u001b[0m\u001b[1;33m.\u001b[0m\u001b[0mxml_generator_from_xml_file\u001b[0m \u001b[1;33m=\u001b[0m \u001b[0mparser\u001b[0m\u001b[1;33m.\u001b[0m\u001b[0mxml_generator_from_xml_file\u001b[0m\u001b[1;33m\u001b[0m\u001b[0m\n\u001b[0;32m     53\u001b[0m     \u001b[1;32mreturn\u001b[0m \u001b[0mdeclarations\u001b[0m\u001b[1;33m\u001b[0m\u001b[0m\n",
      "\u001b[1;32mC:\\Projects\\bootstrap_WinPython\\WinPython\\python-3.6.6.amd64\\lib\\site-packages\\pygccxml\\parser\\project_reader.py\u001b[0m in \u001b[0;36mread_files\u001b[1;34m(self, files, compilation_mode)\u001b[0m\n\u001b[0;32m    262\u001b[0m                     \"FILE_BY_FILE mode.\"])\n\u001b[0;32m    263\u001b[0m                 \u001b[0mself\u001b[0m\u001b[1;33m.\u001b[0m\u001b[0mlogger\u001b[0m\u001b[1;33m.\u001b[0m\u001b[0mwarning\u001b[0m\u001b[1;33m(\u001b[0m\u001b[0mmsg\u001b[0m\u001b[1;33m)\u001b[0m\u001b[1;33m\u001b[0m\u001b[0m\n\u001b[1;32m--> 264\u001b[1;33m             \u001b[1;32mreturn\u001b[0m \u001b[0mself\u001b[0m\u001b[1;33m.\u001b[0m\u001b[0m__parse_file_by_file\u001b[0m\u001b[1;33m(\u001b[0m\u001b[0mfiles\u001b[0m\u001b[1;33m)\u001b[0m\u001b[1;33m\u001b[0m\u001b[0m\n\u001b[0m\u001b[0;32m    265\u001b[0m \u001b[1;33m\u001b[0m\u001b[0m\n\u001b[0;32m    266\u001b[0m     \u001b[1;32mdef\u001b[0m \u001b[0m__parse_file_by_file\u001b[0m\u001b[1;33m(\u001b[0m\u001b[0mself\u001b[0m\u001b[1;33m,\u001b[0m \u001b[0mfiles\u001b[0m\u001b[1;33m)\u001b[0m\u001b[1;33m:\u001b[0m\u001b[1;33m\u001b[0m\u001b[0m\n",
      "\u001b[1;32mC:\\Projects\\bootstrap_WinPython\\WinPython\\python-3.6.6.amd64\\lib\\site-packages\\pygccxml\\parser\\project_reader.py\u001b[0m in \u001b[0;36m__parse_file_by_file\u001b[1;34m(self, files)\u001b[0m\n\u001b[0;32m    290\u001b[0m                     \u001b[0mfile_configuration_t\u001b[0m\u001b[1;33m.\u001b[0m\u001b[0mCONTENT_TYPE\u001b[0m\u001b[1;33m.\u001b[0m\u001b[0mSTANDARD_SOURCE_FILE\u001b[0m\u001b[1;33m:\u001b[0m\u001b[1;33m\u001b[0m\u001b[0m\n\u001b[0;32m    291\u001b[0m                 \u001b[0mself\u001b[0m\u001b[1;33m.\u001b[0m\u001b[0mlogger\u001b[0m\u001b[1;33m.\u001b[0m\u001b[0minfo\u001b[0m\u001b[1;33m(\u001b[0m\u001b[1;34m'Parsing source file \"%s\" ... '\u001b[0m\u001b[1;33m,\u001b[0m \u001b[0mheader\u001b[0m\u001b[1;33m)\u001b[0m\u001b[1;33m\u001b[0m\u001b[0m\n\u001b[1;32m--> 292\u001b[1;33m                 \u001b[0mdecls\u001b[0m \u001b[1;33m=\u001b[0m \u001b[0mreader\u001b[0m\u001b[1;33m.\u001b[0m\u001b[0mread_file\u001b[0m\u001b[1;33m(\u001b[0m\u001b[0mheader\u001b[0m\u001b[1;33m)\u001b[0m\u001b[1;33m\u001b[0m\u001b[0m\n\u001b[0m\u001b[0;32m    293\u001b[0m             \u001b[1;32melif\u001b[0m \u001b[0mcontent_type\u001b[0m \u001b[1;33m==\u001b[0m\u001b[0;31m \u001b[0m\u001b[0;31m\\\u001b[0m\u001b[1;33m\u001b[0m\u001b[0m\n\u001b[0;32m    294\u001b[0m                     \u001b[0mfile_configuration_t\u001b[0m\u001b[1;33m.\u001b[0m\u001b[0mCONTENT_TYPE\u001b[0m\u001b[1;33m.\u001b[0m\u001b[0mGCCXML_GENERATED_FILE\u001b[0m\u001b[1;33m:\u001b[0m\u001b[1;33m\u001b[0m\u001b[0m\n",
      "\u001b[1;32mC:\\Projects\\bootstrap_WinPython\\WinPython\\python-3.6.6.amd64\\lib\\site-packages\\pygccxml\\parser\\source_reader.py\u001b[0m in \u001b[0;36mread_file\u001b[1;34m(self, source_file)\u001b[0m\n\u001b[0;32m    354\u001b[0m \u001b[1;33m\u001b[0m\u001b[0m\n\u001b[0;32m    355\u001b[0m     \u001b[1;32mdef\u001b[0m \u001b[0mread_file\u001b[0m\u001b[1;33m(\u001b[0m\u001b[0mself\u001b[0m\u001b[1;33m,\u001b[0m \u001b[0msource_file\u001b[0m\u001b[1;33m)\u001b[0m\u001b[1;33m:\u001b[0m\u001b[1;33m\u001b[0m\u001b[0m\n\u001b[1;32m--> 356\u001b[1;33m         \u001b[1;32mreturn\u001b[0m \u001b[0mself\u001b[0m\u001b[1;33m.\u001b[0m\u001b[0mread_cpp_source_file\u001b[0m\u001b[1;33m(\u001b[0m\u001b[0msource_file\u001b[0m\u001b[1;33m)\u001b[0m\u001b[1;33m\u001b[0m\u001b[0m\n\u001b[0m\u001b[0;32m    357\u001b[0m \u001b[1;33m\u001b[0m\u001b[0m\n\u001b[0;32m    358\u001b[0m     \u001b[1;32mdef\u001b[0m \u001b[0mread_cpp_source_file\u001b[0m\u001b[1;33m(\u001b[0m\u001b[0mself\u001b[0m\u001b[1;33m,\u001b[0m \u001b[0msource_file\u001b[0m\u001b[1;33m)\u001b[0m\u001b[1;33m:\u001b[0m\u001b[1;33m\u001b[0m\u001b[0m\n",
      "\u001b[1;32mC:\\Projects\\bootstrap_WinPython\\WinPython\\python-3.6.6.amd64\\lib\\site-packages\\pygccxml\\parser\\source_reader.py\u001b[0m in \u001b[0;36mread_cpp_source_file\u001b[1;34m(self, source_file)\u001b[0m\n\u001b[0;32m    373\u001b[0m                 self.logger.debug(\n\u001b[0;32m    374\u001b[0m                     \"File has not been found in cache, parsing...\")\n\u001b[1;32m--> 375\u001b[1;33m                 \u001b[0mxml_file\u001b[0m \u001b[1;33m=\u001b[0m \u001b[0mself\u001b[0m\u001b[1;33m.\u001b[0m\u001b[0mcreate_xml_file\u001b[0m\u001b[1;33m(\u001b[0m\u001b[0mffname\u001b[0m\u001b[1;33m)\u001b[0m\u001b[1;33m\u001b[0m\u001b[0m\n\u001b[0m\u001b[0;32m    376\u001b[0m                 \u001b[0mdecls\u001b[0m\u001b[1;33m,\u001b[0m \u001b[0mfiles\u001b[0m \u001b[1;33m=\u001b[0m \u001b[0mself\u001b[0m\u001b[1;33m.\u001b[0m\u001b[0m__parse_xml_file\u001b[0m\u001b[1;33m(\u001b[0m\u001b[0mxml_file\u001b[0m\u001b[1;33m)\u001b[0m\u001b[1;33m\u001b[0m\u001b[0m\n\u001b[0;32m    377\u001b[0m                 self.__dcache.update(\n",
      "\u001b[1;32mC:\\Projects\\bootstrap_WinPython\\WinPython\\python-3.6.6.amd64\\lib\\site-packages\\pygccxml\\parser\\source_reader.py\u001b[0m in \u001b[0;36mcreate_xml_file\u001b[1;34m(self, source_file, destination)\u001b[0m\n\u001b[0;32m    322\u001b[0m                             \u001b[1;34m\"Error occurred while running \"\u001b[0m \u001b[1;33m+\u001b[0m\u001b[1;33m\u001b[0m\u001b[0m\n\u001b[0;32m    323\u001b[0m                             \u001b[0mself\u001b[0m\u001b[1;33m.\u001b[0m\u001b[0m__config\u001b[0m\u001b[1;33m.\u001b[0m\u001b[0mxml_generator\u001b[0m\u001b[1;33m.\u001b[0m\u001b[0mupper\u001b[0m\u001b[1;33m(\u001b[0m\u001b[1;33m)\u001b[0m \u001b[1;33m+\u001b[0m\u001b[1;33m\u001b[0m\u001b[0m\n\u001b[1;32m--> 324\u001b[1;33m                             \": %s status:%s\" % (gccxml_msg, exit_status))\n\u001b[0m\u001b[0;32m    325\u001b[0m         \u001b[1;32mexcept\u001b[0m \u001b[0mException\u001b[0m\u001b[1;33m:\u001b[0m\u001b[1;33m\u001b[0m\u001b[0m\n\u001b[0;32m    326\u001b[0m             \u001b[0mutils\u001b[0m\u001b[1;33m.\u001b[0m\u001b[0mremove_file_no_raise\u001b[0m\u001b[1;33m(\u001b[0m\u001b[0mxml_file\u001b[0m\u001b[1;33m,\u001b[0m \u001b[0mself\u001b[0m\u001b[1;33m.\u001b[0m\u001b[0m__config\u001b[0m\u001b[1;33m)\u001b[0m\u001b[1;33m\u001b[0m\u001b[0m\n",
      "\u001b[1;31mRuntimeError\u001b[0m: Error occurred while running CASTXML:  status:1"
     ]
    }
   ],
   "source": [
    "header = os.path.abspath(\"Development/CANapAPI.h\")\n",
    "\n",
    "os.path.exists(header)\n",
    "\n",
    "header_declarations = parser.parse(\n",
    "    files=[header],\n",
    "    config=xml_generator_config\n",
    ")"
   ]
  },
  {
   "cell_type": "markdown",
   "metadata": {},
   "source": [
    "fatal error: too many errors emitted, stopping now [-ferror-limit=]\n",
    "2 warnings and 20 errors generated."
   ]
  },
  {
   "cell_type": "code",
   "execution_count": 68,
   "metadata": {},
   "outputs": [],
   "source": [
    "with open(header, \"r\") as fid:\n",
    "    data = fid.read()"
   ]
  },
  {
   "cell_type": "code",
   "execution_count": 69,
   "metadata": {},
   "outputs": [],
   "source": [
    "include_fix = \"\"\"\n",
    "#include <windows.h>\n",
    "#include <iostream.h>\n",
    "#include <stdio.h>\n",
    "#include <conio.h>\n",
    "#include <time.h>\n",
    "#include <dos.h>\n",
    "#include <limits.h>\n",
    "#include <float.h>\n",
    "\"\"\""
   ]
  },
  {
   "cell_type": "code",
   "execution_count": 70,
   "metadata": {},
   "outputs": [],
   "source": [
    "header_fix = \"\"\"\n",
    "#define _MAX_PATH 256\n",
    "#define MAX_PATH 256\n",
    "#define CALLBACK __stdcall\n",
    "typedef int BOOL;\n",
    "typedef unsigned long DWORD;\n",
    "typedef unsigned char BYTE;\n",
    "typedef BYTE BOOLEAN;\n",
    "typedef unsigned int UINT;\n",
    "typedef unsigned long ULONG_PTR;\n",
    "typedef ULONG_PTR DWORD_PTR;\n",
    "#define NULL 0\n",
    "\"\"\""
   ]
  },
  {
   "cell_type": "code",
   "execution_count": 71,
   "metadata": {},
   "outputs": [
    {
     "data": {
      "text/plain": [
       "('C:\\\\Projects\\\\python_CANape\\\\Development\\\\CANapAPI', '.h')"
      ]
     },
     "execution_count": 71,
     "metadata": {},
     "output_type": "execute_result"
    }
   ],
   "source": [
    "os.path.splitext(header)"
   ]
  },
  {
   "cell_type": "code",
   "execution_count": 72,
   "metadata": {},
   "outputs": [],
   "source": [
    "base, ext = os.path.splitext(header)\n",
    "header2 = os.path.abspath(f\"{base}2{ext}\")"
   ]
  },
  {
   "cell_type": "code",
   "execution_count": 73,
   "metadata": {},
   "outputs": [],
   "source": [
    "fid = open(header2, \"w\")"
   ]
  },
  {
   "cell_type": "code",
   "execution_count": 74,
   "metadata": {},
   "outputs": [
    {
     "data": {
      "text/plain": [
       "156"
      ]
     },
     "execution_count": 74,
     "metadata": {},
     "output_type": "execute_result"
    }
   ],
   "source": [
    "fid.write(include_fix)"
   ]
  },
  {
   "cell_type": "code",
   "execution_count": 75,
   "metadata": {},
   "outputs": [
    {
     "data": {
      "text/plain": [
       "140766"
      ]
     },
     "execution_count": 75,
     "metadata": {},
     "output_type": "execute_result"
    }
   ],
   "source": [
    "fid.write(data)"
   ]
  },
  {
   "cell_type": "code",
   "execution_count": 76,
   "metadata": {},
   "outputs": [],
   "source": [
    "fid.close()"
   ]
  },
  {
   "cell_type": "code",
   "execution_count": 78,
   "metadata": {},
   "outputs": [
    {
     "name": "stderr",
     "output_type": "stream",
     "text": [
      "INFO Parsing source file \"C:\\Projects\\python_CANape\\Development\\CANapAPI2.h\" ... \n"
     ]
    },
    {
     "ename": "RuntimeError",
     "evalue": "Error occurred while running CASTXML:  status:1",
     "output_type": "error",
     "traceback": [
      "\u001b[1;31m---------------------------------------------------------------------------\u001b[0m",
      "\u001b[1;31mRuntimeError\u001b[0m                              Traceback (most recent call last)",
      "\u001b[1;32m<ipython-input-78-fe1e3b1d1507>\u001b[0m in \u001b[0;36m<module>\u001b[1;34m()\u001b[0m\n\u001b[0;32m      1\u001b[0m header_declarations = parser.parse(\n\u001b[0;32m      2\u001b[0m     \u001b[0mfiles\u001b[0m\u001b[1;33m=\u001b[0m\u001b[1;33m[\u001b[0m\u001b[0mheader2\u001b[0m\u001b[1;33m]\u001b[0m\u001b[1;33m,\u001b[0m\u001b[1;33m\u001b[0m\u001b[0m\n\u001b[1;32m----> 3\u001b[1;33m     \u001b[0mconfig\u001b[0m\u001b[1;33m=\u001b[0m\u001b[0mxml_generator_config\u001b[0m\u001b[1;33m\u001b[0m\u001b[0m\n\u001b[0m\u001b[0;32m      4\u001b[0m )\n",
      "\u001b[1;32mC:\\Projects\\bootstrap_WinPython\\WinPython\\python-3.6.6.amd64\\lib\\site-packages\\pygccxml\\parser\\__init__.py\u001b[0m in \u001b[0;36mparse\u001b[1;34m(files, config, compilation_mode, cache)\u001b[0m\n\u001b[0;32m     49\u001b[0m         \u001b[0mconfig\u001b[0m \u001b[1;33m=\u001b[0m \u001b[0mxml_generator_configuration_t\u001b[0m\u001b[1;33m(\u001b[0m\u001b[1;33m)\u001b[0m\u001b[1;33m\u001b[0m\u001b[0m\n\u001b[0;32m     50\u001b[0m     \u001b[0mparser\u001b[0m \u001b[1;33m=\u001b[0m \u001b[0mproject_reader_t\u001b[0m\u001b[1;33m(\u001b[0m\u001b[0mconfig\u001b[0m\u001b[1;33m=\u001b[0m\u001b[0mconfig\u001b[0m\u001b[1;33m,\u001b[0m \u001b[0mcache\u001b[0m\u001b[1;33m=\u001b[0m\u001b[0mcache\u001b[0m\u001b[1;33m)\u001b[0m\u001b[1;33m\u001b[0m\u001b[0m\n\u001b[1;32m---> 51\u001b[1;33m     \u001b[0mdeclarations\u001b[0m \u001b[1;33m=\u001b[0m \u001b[0mparser\u001b[0m\u001b[1;33m.\u001b[0m\u001b[0mread_files\u001b[0m\u001b[1;33m(\u001b[0m\u001b[0mfiles\u001b[0m\u001b[1;33m,\u001b[0m \u001b[0mcompilation_mode\u001b[0m\u001b[1;33m)\u001b[0m\u001b[1;33m\u001b[0m\u001b[0m\n\u001b[0m\u001b[0;32m     52\u001b[0m     \u001b[0mconfig\u001b[0m\u001b[1;33m.\u001b[0m\u001b[0mxml_generator_from_xml_file\u001b[0m \u001b[1;33m=\u001b[0m \u001b[0mparser\u001b[0m\u001b[1;33m.\u001b[0m\u001b[0mxml_generator_from_xml_file\u001b[0m\u001b[1;33m\u001b[0m\u001b[0m\n\u001b[0;32m     53\u001b[0m     \u001b[1;32mreturn\u001b[0m \u001b[0mdeclarations\u001b[0m\u001b[1;33m\u001b[0m\u001b[0m\n",
      "\u001b[1;32mC:\\Projects\\bootstrap_WinPython\\WinPython\\python-3.6.6.amd64\\lib\\site-packages\\pygccxml\\parser\\project_reader.py\u001b[0m in \u001b[0;36mread_files\u001b[1;34m(self, files, compilation_mode)\u001b[0m\n\u001b[0;32m    262\u001b[0m                     \"FILE_BY_FILE mode.\"])\n\u001b[0;32m    263\u001b[0m                 \u001b[0mself\u001b[0m\u001b[1;33m.\u001b[0m\u001b[0mlogger\u001b[0m\u001b[1;33m.\u001b[0m\u001b[0mwarning\u001b[0m\u001b[1;33m(\u001b[0m\u001b[0mmsg\u001b[0m\u001b[1;33m)\u001b[0m\u001b[1;33m\u001b[0m\u001b[0m\n\u001b[1;32m--> 264\u001b[1;33m             \u001b[1;32mreturn\u001b[0m \u001b[0mself\u001b[0m\u001b[1;33m.\u001b[0m\u001b[0m__parse_file_by_file\u001b[0m\u001b[1;33m(\u001b[0m\u001b[0mfiles\u001b[0m\u001b[1;33m)\u001b[0m\u001b[1;33m\u001b[0m\u001b[0m\n\u001b[0m\u001b[0;32m    265\u001b[0m \u001b[1;33m\u001b[0m\u001b[0m\n\u001b[0;32m    266\u001b[0m     \u001b[1;32mdef\u001b[0m \u001b[0m__parse_file_by_file\u001b[0m\u001b[1;33m(\u001b[0m\u001b[0mself\u001b[0m\u001b[1;33m,\u001b[0m \u001b[0mfiles\u001b[0m\u001b[1;33m)\u001b[0m\u001b[1;33m:\u001b[0m\u001b[1;33m\u001b[0m\u001b[0m\n",
      "\u001b[1;32mC:\\Projects\\bootstrap_WinPython\\WinPython\\python-3.6.6.amd64\\lib\\site-packages\\pygccxml\\parser\\project_reader.py\u001b[0m in \u001b[0;36m__parse_file_by_file\u001b[1;34m(self, files)\u001b[0m\n\u001b[0;32m    290\u001b[0m                     \u001b[0mfile_configuration_t\u001b[0m\u001b[1;33m.\u001b[0m\u001b[0mCONTENT_TYPE\u001b[0m\u001b[1;33m.\u001b[0m\u001b[0mSTANDARD_SOURCE_FILE\u001b[0m\u001b[1;33m:\u001b[0m\u001b[1;33m\u001b[0m\u001b[0m\n\u001b[0;32m    291\u001b[0m                 \u001b[0mself\u001b[0m\u001b[1;33m.\u001b[0m\u001b[0mlogger\u001b[0m\u001b[1;33m.\u001b[0m\u001b[0minfo\u001b[0m\u001b[1;33m(\u001b[0m\u001b[1;34m'Parsing source file \"%s\" ... '\u001b[0m\u001b[1;33m,\u001b[0m \u001b[0mheader\u001b[0m\u001b[1;33m)\u001b[0m\u001b[1;33m\u001b[0m\u001b[0m\n\u001b[1;32m--> 292\u001b[1;33m                 \u001b[0mdecls\u001b[0m \u001b[1;33m=\u001b[0m \u001b[0mreader\u001b[0m\u001b[1;33m.\u001b[0m\u001b[0mread_file\u001b[0m\u001b[1;33m(\u001b[0m\u001b[0mheader\u001b[0m\u001b[1;33m)\u001b[0m\u001b[1;33m\u001b[0m\u001b[0m\n\u001b[0m\u001b[0;32m    293\u001b[0m             \u001b[1;32melif\u001b[0m \u001b[0mcontent_type\u001b[0m \u001b[1;33m==\u001b[0m\u001b[0;31m \u001b[0m\u001b[0;31m\\\u001b[0m\u001b[1;33m\u001b[0m\u001b[0m\n\u001b[0;32m    294\u001b[0m                     \u001b[0mfile_configuration_t\u001b[0m\u001b[1;33m.\u001b[0m\u001b[0mCONTENT_TYPE\u001b[0m\u001b[1;33m.\u001b[0m\u001b[0mGCCXML_GENERATED_FILE\u001b[0m\u001b[1;33m:\u001b[0m\u001b[1;33m\u001b[0m\u001b[0m\n",
      "\u001b[1;32mC:\\Projects\\bootstrap_WinPython\\WinPython\\python-3.6.6.amd64\\lib\\site-packages\\pygccxml\\parser\\source_reader.py\u001b[0m in \u001b[0;36mread_file\u001b[1;34m(self, source_file)\u001b[0m\n\u001b[0;32m    354\u001b[0m \u001b[1;33m\u001b[0m\u001b[0m\n\u001b[0;32m    355\u001b[0m     \u001b[1;32mdef\u001b[0m \u001b[0mread_file\u001b[0m\u001b[1;33m(\u001b[0m\u001b[0mself\u001b[0m\u001b[1;33m,\u001b[0m \u001b[0msource_file\u001b[0m\u001b[1;33m)\u001b[0m\u001b[1;33m:\u001b[0m\u001b[1;33m\u001b[0m\u001b[0m\n\u001b[1;32m--> 356\u001b[1;33m         \u001b[1;32mreturn\u001b[0m \u001b[0mself\u001b[0m\u001b[1;33m.\u001b[0m\u001b[0mread_cpp_source_file\u001b[0m\u001b[1;33m(\u001b[0m\u001b[0msource_file\u001b[0m\u001b[1;33m)\u001b[0m\u001b[1;33m\u001b[0m\u001b[0m\n\u001b[0m\u001b[0;32m    357\u001b[0m \u001b[1;33m\u001b[0m\u001b[0m\n\u001b[0;32m    358\u001b[0m     \u001b[1;32mdef\u001b[0m \u001b[0mread_cpp_source_file\u001b[0m\u001b[1;33m(\u001b[0m\u001b[0mself\u001b[0m\u001b[1;33m,\u001b[0m \u001b[0msource_file\u001b[0m\u001b[1;33m)\u001b[0m\u001b[1;33m:\u001b[0m\u001b[1;33m\u001b[0m\u001b[0m\n",
      "\u001b[1;32mC:\\Projects\\bootstrap_WinPython\\WinPython\\python-3.6.6.amd64\\lib\\site-packages\\pygccxml\\parser\\source_reader.py\u001b[0m in \u001b[0;36mread_cpp_source_file\u001b[1;34m(self, source_file)\u001b[0m\n\u001b[0;32m    373\u001b[0m                 self.logger.debug(\n\u001b[0;32m    374\u001b[0m                     \"File has not been found in cache, parsing...\")\n\u001b[1;32m--> 375\u001b[1;33m                 \u001b[0mxml_file\u001b[0m \u001b[1;33m=\u001b[0m \u001b[0mself\u001b[0m\u001b[1;33m.\u001b[0m\u001b[0mcreate_xml_file\u001b[0m\u001b[1;33m(\u001b[0m\u001b[0mffname\u001b[0m\u001b[1;33m)\u001b[0m\u001b[1;33m\u001b[0m\u001b[0m\n\u001b[0m\u001b[0;32m    376\u001b[0m                 \u001b[0mdecls\u001b[0m\u001b[1;33m,\u001b[0m \u001b[0mfiles\u001b[0m \u001b[1;33m=\u001b[0m \u001b[0mself\u001b[0m\u001b[1;33m.\u001b[0m\u001b[0m__parse_xml_file\u001b[0m\u001b[1;33m(\u001b[0m\u001b[0mxml_file\u001b[0m\u001b[1;33m)\u001b[0m\u001b[1;33m\u001b[0m\u001b[0m\n\u001b[0;32m    377\u001b[0m                 self.__dcache.update(\n",
      "\u001b[1;32mC:\\Projects\\bootstrap_WinPython\\WinPython\\python-3.6.6.amd64\\lib\\site-packages\\pygccxml\\parser\\source_reader.py\u001b[0m in \u001b[0;36mcreate_xml_file\u001b[1;34m(self, source_file, destination)\u001b[0m\n\u001b[0;32m    322\u001b[0m                             \u001b[1;34m\"Error occurred while running \"\u001b[0m \u001b[1;33m+\u001b[0m\u001b[1;33m\u001b[0m\u001b[0m\n\u001b[0;32m    323\u001b[0m                             \u001b[0mself\u001b[0m\u001b[1;33m.\u001b[0m\u001b[0m__config\u001b[0m\u001b[1;33m.\u001b[0m\u001b[0mxml_generator\u001b[0m\u001b[1;33m.\u001b[0m\u001b[0mupper\u001b[0m\u001b[1;33m(\u001b[0m\u001b[1;33m)\u001b[0m \u001b[1;33m+\u001b[0m\u001b[1;33m\u001b[0m\u001b[0m\n\u001b[1;32m--> 324\u001b[1;33m                             \": %s status:%s\" % (gccxml_msg, exit_status))\n\u001b[0m\u001b[0;32m    325\u001b[0m         \u001b[1;32mexcept\u001b[0m \u001b[0mException\u001b[0m\u001b[1;33m:\u001b[0m\u001b[1;33m\u001b[0m\u001b[0m\n\u001b[0;32m    326\u001b[0m             \u001b[0mutils\u001b[0m\u001b[1;33m.\u001b[0m\u001b[0mremove_file_no_raise\u001b[0m\u001b[1;33m(\u001b[0m\u001b[0mxml_file\u001b[0m\u001b[1;33m,\u001b[0m \u001b[0mself\u001b[0m\u001b[1;33m.\u001b[0m\u001b[0m__config\u001b[0m\u001b[1;33m)\u001b[0m\u001b[1;33m\u001b[0m\u001b[0m\n",
      "\u001b[1;31mRuntimeError\u001b[0m: Error occurred while running CASTXML:  status:1"
     ]
    }
   ],
   "source": [
    "header_declarations = parser.parse(\n",
    "    files=[header2],\n",
    "    config=xml_generator_config\n",
    ")"
   ]
  },
  {
   "cell_type": "code",
   "execution_count": 79,
   "metadata": {
    "scrolled": true
   },
   "outputs": [
    {
     "name": "stderr",
     "output_type": "stream",
     "text": [
      "INFO Parsing source file \"C:\\Projects\\python_CANape\\Development\\CANapAPI2.h\" ... \n"
     ]
    },
    {
     "ename": "RuntimeError",
     "evalue": "Error occurred while running CASTXML:  status:1",
     "output_type": "error",
     "traceback": [
      "\u001b[1;31m---------------------------------------------------------------------------\u001b[0m",
      "\u001b[1;31mRuntimeError\u001b[0m                              Traceback (most recent call last)",
      "\u001b[1;32m<ipython-input-79-ef2113a0ca93>\u001b[0m in \u001b[0;36m<module>\u001b[1;34m()\u001b[0m\n\u001b[0;32m      4\u001b[0m header_declarations = parser.parse(\n\u001b[0;32m      5\u001b[0m     \u001b[0mfiles\u001b[0m\u001b[1;33m=\u001b[0m\u001b[1;33m[\u001b[0m\u001b[0mheader2\u001b[0m\u001b[1;33m]\u001b[0m\u001b[1;33m,\u001b[0m\u001b[1;33m\u001b[0m\u001b[0m\n\u001b[1;32m----> 6\u001b[1;33m     \u001b[0mconfig\u001b[0m\u001b[1;33m=\u001b[0m\u001b[0mxml_generator_config\u001b[0m\u001b[1;33m\u001b[0m\u001b[0m\n\u001b[0m\u001b[0;32m      7\u001b[0m )\n",
      "\u001b[1;32mC:\\Projects\\bootstrap_WinPython\\WinPython\\python-3.6.6.amd64\\lib\\site-packages\\pygccxml\\parser\\__init__.py\u001b[0m in \u001b[0;36mparse\u001b[1;34m(files, config, compilation_mode, cache)\u001b[0m\n\u001b[0;32m     49\u001b[0m         \u001b[0mconfig\u001b[0m \u001b[1;33m=\u001b[0m \u001b[0mxml_generator_configuration_t\u001b[0m\u001b[1;33m(\u001b[0m\u001b[1;33m)\u001b[0m\u001b[1;33m\u001b[0m\u001b[0m\n\u001b[0;32m     50\u001b[0m     \u001b[0mparser\u001b[0m \u001b[1;33m=\u001b[0m \u001b[0mproject_reader_t\u001b[0m\u001b[1;33m(\u001b[0m\u001b[0mconfig\u001b[0m\u001b[1;33m=\u001b[0m\u001b[0mconfig\u001b[0m\u001b[1;33m,\u001b[0m \u001b[0mcache\u001b[0m\u001b[1;33m=\u001b[0m\u001b[0mcache\u001b[0m\u001b[1;33m)\u001b[0m\u001b[1;33m\u001b[0m\u001b[0m\n\u001b[1;32m---> 51\u001b[1;33m     \u001b[0mdeclarations\u001b[0m \u001b[1;33m=\u001b[0m \u001b[0mparser\u001b[0m\u001b[1;33m.\u001b[0m\u001b[0mread_files\u001b[0m\u001b[1;33m(\u001b[0m\u001b[0mfiles\u001b[0m\u001b[1;33m,\u001b[0m \u001b[0mcompilation_mode\u001b[0m\u001b[1;33m)\u001b[0m\u001b[1;33m\u001b[0m\u001b[0m\n\u001b[0m\u001b[0;32m     52\u001b[0m     \u001b[0mconfig\u001b[0m\u001b[1;33m.\u001b[0m\u001b[0mxml_generator_from_xml_file\u001b[0m \u001b[1;33m=\u001b[0m \u001b[0mparser\u001b[0m\u001b[1;33m.\u001b[0m\u001b[0mxml_generator_from_xml_file\u001b[0m\u001b[1;33m\u001b[0m\u001b[0m\n\u001b[0;32m     53\u001b[0m     \u001b[1;32mreturn\u001b[0m \u001b[0mdeclarations\u001b[0m\u001b[1;33m\u001b[0m\u001b[0m\n",
      "\u001b[1;32mC:\\Projects\\bootstrap_WinPython\\WinPython\\python-3.6.6.amd64\\lib\\site-packages\\pygccxml\\parser\\project_reader.py\u001b[0m in \u001b[0;36mread_files\u001b[1;34m(self, files, compilation_mode)\u001b[0m\n\u001b[0;32m    262\u001b[0m                     \"FILE_BY_FILE mode.\"])\n\u001b[0;32m    263\u001b[0m                 \u001b[0mself\u001b[0m\u001b[1;33m.\u001b[0m\u001b[0mlogger\u001b[0m\u001b[1;33m.\u001b[0m\u001b[0mwarning\u001b[0m\u001b[1;33m(\u001b[0m\u001b[0mmsg\u001b[0m\u001b[1;33m)\u001b[0m\u001b[1;33m\u001b[0m\u001b[0m\n\u001b[1;32m--> 264\u001b[1;33m             \u001b[1;32mreturn\u001b[0m \u001b[0mself\u001b[0m\u001b[1;33m.\u001b[0m\u001b[0m__parse_file_by_file\u001b[0m\u001b[1;33m(\u001b[0m\u001b[0mfiles\u001b[0m\u001b[1;33m)\u001b[0m\u001b[1;33m\u001b[0m\u001b[0m\n\u001b[0m\u001b[0;32m    265\u001b[0m \u001b[1;33m\u001b[0m\u001b[0m\n\u001b[0;32m    266\u001b[0m     \u001b[1;32mdef\u001b[0m \u001b[0m__parse_file_by_file\u001b[0m\u001b[1;33m(\u001b[0m\u001b[0mself\u001b[0m\u001b[1;33m,\u001b[0m \u001b[0mfiles\u001b[0m\u001b[1;33m)\u001b[0m\u001b[1;33m:\u001b[0m\u001b[1;33m\u001b[0m\u001b[0m\n",
      "\u001b[1;32mC:\\Projects\\bootstrap_WinPython\\WinPython\\python-3.6.6.amd64\\lib\\site-packages\\pygccxml\\parser\\project_reader.py\u001b[0m in \u001b[0;36m__parse_file_by_file\u001b[1;34m(self, files)\u001b[0m\n\u001b[0;32m    290\u001b[0m                     \u001b[0mfile_configuration_t\u001b[0m\u001b[1;33m.\u001b[0m\u001b[0mCONTENT_TYPE\u001b[0m\u001b[1;33m.\u001b[0m\u001b[0mSTANDARD_SOURCE_FILE\u001b[0m\u001b[1;33m:\u001b[0m\u001b[1;33m\u001b[0m\u001b[0m\n\u001b[0;32m    291\u001b[0m                 \u001b[0mself\u001b[0m\u001b[1;33m.\u001b[0m\u001b[0mlogger\u001b[0m\u001b[1;33m.\u001b[0m\u001b[0minfo\u001b[0m\u001b[1;33m(\u001b[0m\u001b[1;34m'Parsing source file \"%s\" ... '\u001b[0m\u001b[1;33m,\u001b[0m \u001b[0mheader\u001b[0m\u001b[1;33m)\u001b[0m\u001b[1;33m\u001b[0m\u001b[0m\n\u001b[1;32m--> 292\u001b[1;33m                 \u001b[0mdecls\u001b[0m \u001b[1;33m=\u001b[0m \u001b[0mreader\u001b[0m\u001b[1;33m.\u001b[0m\u001b[0mread_file\u001b[0m\u001b[1;33m(\u001b[0m\u001b[0mheader\u001b[0m\u001b[1;33m)\u001b[0m\u001b[1;33m\u001b[0m\u001b[0m\n\u001b[0m\u001b[0;32m    293\u001b[0m             \u001b[1;32melif\u001b[0m \u001b[0mcontent_type\u001b[0m \u001b[1;33m==\u001b[0m\u001b[0;31m \u001b[0m\u001b[0;31m\\\u001b[0m\u001b[1;33m\u001b[0m\u001b[0m\n\u001b[0;32m    294\u001b[0m                     \u001b[0mfile_configuration_t\u001b[0m\u001b[1;33m.\u001b[0m\u001b[0mCONTENT_TYPE\u001b[0m\u001b[1;33m.\u001b[0m\u001b[0mGCCXML_GENERATED_FILE\u001b[0m\u001b[1;33m:\u001b[0m\u001b[1;33m\u001b[0m\u001b[0m\n",
      "\u001b[1;32mC:\\Projects\\bootstrap_WinPython\\WinPython\\python-3.6.6.amd64\\lib\\site-packages\\pygccxml\\parser\\source_reader.py\u001b[0m in \u001b[0;36mread_file\u001b[1;34m(self, source_file)\u001b[0m\n\u001b[0;32m    354\u001b[0m \u001b[1;33m\u001b[0m\u001b[0m\n\u001b[0;32m    355\u001b[0m     \u001b[1;32mdef\u001b[0m \u001b[0mread_file\u001b[0m\u001b[1;33m(\u001b[0m\u001b[0mself\u001b[0m\u001b[1;33m,\u001b[0m \u001b[0msource_file\u001b[0m\u001b[1;33m)\u001b[0m\u001b[1;33m:\u001b[0m\u001b[1;33m\u001b[0m\u001b[0m\n\u001b[1;32m--> 356\u001b[1;33m         \u001b[1;32mreturn\u001b[0m \u001b[0mself\u001b[0m\u001b[1;33m.\u001b[0m\u001b[0mread_cpp_source_file\u001b[0m\u001b[1;33m(\u001b[0m\u001b[0msource_file\u001b[0m\u001b[1;33m)\u001b[0m\u001b[1;33m\u001b[0m\u001b[0m\n\u001b[0m\u001b[0;32m    357\u001b[0m \u001b[1;33m\u001b[0m\u001b[0m\n\u001b[0;32m    358\u001b[0m     \u001b[1;32mdef\u001b[0m \u001b[0mread_cpp_source_file\u001b[0m\u001b[1;33m(\u001b[0m\u001b[0mself\u001b[0m\u001b[1;33m,\u001b[0m \u001b[0msource_file\u001b[0m\u001b[1;33m)\u001b[0m\u001b[1;33m:\u001b[0m\u001b[1;33m\u001b[0m\u001b[0m\n",
      "\u001b[1;32mC:\\Projects\\bootstrap_WinPython\\WinPython\\python-3.6.6.amd64\\lib\\site-packages\\pygccxml\\parser\\source_reader.py\u001b[0m in \u001b[0;36mread_cpp_source_file\u001b[1;34m(self, source_file)\u001b[0m\n\u001b[0;32m    373\u001b[0m                 self.logger.debug(\n\u001b[0;32m    374\u001b[0m                     \"File has not been found in cache, parsing...\")\n\u001b[1;32m--> 375\u001b[1;33m                 \u001b[0mxml_file\u001b[0m \u001b[1;33m=\u001b[0m \u001b[0mself\u001b[0m\u001b[1;33m.\u001b[0m\u001b[0mcreate_xml_file\u001b[0m\u001b[1;33m(\u001b[0m\u001b[0mffname\u001b[0m\u001b[1;33m)\u001b[0m\u001b[1;33m\u001b[0m\u001b[0m\n\u001b[0m\u001b[0;32m    376\u001b[0m                 \u001b[0mdecls\u001b[0m\u001b[1;33m,\u001b[0m \u001b[0mfiles\u001b[0m \u001b[1;33m=\u001b[0m \u001b[0mself\u001b[0m\u001b[1;33m.\u001b[0m\u001b[0m__parse_xml_file\u001b[0m\u001b[1;33m(\u001b[0m\u001b[0mxml_file\u001b[0m\u001b[1;33m)\u001b[0m\u001b[1;33m\u001b[0m\u001b[0m\n\u001b[0;32m    377\u001b[0m                 self.__dcache.update(\n",
      "\u001b[1;32mC:\\Projects\\bootstrap_WinPython\\WinPython\\python-3.6.6.amd64\\lib\\site-packages\\pygccxml\\parser\\source_reader.py\u001b[0m in \u001b[0;36mcreate_xml_file\u001b[1;34m(self, source_file, destination)\u001b[0m\n\u001b[0;32m    322\u001b[0m                             \u001b[1;34m\"Error occurred while running \"\u001b[0m \u001b[1;33m+\u001b[0m\u001b[1;33m\u001b[0m\u001b[0m\n\u001b[0;32m    323\u001b[0m                             \u001b[0mself\u001b[0m\u001b[1;33m.\u001b[0m\u001b[0m__config\u001b[0m\u001b[1;33m.\u001b[0m\u001b[0mxml_generator\u001b[0m\u001b[1;33m.\u001b[0m\u001b[0mupper\u001b[0m\u001b[1;33m(\u001b[0m\u001b[1;33m)\u001b[0m \u001b[1;33m+\u001b[0m\u001b[1;33m\u001b[0m\u001b[0m\n\u001b[1;32m--> 324\u001b[1;33m                             \": %s status:%s\" % (gccxml_msg, exit_status))\n\u001b[0m\u001b[0;32m    325\u001b[0m         \u001b[1;32mexcept\u001b[0m \u001b[0mException\u001b[0m\u001b[1;33m:\u001b[0m\u001b[1;33m\u001b[0m\u001b[0m\n\u001b[0;32m    326\u001b[0m             \u001b[0mutils\u001b[0m\u001b[1;33m.\u001b[0m\u001b[0mremove_file_no_raise\u001b[0m\u001b[1;33m(\u001b[0m\u001b[0mxml_file\u001b[0m\u001b[1;33m,\u001b[0m \u001b[0mself\u001b[0m\u001b[1;33m.\u001b[0m\u001b[0m__config\u001b[0m\u001b[1;33m)\u001b[0m\u001b[1;33m\u001b[0m\u001b[0m\n",
      "\u001b[1;31mRuntimeError\u001b[0m: Error occurred while running CASTXML:  status:1"
     ]
    }
   ],
   "source": [
    "with open(header2, \"w\") as fid:\n",
    "    fid.write(header_fix)\n",
    "    fid.write(data)\n",
    "header_declarations = parser.parse(\n",
    "    files=[header2],\n",
    "    config=xml_generator_config\n",
    ")"
   ]
  },
  {
   "cell_type": "code",
   "execution_count": 82,
   "metadata": {},
   "outputs": [
    {
     "name": "stderr",
     "output_type": "stream",
     "text": [
      "INFO Parsing source file \"C:\\Projects\\python_CANape\\Development\\CANapAPI2.h\" ... \n"
     ]
    }
   ],
   "source": [
    "header_fix = \"\"\"\n",
    "// Push these out of the way\n",
    "#define ASAP3_EXPORT\n",
    "#define CALL_CONV\n",
    "#define WINAPI\n",
    "\n",
    "// Windows Path\n",
    "#define _MAX_PATH 256\n",
    "#define MAX_PATH 256\n",
    "#define CALLBACK __stdcall\n",
    "\n",
    "// Some typedefs\n",
    "typedef int BOOL;\n",
    "typedef unsigned long DWORD;\n",
    "typedef unsigned char BYTE;\n",
    "typedef BYTE BOOLEAN;\n",
    "typedef unsigned int UINT;\n",
    "typedef unsigned long ULONG_PTR;\n",
    "typedef ULONG_PTR DWORD_PTR;\n",
    "#define NULL 0\n",
    "\"\"\"\n",
    "\n",
    "with open(header2, \"w\") as fid:\n",
    "    fid.write(header_fix)\n",
    "    fid.write(data)\n",
    "header_declarations = parser.parse(\n",
    "    files=[header2],\n",
    "    config=xml_generator_config\n",
    ")"
   ]
  },
  {
   "cell_type": "code",
   "execution_count": 86,
   "metadata": {
    "scrolled": false
   },
   "outputs": [
    {
     "name": "stdout",
     "output_type": "stream",
     "text": [
      "BOOL [typedef]\n"
     ]
    }
   ],
   "source": [
    "for typedef in ns.typedefs():\n",
    "    if typedef.name.startswith(\"_\"):\n",
    "        continue\n",
    "    print(typedef)\n",
    "    break"
   ]
  },
  {
   "cell_type": "code",
   "execution_count": 95,
   "metadata": {},
   "outputs": [
    {
     "data": {
      "text/plain": [
       "'::BOOL'"
      ]
     },
     "execution_count": 95,
     "metadata": {},
     "output_type": "execute_result"
    }
   ],
   "source": [
    "typedef.decl_string.lstrip()"
   ]
  },
  {
   "cell_type": "code",
   "execution_count": 88,
   "metadata": {},
   "outputs": [
    {
     "data": {
      "text/plain": [
       "<pygccxml.declarations.cpptypes.int_t at 0x27866cfd2e8>"
      ]
     },
     "execution_count": 88,
     "metadata": {},
     "output_type": "execute_result"
    }
   ],
   "source": [
    "typedef.decl_type"
   ]
  },
  {
   "cell_type": "code",
   "execution_count": 89,
   "metadata": {
    "scrolled": true
   },
   "outputs": [
    {
     "data": {
      "text/plain": [
       "'int'"
      ]
     },
     "execution_count": 89,
     "metadata": {},
     "output_type": "execute_result"
    }
   ],
   "source": [
    "typedef.decl_type.decl_string"
   ]
  },
  {
   "cell_type": "code",
   "execution_count": 91,
   "metadata": {},
   "outputs": [
    {
     "data": {
      "text/plain": [
       "True"
      ]
     },
     "execution_count": 91,
     "metadata": {},
     "output_type": "execute_result"
    }
   ],
   "source": [
    "hasattr(ctypes, \"c_int\")"
   ]
  },
  {
   "cell_type": "code",
   "execution_count": 94,
   "metadata": {},
   "outputs": [
    {
     "name": "stdout",
     "output_type": "stream",
     "text": [
      "c_int\n"
     ]
    }
   ],
   "source": [
    "if hasattr(ctypes, f\"c_{typedef.decl_type.decl_string}\"):\n",
    "    print(f\"c_{typedef.decl_type.decl_string}\")"
   ]
  },
  {
   "cell_type": "code",
   "execution_count": 99,
   "metadata": {},
   "outputs": [],
   "source": [
    "type_name = typedef.decl_string.lstrip(\":\")"
   ]
  },
  {
   "cell_type": "code",
   "execution_count": 101,
   "metadata": {},
   "outputs": [
    {
     "name": "stdout",
     "output_type": "stream",
     "text": [
      "BOOL=ctypes.c_int\n"
     ]
    }
   ],
   "source": [
    "print(f\"{type_name}=ctypes.c_{typedef.decl_type.decl_string}\")"
   ]
  },
  {
   "cell_type": "code",
   "execution_count": 102,
   "metadata": {},
   "outputs": [
    {
     "name": "stdout",
     "output_type": "stream",
     "text": [
      "BOOL=ctypes.c_int\n"
     ]
    }
   ],
   "source": [
    "for typedef in ns.typedefs():\n",
    "    if typedef.name.startswith(\"_\"):\n",
    "        continue\n",
    "    if hasattr(ctypes, f\"c_{typedef.decl_type.decl_string}\"):\n",
    "        print(f\"{type_name}=ctypes.c_{typedef.decl_type.decl_string}\")\n",
    "        continue\n",
    "    break"
   ]
  },
  {
   "cell_type": "code",
   "execution_count": 103,
   "metadata": {},
   "outputs": [
    {
     "data": {
      "text/plain": [
       "('::DWORD',\n",
       " <pygccxml.declarations.cpptypes.long_unsigned_int_t at 0x27866cfd4a8>,\n",
       " 'long unsigned int')"
      ]
     },
     "execution_count": 103,
     "metadata": {},
     "output_type": "execute_result"
    }
   ],
   "source": [
    "typedef.decl_string.lstrip(), typedef.decl_type, typedef.decl_type.decl_string"
   ]
  },
  {
   "cell_type": "code",
   "execution_count": 109,
   "metadata": {},
   "outputs": [],
   "source": [
    "class ctypes_typedef_gen(object):\n",
    "    def __init__(self, typedef):\n",
    "        self.typedef=typedef\n",
    "    \n",
    "    @property\n",
    "    def decl_str(self):\n",
    "        return self.typedef.decl_type.decl_string\n",
    "    \n",
    "    @property\n",
    "    def unsigned(self):\n",
    "        return \"unsigned\" in self.decl_str\n",
    "        \n",
    "    @property\n",
    "    def name(self):\n",
    "        return self.typedef.name\n",
    "    \n",
    "    @property\n",
    "    def short_name(self):\n",
    "        return self.name.split(\"_\")[0]\n",
    "    \n",
    "    @property\n",
    "    def c_type(self):\n",
    "        if hasattr(ctypes, f\"c_{self.short_name}\"):\n",
    "            return f\"c_{self.short_name}\"\n",
    "        if hasattr(ctypes, f\"c_{self.decl_str}\"):\n",
    "            return f\"c_{self.decl_str}\"\n",
    "        type_map = {\n",
    "            \"unsigned char\": \"c_ubyte\",\n",
    "            \"void *\": \"c_void_p\",\n",
    "            \"long unsigned int\": \"c_ulong\",\n",
    "        }\n",
    "        if self.decl_str in type_map:\n",
    "            return type_map[self.decl_str]\n",
    "        \n",
    "        raise Exception(f\"Unimplemented type {self.decl_str}\")\n",
    "        \n",
    "    @property\n",
    "    def python_line(self):\n",
    "        return f\"{self.name}=ctypes.{self.c_type}\"\n",
    "    def __repr__(self):\n",
    "        return \"<{}={}>\".format(self.name, self.decl_str)"
   ]
  },
  {
   "cell_type": "code",
   "execution_count": 110,
   "metadata": {},
   "outputs": [],
   "source": [
    "n = ctypes_typedef_gen(typedef)"
   ]
  },
  {
   "cell_type": "code",
   "execution_count": 111,
   "metadata": {},
   "outputs": [
    {
     "data": {
      "text/plain": [
       "'c_ulong'"
      ]
     },
     "execution_count": 111,
     "metadata": {},
     "output_type": "execute_result"
    }
   ],
   "source": [
    "n.c_type"
   ]
  },
  {
   "cell_type": "code",
   "execution_count": 116,
   "metadata": {},
   "outputs": [
    {
     "name": "stdout",
     "output_type": "stream",
     "text": [
      "BOOL=c_int\n",
      "DWORD=c_ulong\n",
      "BYTE=c_ubyte\n"
     ]
    },
    {
     "ename": "Exception",
     "evalue": "Unimplemented type ::BYTE",
     "output_type": "error",
     "traceback": [
      "\u001b[1;31m---------------------------------------------------------------------------\u001b[0m",
      "\u001b[1;31mException\u001b[0m                                 Traceback (most recent call last)",
      "\u001b[1;32m<ipython-input-116-52c6b32655fb>\u001b[0m in \u001b[0;36m<module>\u001b[1;34m()\u001b[0m\n\u001b[0;32m      3\u001b[0m         \u001b[1;32mcontinue\u001b[0m\u001b[1;33m\u001b[0m\u001b[0m\n\u001b[0;32m      4\u001b[0m     \u001b[0mn\u001b[0m \u001b[1;33m=\u001b[0m \u001b[0mctypes_typedef_gen\u001b[0m\u001b[1;33m(\u001b[0m\u001b[0mtypedef\u001b[0m\u001b[1;33m)\u001b[0m\u001b[1;33m\u001b[0m\u001b[0m\n\u001b[1;32m----> 5\u001b[1;33m     \u001b[0mprint\u001b[0m\u001b[1;33m(\u001b[0m\u001b[1;34mf\"{n.name}={n.c_type}\"\u001b[0m\u001b[1;33m)\u001b[0m\u001b[1;33m\u001b[0m\u001b[0m\n\u001b[0m\u001b[0;32m      6\u001b[0m     \u001b[1;32mcontinue\u001b[0m\u001b[1;33m\u001b[0m\u001b[0m\n\u001b[0;32m      7\u001b[0m     \u001b[1;32mif\u001b[0m \u001b[0mhasattr\u001b[0m\u001b[1;33m(\u001b[0m\u001b[0mctypes\u001b[0m\u001b[1;33m,\u001b[0m \u001b[1;34mf\"c_{typedef.decl_type.decl_string}\"\u001b[0m\u001b[1;33m)\u001b[0m\u001b[1;33m:\u001b[0m\u001b[1;33m\u001b[0m\u001b[0m\n",
      "\u001b[1;32m<ipython-input-109-81030b80c842>\u001b[0m in \u001b[0;36mc_type\u001b[1;34m(self)\u001b[0m\n\u001b[0;32m     33\u001b[0m             \u001b[1;32mreturn\u001b[0m \u001b[0mtype_map\u001b[0m\u001b[1;33m[\u001b[0m\u001b[0mself\u001b[0m\u001b[1;33m.\u001b[0m\u001b[0mdecl_str\u001b[0m\u001b[1;33m]\u001b[0m\u001b[1;33m\u001b[0m\u001b[0m\n\u001b[0;32m     34\u001b[0m \u001b[1;33m\u001b[0m\u001b[0m\n\u001b[1;32m---> 35\u001b[1;33m         \u001b[1;32mraise\u001b[0m \u001b[0mException\u001b[0m\u001b[1;33m(\u001b[0m\u001b[1;34mf\"Unimplemented type {self.decl_str}\"\u001b[0m\u001b[1;33m)\u001b[0m\u001b[1;33m\u001b[0m\u001b[0m\n\u001b[0m\u001b[0;32m     36\u001b[0m \u001b[1;33m\u001b[0m\u001b[0m\n\u001b[0;32m     37\u001b[0m     \u001b[1;33m@\u001b[0m\u001b[0mproperty\u001b[0m\u001b[1;33m\u001b[0m\u001b[0m\n",
      "\u001b[1;31mException\u001b[0m: Unimplemented type ::BYTE"
     ]
    }
   ],
   "source": [
    "deffed = list()\n",
    "for typedef in ns.typedefs():\n",
    "    if typedef.name.startswith(\"_\"):\n",
    "        continue\n",
    "    if typedef.name in deffed:\n",
    "        print(f\"{typedef.name}={deff})\n",
    "        \n",
    "    n = ctypes_typedef_gen(typedef)\n",
    "    print(f\"{n.name}={n.c_type}\")\n",
    "    deffed.append(n.name)\n",
    "    continue\n",
    "    if hasattr(ctypes, f\"c_{typedef.decl_type.decl_string}\"):\n",
    "        print(f\"{type_name}=ctypes.c_{typedef.decl_type.decl_string}\")\n",
    "        continue\n",
    "    break"
   ]
  },
  {
   "cell_type": "code",
   "execution_count": 117,
   "metadata": {},
   "outputs": [
    {
     "data": {
      "text/plain": [
       "('::BOOLEAN',\n",
       " <pygccxml.declarations.cpptypes.declarated_t at 0x27866f4dc50>,\n",
       " '::BYTE')"
      ]
     },
     "execution_count": 117,
     "metadata": {},
     "output_type": "execute_result"
    }
   ],
   "source": [
    "typedef.decl_string.lstrip(), typedef.decl_type, typedef.decl_type.decl_string"
   ]
  },
  {
   "cell_type": "code",
   "execution_count": null,
   "metadata": {},
   "outputs": [],
   "source": []
  },
  {
   "cell_type": "code",
   "execution_count": 84,
   "metadata": {},
   "outputs": [
    {
     "name": "stdout",
     "output_type": "stream",
     "text": [
      "TAsap3Hdl [typedef]\n"
     ]
    }
   ],
   "source": [
    "for decl in ns.declarations:\n",
    "    if decl.name==\"TAsap3Hdl\":\n",
    "        print(decl)\n",
    "        break"
   ]
  },
  {
   "cell_type": "code",
   "execution_count": 51,
   "metadata": {},
   "outputs": [
    {
     "name": "stdout",
     "output_type": "stream",
     "text": [
      "tAsap3Hdl [class declaration]\n"
     ]
    }
   ],
   "source": [
    "for decl in ns.declarations:\n",
    "    if decl.name==\"tAsap3Hdl\":\n",
    "        print(decl)\n",
    "        break"
   ]
  },
  {
   "cell_type": "code",
   "execution_count": 52,
   "metadata": {},
   "outputs": [
    {
     "data": {
      "text/plain": [
       "'::tAsap3Hdl'"
      ]
     },
     "execution_count": 52,
     "metadata": {},
     "output_type": "execute_result"
    }
   ],
   "source": [
    "decl.decl_string"
   ]
  },
  {
   "cell_type": "code",
   "execution_count": 56,
   "metadata": {},
   "outputs": [
    {
     "data": {
      "text/plain": [
       "False"
      ]
     },
     "execution_count": 56,
     "metadata": {},
     "output_type": "execute_result"
    }
   ],
   "source": [
    "decl."
   ]
  },
  {
   "cell_type": "code",
   "execution_count": 27,
   "metadata": {},
   "outputs": [
    {
     "data": {
      "text/plain": [
       "'long int (*)( ::TAsap3Hdl,long unsigned int )'"
      ]
     },
     "execution_count": 27,
     "metadata": {},
     "output_type": "execute_result"
    }
   ],
   "source": [
    "typedef.decl_type.decl_string"
   ]
  },
  {
   "cell_type": "code",
   "execution_count": 28,
   "metadata": {},
   "outputs": [],
   "source": [
    "subset1=list()\n",
    "subset2=list()\n",
    "for typedef in ns.typedefs():\n",
    "    if typedef.name.startswith(\"_\"):\n",
    "        continue\n",
    "    if typedef.decl_type.decl_string.startswith(\"::\"):\n",
    "        subset1.append(typedef)\n",
    "    else:\n",
    "        subset2.append(typedef)\n",
    "\n",
    "class ctypes_typedef_gen(object):\n",
    "    def __init__(self, typedef):\n",
    "        self.typedef=typedef\n",
    "    \n",
    "    @property\n",
    "    def decl_str(self):\n",
    "        return self.typedef.decl_type.decl_string\n",
    "    \n",
    "    @property\n",
    "    def unsigned(self):\n",
    "        return \"unsigned\" in self.decl_str\n",
    "        \n",
    "    @property\n",
    "    def name(self):\n",
    "        return self.typedef.name\n",
    "    \n",
    "    @property\n",
    "    def short_name(self):\n",
    "        return self.name.split(\"_\")[0]\n",
    "    \n",
    "    @property\n",
    "    def c_type(self):\n",
    "        if hasattr(ctypes, f\"c_{self.short_name}\"):\n",
    "            return f\"c_{self.short_name}\"\n",
    "        if hasattr(ctypes, f\"c_{self.decl_str}\"):\n",
    "            return f\"c_{self.decl_str}\"\n",
    "        type_map = {\n",
    "            \"unsigned char\": \"c_ubyte\",\n",
    "            \"void *\": \"c_void_p\",\n",
    "        }\n",
    "        if self.decl_str in type_map:\n",
    "            return type_map[self.decl_str]\n",
    "        \n",
    "        raise Exception(f\"Unimplemented type {self.decl_str}\")\n",
    "        \n",
    "    @property\n",
    "    def python_line(self):\n",
    "        return f\"{self.name}=ctypes.{self.c_type}\"\n",
    "    def __repr__(self):\n",
    "        return \"<{}={}>\".format(self.name, self.decl_str)"
   ]
  },
  {
   "cell_type": "code",
   "execution_count": 29,
   "metadata": {},
   "outputs": [
    {
     "data": {
      "text/plain": [
       "ctypes.c_void_p"
      ]
     },
     "execution_count": 29,
     "metadata": {},
     "output_type": "execute_result"
    }
   ],
   "source": [
    "ctypes.c_void_p"
   ]
  },
  {
   "cell_type": "code",
   "execution_count": 18,
   "metadata": {},
   "outputs": [
    {
     "data": {
      "text/plain": [
       "[<int8_T=signed char>,\n",
       " <uint8_T=unsigned char>,\n",
       " <int16_T=short int>,\n",
       " <uint16_T=short unsigned int>,\n",
       " <int32_T=int>,\n",
       " <uint32_T=unsigned int>,\n",
       " <int64_T=long long int>,\n",
       " <uint64_T=long long unsigned int>,\n",
       " <real32_T=float>,\n",
       " <real64_T=double>,\n",
       " <real_T=double>,\n",
       " <time_T=double>,\n",
       " <boolean_T=unsigned char>,\n",
       " <int_T=int>,\n",
       " <uint_T=unsigned int>,\n",
       " <ulong_T=long unsigned int>,\n",
       " <ulonglong_T=long long unsigned int>,\n",
       " <char_T=char>,\n",
       " <uchar_T=unsigned char>,\n",
       " <pointer_T=void *>]"
      ]
     },
     "execution_count": 18,
     "metadata": {},
     "output_type": "execute_result"
    }
   ],
   "source": [
    "n = [ctypes_typedef_gen(c) for c in subset2]\n",
    "n"
   ]
  },
  {
   "cell_type": "code",
   "execution_count": 23,
   "metadata": {},
   "outputs": [
    {
     "name": "stdout",
     "output_type": "stream",
     "text": [
      "int8_T=ctypes.c_int8\n",
      "uint8_T=ctypes.c_uint8\n",
      "int16_T=ctypes.c_int16\n",
      "uint16_T=ctypes.c_uint16\n",
      "int32_T=ctypes.c_int32\n",
      "uint32_T=ctypes.c_uint32\n",
      "int64_T=ctypes.c_int64\n",
      "uint64_T=ctypes.c_uint64\n",
      "real32_T=ctypes.c_float\n",
      "real64_T=ctypes.c_double\n",
      "real_T=ctypes.c_double\n",
      "time_T=ctypes.c_double\n",
      "boolean_T=ctypes.c_ubyte\n",
      "int_T=ctypes.c_int\n",
      "uint_T=ctypes.c_uint\n",
      "ulong_T=ctypes.c_ulong\n",
      "ulonglong_T=ctypes.c_ulonglong\n",
      "char_T=ctypes.c_char\n",
      "uchar_T=ctypes.c_ubyte\n",
      "pointer_T=ctypes.c_void_p\n"
     ]
    },
    {
     "data": {
      "text/plain": [
       "[None,\n",
       " None,\n",
       " None,\n",
       " None,\n",
       " None,\n",
       " None,\n",
       " None,\n",
       " None,\n",
       " None,\n",
       " None,\n",
       " None,\n",
       " None,\n",
       " None,\n",
       " None,\n",
       " None,\n",
       " None,\n",
       " None,\n",
       " None,\n",
       " None,\n",
       " None]"
      ]
     },
     "execution_count": 23,
     "metadata": {},
     "output_type": "execute_result"
    }
   ],
   "source": [
    "[print(o.python_line) for o in n]"
   ]
  },
  {
   "cell_type": "code",
   "execution_count": 31,
   "metadata": {
    "scrolled": true
   },
   "outputs": [
    {
     "data": {
      "text/plain": [
       "[<byte_T=::char_T>,\n",
       " <creal32_T=::creal32_T>,\n",
       " <creal64_T=::creal64_T>,\n",
       " <creal_T=::creal_T>,\n",
       " <cint8_T=::cint8_T>,\n",
       " <cuint8_T=::cuint8_T>,\n",
       " <cint16_T=::cint16_T>,\n",
       " <cuint16_T=::cuint16_T>,\n",
       " <cint32_T=::cint32_T>,\n",
       " <cuint32_T=::cuint32_T>,\n",
       " <cint64_T=::cint64_T>,\n",
       " <cuint64_T=::cuint64_T>]"
      ]
     },
     "execution_count": 31,
     "metadata": {},
     "output_type": "execute_result"
    }
   ],
   "source": [
    "[ctypes_typedef_gen(n) for n in subset1]"
   ]
  },
  {
   "cell_type": "code",
   "execution_count": 32,
   "metadata": {},
   "outputs": [],
   "source": [
    "o=subset1[-1]"
   ]
  },
  {
   "cell_type": "code",
   "execution_count": 33,
   "metadata": {},
   "outputs": [
    {
     "data": {
      "text/plain": [
       "'::cuint64_T'"
      ]
     },
     "execution_count": 33,
     "metadata": {},
     "output_type": "execute_result"
    }
   ],
   "source": [
    "o.decl_string"
   ]
  },
  {
   "cell_type": "code",
   "execution_count": 34,
   "metadata": {},
   "outputs": [
    {
     "data": {
      "text/plain": [
       "<pygccxml.declarations.cpptypes.declarated_t at 0x1ad215ddd30>"
      ]
     },
     "execution_count": 34,
     "metadata": {},
     "output_type": "execute_result"
    }
   ],
   "source": [
    "o.decl_type"
   ]
  },
  {
   "cell_type": "code",
   "execution_count": 39,
   "metadata": {},
   "outputs": [
    {
     "data": {
      "text/plain": [
       "[False, True, True, True, True, True, True, True, True, True, True, True]"
      ]
     },
     "execution_count": 39,
     "metadata": {},
     "output_type": "execute_result"
    }
   ],
   "source": [
    "[o.decl_type.decl_string == o.decl_string for o in subset1]"
   ]
  },
  {
   "cell_type": "code",
   "execution_count": 45,
   "metadata": {},
   "outputs": [],
   "source": [
    "o = ns.decls(\"::cuint64_T\")"
   ]
  },
  {
   "cell_type": "code",
   "execution_count": 50,
   "metadata": {},
   "outputs": [
    {
     "data": {
      "text/plain": [
       "[<pygccxml.declarations.class_declaration.class_t at 0x1ad216b8d30>,\n",
       " <pygccxml.declarations.calldef_members.constructor_t at 0x1ad216cf978>,\n",
       " <pygccxml.declarations.calldef_members.constructor_t at 0x1ad216cdcc0>,\n",
       " <pygccxml.declarations.typedef.typedef_t at 0x1ad216b8ef0>]"
      ]
     },
     "execution_count": 50,
     "metadata": {},
     "output_type": "execute_result"
    }
   ],
   "source": [
    "o.declarations"
   ]
  },
  {
   "cell_type": "code",
   "execution_count": 51,
   "metadata": {},
   "outputs": [
    {
     "data": {
      "text/plain": [
       "['cuint64_T', '', '', 'cuint64_T']"
      ]
     },
     "execution_count": 51,
     "metadata": {},
     "output_type": "execute_result"
    }
   ],
   "source": [
    "[q.name for q in o.declarations]"
   ]
  },
  {
   "cell_type": "code",
   "execution_count": 58,
   "metadata": {},
   "outputs": [
    {
     "data": {
      "text/plain": [
       "[<pygccxml.declarations.variable.variable_t at 0x1ad216d2438>,\n",
       " <pygccxml.declarations.variable.variable_t at 0x1ad216d0710>,\n",
       " <pygccxml.declarations.calldef_members.constructor_t at 0x1ad216cf978>,\n",
       " <pygccxml.declarations.calldef_members.constructor_t at 0x1ad216cdcc0>,\n",
       " <pygccxml.declarations.calldef_members.member_operator_t at 0x1ad216caeb8>,\n",
       " <pygccxml.declarations.calldef_members.destructor_t at 0x1ad216ca208>]"
      ]
     },
     "execution_count": 58,
     "metadata": {},
     "output_type": "execute_result"
    }
   ],
   "source": [
    "ns.decls(\"cuint64_T\").declarations[0].declarations"
   ]
  },
  {
   "cell_type": "code",
   "execution_count": 59,
   "metadata": {},
   "outputs": [
    {
     "data": {
      "text/plain": [
       "[<pygccxml.declarations.variable.variable_t at 0x1ad216d2438>,\n",
       " <pygccxml.declarations.variable.variable_t at 0x1ad216d0710>,\n",
       " <pygccxml.declarations.calldef_members.constructor_t at 0x1ad216cf978>,\n",
       " <pygccxml.declarations.calldef_members.constructor_t at 0x1ad216cdcc0>,\n",
       " <pygccxml.declarations.calldef_members.member_operator_t at 0x1ad216caeb8>,\n",
       " <pygccxml.declarations.calldef_members.destructor_t at 0x1ad216ca208>]"
      ]
     },
     "execution_count": 59,
     "metadata": {},
     "output_type": "execute_result"
    }
   ],
   "source": [
    "ns.decls(\"::cuint64_T\").declarations[0].declarations"
   ]
  },
  {
   "cell_type": "code",
   "execution_count": 60,
   "metadata": {},
   "outputs": [],
   "source": [
    "q = o[1]"
   ]
  },
  {
   "cell_type": "code",
   "execution_count": 67,
   "metadata": {},
   "outputs": [
    {
     "data": {
      "text/plain": [
       "['cuint64_T', '', '', 'cuint64_T']"
      ]
     },
     "execution_count": 67,
     "metadata": {},
     "output_type": "execute_result"
    }
   ],
   "source": [
    "[q.name for q in o.declarations]"
   ]
  },
  {
   "cell_type": "code",
   "execution_count": 68,
   "metadata": {},
   "outputs": [
    {
     "data": {
      "text/plain": [
       "[False, True, True, False]"
      ]
     },
     "execution_count": 68,
     "metadata": {},
     "output_type": "execute_result"
    }
   ],
   "source": [
    "[q.is_artificial for q in o.declarations]"
   ]
  },
  {
   "cell_type": "code",
   "execution_count": 72,
   "metadata": {},
   "outputs": [
    {
     "data": {
      "text/plain": [
       "[<pygccxml.declarations.typedef.typedef_t at 0x1ad216bd7b8>]"
      ]
     },
     "execution_count": 72,
     "metadata": {},
     "output_type": "execute_result"
    }
   ],
   "source": [
    "ns.decls(\"::uchar_T\")[:]"
   ]
  },
  {
   "cell_type": "code",
   "execution_count": 73,
   "metadata": {},
   "outputs": [],
   "source": [
    "# Variables that are typedefed from other variables, but aren't structs.\n",
    "subset1_1 = [o for o in subset1 if not o.decl_type.decl_string == o.decl_string]"
   ]
  },
  {
   "cell_type": "code",
   "execution_count": null,
   "metadata": {},
   "outputs": [],
   "source": []
  },
  {
   "cell_type": "code",
   "execution_count": 76,
   "metadata": {},
   "outputs": [],
   "source": [
    "m = subset1_1[0]"
   ]
  },
  {
   "cell_type": "code",
   "execution_count": 78,
   "metadata": {},
   "outputs": [
    {
     "data": {
      "text/plain": [
       "<pygccxml.declarations.typedef.typedef_t at 0x1ad216bd978>"
      ]
     },
     "execution_count": 78,
     "metadata": {},
     "output_type": "execute_result"
    }
   ],
   "source": [
    "m"
   ]
  },
  {
   "cell_type": "code",
   "execution_count": 97,
   "metadata": {},
   "outputs": [],
   "source": [
    "from vardump import vardump"
   ]
  },
  {
   "cell_type": "code",
   "execution_count": 98,
   "metadata": {
    "scrolled": true
   },
   "outputs": [
    {
     "name": "stdout",
     "output_type": "stream",
     "text": [
      "attributes: <class 'NoneType'><None>\n",
      "byte_align: <class 'float'><1.0>\n",
      "byte_size: <class 'float'><1.0>\n",
      "cache: <class 'pygccxml.declarations.algorithms_cache.declaration_algs_cache_t'><<pygccxml.declarations.algorithms_cache.declaration_algs_cache_t object at 0x000001AD216BD940>>\n",
      "create_decl_string(): ::byte_T\n",
      "decl_string: <class 'str'><::byte_T>\n",
      "decl_type: <class 'pygccxml.declarations.cpptypes.declarated_t'><char_T>\n",
      "decorated_name: <class 'NoneType'><None>\n",
      "demangled: <class 'NoneType'><None>\n",
      "get_mangled_name(): None\n",
      "i_depend_on_them(): [<pygccxml.declarations.class_declaration.dependency_info_t object at 0x000001AD216D2F98>]\n",
      "is_artificial: <class 'bool'><False>\n",
      "location: <class 'pygccxml.declarations.location.location_t'><<pygccxml.declarations.location.location_t object at 0x000001AD216BD8D0>>\n",
      "mangled: <class 'NoneType'><None>\n",
      "name: <class 'str'><byte_T>\n",
      "parent: <class 'pygccxml.declarations.namespace.namespace_t'><:: [namespace]>\n",
      "partial_decl_string: <class 'str'><::byte_T>\n",
      "partial_name: <class 'str'><byte_T>\n",
      "top_parent: <class 'pygccxml.declarations.namespace.namespace_t'><:: [namespace]>\n"
     ]
    },
    {
     "name": "stderr",
     "output_type": "stream",
     "text": [
      "C:\\Projects\\bootstrap_WinPython\\WinPython\\python-3.6.6.amd64\\lib\\site-packages\\pygccxml\\declarations\\declaration.py:303: DeprecationWarning: The decorated_name attribute is deprecated. See the changelog.\n",
      "  DeprecationWarning)\n"
     ]
    }
   ],
   "source": [
    "vardump(m)"
   ]
  },
  {
   "cell_type": "code",
   "execution_count": 100,
   "metadata": {},
   "outputs": [
    {
     "data": {
      "text/plain": [
       "'char_T'"
      ]
     },
     "execution_count": 100,
     "metadata": {},
     "output_type": "execute_result"
    }
   ],
   "source": []
  },
  {
   "cell_type": "code",
   "execution_count": null,
   "metadata": {},
   "outputs": [],
   "source": [
    "vardump()"
   ]
  },
  {
   "cell_type": "code",
   "execution_count": null,
   "metadata": {},
   "outputs": [],
   "source": [
    "for typedef in ns.typedefs():\n",
    "    print(typedef)\n",
    "    if typedef.name.endswith(\"_T\"):\n",
    "        break "
   ]
  }
 ],
 "metadata": {
  "kernelspec": {
   "display_name": "Python 3",
   "language": "python",
   "name": "python3"
  },
  "language_info": {
   "codemirror_mode": {
    "name": "ipython",
    "version": 3
   },
   "file_extension": ".py",
   "mimetype": "text/x-python",
   "name": "python",
   "nbconvert_exporter": "python",
   "pygments_lexer": "ipython3",
   "version": "3.6.6"
  }
 },
 "nbformat": 4,
 "nbformat_minor": 2
}
