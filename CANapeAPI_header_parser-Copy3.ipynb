{
 "cells": [
  {
   "cell_type": "code",
   "execution_count": 1,
   "metadata": {},
   "outputs": [],
   "source": [
    "import ctypes\n",
    "import os\n",
    "import subprocess\n",
    "\n",
    "import pygccxml\n",
    "from pygccxml import declarations, parser, utils\n",
    "\n",
    "import os\n",
    "import subprocess\n",
    "\n",
    "__here__ = os.path.abspath(\".\")# Configure the xml generatortry:    gcc_path = subprocess.check_output([\"where\", \"gcc\"]).decode(\"UTF-8\").strip()    gcc_path = os.path.abspath(gcc_path)    assert os.path.isfile(gcc_path)except subprocess.CalledProcessError:    passos.chdir(r\"castxml\\bin\")generator_path, generator_name = utils.find_xml_generator()os.chdir(__here__)xml_generator_config = parser.xml_generator_configuration_t(    xml_generator_path=generator_path,    xml_generator=generator_name,    compiler_path=gcc_path,)\n",
    "\n",
    "# Configure the xml generator\n",
    "try:\n",
    "    gcc_path = subprocess.check_output([\"where\", \"gcc\"]).decode(\"UTF-8\").strip()\n",
    "    gcc_path = os.path.abspath(gcc_path)\n",
    "    assert os.path.isfile(gcc_path)\n",
    "except subprocess.CalledProcessError:\n",
    "    pass\n",
    "\n",
    "os.chdir(r\"castxml\\bin\")\n",
    "generator_path, generator_name = utils.find_xml_generator()\n",
    "os.chdir(__here__)\n",
    "\n",
    "xml_generator_config = parser.xml_generator_configuration_t(\n",
    "    xml_generator_path=generator_path,\n",
    "    xml_generator=generator_name,\n",
    "    compiler_path=gcc_path\n",
    ")"
   ]
  },
  {
   "cell_type": "code",
   "execution_count": 2,
   "metadata": {},
   "outputs": [],
   "source": [
    "__here__ = os.path.abspath(\".\")# Configure the xml generatortry:    gcc_path = subprocess.check_output([\"where\", \"gcc\"]).decode(\"UTF-8\").strip()    gcc_path = os.path.abspath(gcc_path)    assert os.path.isfile(gcc_path)except subprocess.CalledProcessError:    passos.chdir(r\"castxml\\bin\")generator_path, generator_name = utils.find_xml_generator()os.chdir(__here__)xml_generator_config = parser.xml_generator_configuration_t(    xml_generator_path=generator_path,    xml_generator=generator_name,    compiler_path=gcc_path,)\n",
    "\n",
    "header = os.path.abspath(\"Development/CANapAPI.h\")\n",
    "os.path.exists(header)\n",
    "\n",
    "with open(header, \"r\") as fid:\n",
    "    data = fid.read()"
   ]
  },
  {
   "cell_type": "code",
   "execution_count": 3,
   "metadata": {},
   "outputs": [],
   "source": [
    "base, ext = os.path.splitext(header)\n",
    "header2 = os.path.abspath(f\"{base}2{ext}\")"
   ]
  },
  {
   "cell_type": "code",
   "execution_count": 4,
   "metadata": {},
   "outputs": [
    {
     "name": "stderr",
     "output_type": "stream",
     "text": [
      "INFO Parsing source file \"C:\\Projects\\python_CANape\\Development\\CANapAPI2.h\" ... \n"
     ]
    }
   ],
   "source": [
    "# These are to make \n",
    "header_fix = \"\"\"\n",
    "// Push these out of the way\n",
    "#define ASAP3_EXPORT\n",
    "#define CALL_CONV\n",
    "#define WINAPI\n",
    "\n",
    "// Windows Path\n",
    "#define _MAX_PATH 256\n",
    "#define MAX_PATH 256\n",
    "#define CALLBACK __stdcall\n",
    "\n",
    "// Some typedefs\n",
    "typedef int BOOL;\n",
    "typedef unsigned long DWORD;\n",
    "typedef unsigned char BYTE;\n",
    "typedef unsigned int BOOLEAN;\n",
    "typedef unsigned int UINT;\n",
    "typedef unsigned long ULONG_PTR;\n",
    "typedef ULONG_PTR DWORD_PTR;\n",
    "#define NULL 0\n",
    "\"\"\"\n",
    "\n",
    "with open(header2, \"w\") as fid:\n",
    "    fid.write(header_fix)\n",
    "    fid.write(data)\n",
    "header_declarations = parser.parse(files=[header2], config=xml_generator_config)\n",
    "ns = header_declarations[0]"
   ]
  },
  {
   "cell_type": "code",
   "execution_count": 5,
   "metadata": {},
   "outputs": [],
   "source": [
    "class ctypes_typedef_gen(object):\n",
    "    def __init__(self, typedef):\n",
    "        self.typedef = typedef\n",
    "\n",
    "    @property\n",
    "    def decl_str(self):\n",
    "        return self.typedef.decl_type.decl_string\n",
    "\n",
    "    @property\n",
    "    def unsigned(self):\n",
    "        return \"unsigned\" in self.decl_str\n",
    "\n",
    "    @property\n",
    "    def name(self):\n",
    "        return self.typedef.name\n",
    "\n",
    "    @property\\s+\n",
    "    def short_name(self):\n",
    "        return self.name.split(\"_\")[0]\n",
    "\n",
    "    @property\n",
    "    def c_type(self):\n",
    "        if self.decl_str.startswith(\"::\"):\n",
    "            return self.decl_str.strip(\":\")\n",
    "        if hasattr(ctypes, f\"c_{self.short_name}\"):\n",
    "            return f\"c_{self.short_name}\"\n",
    "        if hasattr(ctypes, f\"c_{self.decl_str}\"):\n",
    "            return f\"c_{self.decl_str}\"\n",
    "        if self.decl_str.endswith(\" int\"):\n",
    "            if \"unsigned\" in n.decl_str:\n",
    "                unsigned=\"u\"\n",
    "            else:\n",
    "                unsigned=\"\"\n",
    "            base = n.decl_str.split()[0]\n",
    "            c_type = f\"c_{unsigned}{base}\"\n",
    "            if hasattr(ctypes, c_type):\n",
    "                return c_type\n",
    "            base = n.decl_str.split()[1]\n",
    "            c_type = f\"c_{unsigned}{base}\"\n",
    "            if hasattr(ctypes, c_type):\n",
    "                return c_type\n",
    "        if self.decl_str.endswith(\"*\"):\n",
    "            return \"POINTER()\"\n",
    "        \n",
    "        type_map = {\n",
    "            \"unsigned char\": \"c_ubyte\",\n",
    "            \"void *\": \"c_void_p\",\n",
    "        }\n",
    "        if self.decl_str in type_map:\n",
    "            return type_map[self.decl_str]\n",
    "\n",
    "        raise Exception(f\"Unimplemented type {self.decl_str}\")\n",
    "\n",
    "    @property\n",
    "    def python_line(self):\n",
    "        return f\"{self.name}=ctypes.{self.c_type}\"\n",
    "\n",
    "    def __repr__(self):\n",
    "        return \"<{}={}>\".format(self.name, self.decl_str)\n"
   ]
  },
  {
   "cell_type": "code",
   "execution_count": 6,
   "metadata": {},
   "outputs": [
    {
     "name": "stdout",
     "output_type": "stream",
     "text": [
      "BOOL=ctypes.c_int\n",
      "DWORD=ctypes.c_ulong\n",
      "BYTE=ctypes.c_ubyte\n",
      "BOOLEAN=ctypes.c_uint\n",
      "UINT=ctypes.c_uint\n",
      "ULONG_PTR=ctypes.c_ulong\n",
      "DWORD_PTR=ctypes.ULONG_PTR\n",
      "TApplicationType=ctypes.TApplicationType\n",
      "ASAP3_EVENT_CODE=ctypes.ASAP3_EVENT_CODE\n",
      "TApplicationID=ctypes.TApplicationID\n",
      "TFormat=ctypes.TFormat\n",
      "TValueType=ctypes.TValueType\n",
      "TObjectType=ctypes.TObjectType\n",
      "TAsap3DiagHdl=ctypes.c_ulong\n",
      "EnRecorderState=ctypes.EnRecorderState\n",
      "EnParamType=ctypes.EnParamType\n",
      "DiagJobResponse=ctypes.DiagJobResponse\n",
      "DiagNumericParamater=ctypes.NumericParamater\n",
      "DiagNotificationStruct=ctypes.DiagNotificationStruct\n",
      "TMeasurementListEntry=ctypes.MeasurementListEntry\n",
      "MeasurementListEntries=ctypes.MeasurementListEntries\n",
      "DBObjectInfo=ctypes.DBObjectInfo\n",
      "DBFileInfo=ctypes.DBFileInfo\n"
     ]
    }
   ],
   "source": [
    "deffed = list()\n",
    "for typedef in ns.typedefs():\n",
    "    if typedef.name.startswith(\"_\"):\n",
    "        continue\n",
    "    n = ctypes_typedef_gen(typedef)\n",
    "    if n.name.startswith(\"ON\"):\n",
    "        # Callbacks    if n.name == n.decl_str.strip(\"::\"):\n",
    "        #Structs\n",
    "        continue\n",
    "    if n.name == \"FNCDIAGNOFIFICATION\":\n",
    "        #TODO\n",
    "        continue\n",
    "    print(f\"{n.name}=ctypes.{n.c_type}\")\n",
    "    deffed.append(n.name)\n",
    "    if n.name==\"DBFileInfo\":\n",
    "        break"
   ]
  },
  {
   "cell_type": "code",
   "execution_count": 9,
   "metadata": {},
   "outputs": [],
   "source": [
    "def cpptype_to_ctypes(t):\n",
    "    if declarations.is_array(t):\n",
    "        if isinstance(t.base, pygccxml.declarations.cpptypes.char_t):\n",
    "            return \"ctypes.c_char_p({})\".format(t.size)\n",
    "    if declarations.is_pointer(t):\n",
    "        if hasattr(t, 'base'):\n",
    "            if declarations.is_pointer(t.base):\n",
    "                if hasattr(hasattr(t, 'base'), 'base') and t.base.base.decl_string  == \"char\":\n",
    "                    return \"ctypes.pointer(ctypes.c_char_p)\"  \n",
    "            if t.base.decl_string == \"char\":\n",
    "                return \"ctypes.c_char_p\"\n",
    "            if t.base.decl_string == \"void\": \n",
    "                return \"ctypes.c_void_p\"\n",
    "        return \"ctypes.POINTER({})\".format(cpptype_to_ctypes(declarations.remove_pointer(t)))\n",
    "    if declarations.is_const(t):\n",
    "        return cpptype_to_ctypes(declarations.remove_const(t))\n",
    "    if not hasattr(t, \"decl_string\"):\n",
    "        return \"!!!!\"\n",
    "    if t.decl_string.startswith(\"::\"):\n",
    "        return t.decl_string[2:]\n",
    "    tp = t.decl_string.split(\" \")\n",
    "    if len(tp)==1:\n",
    "        return \"ctypes.c_\" + tp[0]\n",
    "        if tp[0] == \"bool\":\n",
    "            return \"ctypes.c_bool\"\n",
    "        if tp[0] == \"char\":\n",
    "            return \"ctypes.c_char\"\n",
    "        if tp[0] == \"double\":\n",
    "            return \"ctypes.c_double\"\n",
    "        if tp[0] == \"int\":\n",
    "            return \"ctypes.c_int\"\n",
    "    if len(tp)==2:\n",
    "        if tp[1] == \"volatile\":\n",
    "            return \"ctypes.c_{}\".format(tp[0])\n",
    "        if tp[0] == \"unsigned\":\n",
    "            if tp[1] == \"char\":\n",
    "                tp[1] = \"byte\"\n",
    "            return \"ctypes.c_u{}\".format(tp[1])\n",
    "        if tp[1] == \"int\":\n",
    "            return \"ctypes.c_{}\".format(tp[0])\n",
    "    if len(tp)==3:\n",
    "        if tp[1]==\"unsigned\":\n",
    "            return \"ctypes.c_u{}\".format(tp[0])\n",
    "    raise(Exception(t.decl_string))"
   ]
  },
  {
   "cell_type": "code",
   "execution_count": 19,
   "metadata": {},
   "outputs": [
    {
     "name": "stdout",
     "output_type": "stream",
     "text": [
      "class TApplicationID(ctypes.Structure):\n",
      "    _fields_ = [\n",
      "        (\"tApplicationType\", TApplicationType),\n",
      "        (\"tApplicationPath\", ctypes.c_char_p(256)),\n",
      "    ]\n",
      "\n",
      "class DiagJobResponse(ctypes.Structure):\n",
      "    _fields_ = [\n",
      "        (\"job_responsestring\", ctypes.c_char_p),\n",
      "        (\"job_responseValue\", ctypes.c_double),\n",
      "    ]\n",
      "\n",
      "class NumericParamater(ctypes.Structure):\n",
      "    _fields_ = [\n",
      "        (\"DiagNumeric\", EnParamType),\n",
      "        (\"IVal\", ctypes.c_int),\n",
      "        (\"UIVal\", ctypes.c_uint),\n",
      "        (\"FVal\", ctypes.c_float),\n",
      "        (\"DVal\", ctypes.c_double),\n",
      "        (\"Values\", NumericParamater::PValues),\n",
      "    ]\n",
      "\n",
      "class DiagNotificationStruct(ctypes.Structure):\n",
      "    _fields_ = [\n",
      "        (\"DiagHandle\", TAsap3DiagHdl),\n",
      "        (\"DiagState\", eServiceStates),\n",
      "        (\"PrivateData\", ctypes.c_void_p),\n",
      "    ]\n",
      "\n",
      "class MeasurementListEntry(ctypes.Structure):\n",
      "    _fields_ = [\n",
      "        (\"taskId\", ctypes.c_ushort),\n",
      "        (\"rate\", ctypes.c_ulong),\n",
      "        (\"SaveFlag\", BOOL),\n",
      "        (\"Disabled\", BOOL),\n",
      "        (\"ObjectName\", ctypes.c_char_p),\n",
      "    ]\n",
      "\n",
      "class MeasurementListEntries(ctypes.Structure):\n",
      "    _fields_ = [\n",
      "        (\"ItemCount\", ctypes.c_uint),\n",
      "        (\"Entries\", ctypes.POINTER(ctypes.POINTER(MeasurementListEntry))),\n",
      "    ]\n",
      "\n",
      "class DBObjectInfo(ctypes.Structure):\n",
      "    _fields_ = [\n",
      "        (\"DBObjecttype\", TObjectType),\n",
      "        (\"type\", TValueType),\n",
      "        (\"min\", ctypes.c_double),\n",
      "        (\"max\", ctypes.c_double),\n",
      "        (\"minEx\", ctypes.c_double),\n",
      "        (\"maxEx\", ctypes.c_double),\n",
      "        (\"precision\", BYTE),\n",
      "        (\"unit\", ctypes.c_char_p(256)),\n",
      "    ]\n",
      "\n",
      "class DBFileInfo(ctypes.Structure):\n",
      "    _fields_ = [\n",
      "        (\"asap2Fname\", ctypes.c_char_p(256)),\n",
      "        (\"asap2Path\", ctypes.c_char_p(256)),\n",
      "        (\"type\", BYTE),\n",
      "    ]\n",
      "\n",
      "class SecProfileEntry(ctypes.Structure):\n",
      "    _fields_ = [\n",
      "        (\"mId\", ctypes.c_uint),\n",
      "        (\"mName\", ctypes.c_char_p(256)),\n",
      "        (\"mDescription\", ctypes.c_char_p(256)),\n",
      "    ]\n",
      "\n",
      "class TCalibrationObjectValueEx2(ctypes.Structure):\n",
      "    _fields_ = [\n",
      "        (\"xAxisValues\", ctypes.POINTER(ctypes.c_double)),\n",
      "        (\"yAxisValues\", ctypes.POINTER(ctypes.c_double)),\n",
      "        (\"zValues\", ctypes.POINTER(ctypes.c_double)),\n",
      "        (\"zValue\", ctypes.POINTER(ctypes.c_double)),\n",
      "        (\"xStart\", ctypes.c_ulong),\n",
      "        (\"yStart\", ctypes.c_ulong),\n",
      "        (\"xSize\", ctypes.c_ulong),\n",
      "        (\"ySize\", ctypes.c_ulong),\n",
      "    ]\n",
      "\n",
      "class TTaskInfo(ctypes.Structure):\n",
      "    _fields_ = [\n",
      "        (\"description\", ctypes.POINTER(ctypes.c_char)),\n",
      "        (\"taskId\", ctypes.c_ushort),\n",
      "        (\"taskCycle\", ctypes.c_ulong),\n",
      "    ]\n",
      "\n",
      "class TConverterInfo(ctypes.Structure):\n",
      "    _fields_ = [\n",
      "        (\"Comment\", ctypes.c_char_p(256)),\n",
      "        (\"Name\", ctypes.c_char_p(256)),\n",
      "        (\"ID\", ctypes.c_char_p(256)),\n",
      "    ]\n",
      "\n",
      "class TTaskInfo2(ctypes.Structure):\n",
      "    _fields_ = [\n",
      "        (\"description\", ctypes.POINTER(ctypes.c_char)),\n",
      "        (\"taskId\", ctypes.c_ushort),\n",
      "        (\"taskCycle\", ctypes.c_ulong),\n",
      "        (\"eventChannel\", ctypes.c_ulong),\n",
      "    ]\n",
      "\n",
      "class tFifoSize(ctypes.Structure):\n",
      "    _fields_ = [\n",
      "        (\"module\", TModulHdl),\n",
      "        (\"taskId\", ctypes.c_ushort),\n",
      "        (\"noSamples\", ctypes.c_ushort),\n",
      "    ]\n",
      "\n",
      "class tSampleObject(ctypes.Structure):\n",
      "    _fields_ = [\n",
      "        (\"countOfEntires\", ctypes.c_ulong),\n",
      "        (\"timestamp\", TTime),\n",
      "        (\"data\", ctypes.POINTER(ctypes.c_double)),\n",
      "    ]\n",
      "\n",
      "class tSampleBlockObject(ctypes.Structure):\n",
      "    _fields_ = [\n",
      "        (\"has_buffer_Overrun\", BOOL),\n",
      "        (\"has_Error\", ctypes.c_long),\n",
      "        (\"initialized\", BOOL),\n",
      "        (\"countofValidEntries\", ctypes.c_long),\n",
      "        (\"countofInitilizedEntries\", ctypes.c_long),\n",
      "        (\"tSample\", ctypes.POINTER(ctypes.POINTER(tSampleObject))),\n",
      "    ]\n",
      "\n",
      "class version_t(ctypes.Structure):\n",
      "    _fields_ = [\n",
      "        (\"dllMainVersion\", ctypes.c_int),\n",
      "        (\"dllSubVersion\", ctypes.c_int),\n",
      "        (\"dllRelease\", ctypes.c_int),\n",
      "        (\"osVersion\", ctypes.c_char_p(50)),\n",
      "        (\"osRelease\", ctypes.c_int),\n",
      "    ]\n",
      "\n",
      "class Appversion(ctypes.Structure):\n",
      "    _fields_ = [\n",
      "        (\"MainVersion\", ctypes.c_int),\n",
      "        (\"SubVersion\", ctypes.c_int),\n",
      "        (\"ServicePack\", ctypes.c_int),\n",
      "        (\"Application\", ctypes.c_char_p(30)),\n",
      "    ]\n",
      "\n",
      "class TLayoutCoeffs(ctypes.Structure):\n",
      "    _fields_ = [\n",
      "        (\"OffNx\", ctypes.c_short),\n",
      "        (\"OffNy\", ctypes.c_short),\n",
      "        (\"OffX\", ctypes.c_short),\n",
      "        (\"FakX\", ctypes.c_short),\n",
      "        (\"OffY\", ctypes.c_short),\n",
      "        (\"FakY\", ctypes.c_short),\n",
      "        (\"OffW\", ctypes.c_short),\n",
      "        (\"FakWx\", ctypes.c_short),\n",
      "        (\"FakWy\", ctypes.c_short),\n",
      "    ]\n",
      "\n"
     ]
    }
   ],
   "source": [
    "i=1\n",
    "for x in ns.classes():\n",
    "    if declarations.is_struct(x): #x.name in [\"Appversion\", \"TApplicationType\", \"TApplicationID\", \"TAsap3Hdl\", \"version_t\"]:\n",
    "        if len(x.name)==0:\n",
    "            continue\n",
    "        print(\"class {}(ctypes.Structure):\".format(x.name))\n",
    "        print(\"{}_fields_ = [\".format(\" \"*4*i))\n",
    "        for var in x.variables():\n",
    "            print(\"{}(\\\"{}\\\", {}),\".format(\" \"*(4*(i+1)),var.name,cpptype_to_ctypes(var.decl_type)))\n",
    "        print(\"{}]\".format(\" \"*(4*i)))\n",
    "        print()"
   ]
  },
  {
   "cell_type": "code",
   "execution_count": 35,
   "metadata": {},
   "outputs": [
    {
     "name": "stdout",
     "output_type": "stream",
     "text": [
      "{'eUNDEFINED': 0, 'eCANAPE': 1, 'eAPPLOCATION': 3}\n"
     ]
    }
   ],
   "source": [
    "\n",
    "tmp=list()\n",
    "for x in ns.declarations:\n",
    "    if declarations.is_enum(x): #x.name in [\"Appversion\", \"TApplicationType\", \"TApplicationID\", \"TAsap3Hdl\", \"version_t\"]:\n",
    "        if hasattr(x, \"get_name2value_dict\"):\n",
    "            print(x.get_name2value_dict())\n",
    "            break\n",
    "        if len(x.name)==0:\n",
    "            continue\n",
    "        if (x.name) == \"TApplicationType\":\n",
    "            pass"
   ]
  },
  {
   "cell_type": "code",
   "execution_count": 47,
   "metadata": {},
   "outputs": [
    {
     "name": "stdout",
     "output_type": "stream",
     "text": [
      "TApplicationType=generate_fancy_enum_factory(\n",
      "    {\n",
      "       0: \"eUNDEFINED\",\n",
      "       1: \"eCANAPE\",\n",
      "       3: \"eAPPLOCATION\",\n",
      "    },\n",
      "    \"TApplicationType\",\n",
      ")\n"
     ]
    }
   ],
   "source": [
    "print(f\"\"\"{x.name}=generate_fancy_enum_factory(\n",
    "    {{\"\"\")\n",
    "for key, value in x.get_name2value_dict().items():\n",
    "    print(f'       {value}: \"{key}\",')\n",
    "\n",
    "print(f\"\"\"    }},\n",
    "    \"{x.name}\",\n",
    ")\"\"\")\n",
    "                                              "
   ]
  },
  {
   "cell_type": "code",
   "execution_count": 50,
   "metadata": {},
   "outputs": [],
   "source": [
    "def generate_fancy_enum_factory_generator(x):\n",
    "    print(f\"\"\"\n",
    "{x.name}=generate_fancy_enum_factory(\n",
    "    {{\"\"\")\n",
    "    for key, value in x.get_name2value_dict().items():\n",
    "        print(f'       {value}: \"{key}\",')\n",
    "\n",
    "    print(f\"\"\"    }},\n",
    "    \"{x.name}\",\n",
    ")\"\"\")\n",
    "          "
   ]
  },
  {
   "cell_type": "code",
   "execution_count": 51,
   "metadata": {},
   "outputs": [
    {
     "name": "stdout",
     "output_type": "stream",
     "text": [
      "\n",
      "TApplicationType=generate_fancy_enum_factory(\n",
      "    {\n",
      "       0: \"eUNDEFINED\",\n",
      "       1: \"eCANAPE\",\n",
      "       3: \"eAPPLOCATION\",\n",
      "    },\n",
      "    \"TApplicationType\",\n",
      ")\n"
     ]
    }
   ],
   "source": [
    "generate_fancy_enum_factory_generator(x)"
   ]
  },
  {
   "cell_type": "code",
   "execution_count": 53,
   "metadata": {},
   "outputs": [
    {
     "name": "stdout",
     "output_type": "stream",
     "text": [
      "\n",
      "TApplicationType=generate_fancy_enum_factory(\n",
      "    {\n",
      "       0: \"eUNDEFINED\",\n",
      "       1: \"eCANAPE\",\n",
      "       3: \"eAPPLOCATION\",\n",
      "    },\n",
      "    \"TApplicationType\",\n",
      ")\n",
      "\n",
      "TScriptStatus=generate_fancy_enum_factory(\n",
      "    {\n",
      "       1: \"eTScrReady\",\n",
      "       2: \"eTScrStarting\",\n",
      "       3: \"eTScrRunning\",\n",
      "       4: \"eTScrSleeping\",\n",
      "       5: \"eTScrSuspended\",\n",
      "       6: \"eTScrTerminated\",\n",
      "       7: \"eTScrFinishedReturn\",\n",
      "       8: \"eTScrFinishedCancel\",\n",
      "       9: \"eTScrFailure\",\n",
      "       10: \"eTScrTimeout\",\n",
      "    },\n",
      "    \"TScriptStatus\",\n",
      ")\n",
      "\n",
      "e_RamMode=generate_fancy_enum_factory(\n",
      "    {\n",
      "       0: \"e_TR_MODE_RAM\",\n",
      "       1: \"e_TR_MODE_ROM\",\n",
      "    },\n",
      "    \"e_RamMode\",\n",
      ")\n",
      "\n",
      "TRecorderType=generate_fancy_enum_factory(\n",
      "    {\n",
      "       0: \"eTRecorderTypeMDF\",\n",
      "       1: \"eTRecorderTypeILinkRT\",\n",
      "       2: \"eTRecorderTypeBLF\",\n",
      "    },\n",
      "    \"TRecorderType\",\n",
      ")\n",
      "\n",
      "ASAP3_EVENT_CODE=generate_fancy_enum_factory(\n",
      "    {\n",
      "       0: \"et_ON_DATA_ACQ_START\",\n",
      "       1: \"et_ON_DATA_ACQ_STOP\",\n",
      "       2: \"et_ON_BEFORE_DATA_ACQ_START\",\n",
      "       3: \"et_ON_CLOSEPROJECT\",\n",
      "       4: \"et_ON_OPENPROJECT\",\n",
      "       5: \"et_ON_CLOSECANAPE\",\n",
      "    },\n",
      "    \"ASAP3_EVENT_CODE\",\n",
      ")\n",
      "\n",
      "TFormat=generate_fancy_enum_factory(\n",
      "    {\n",
      "       0: \"ECU_INTERNAL\",\n",
      "       1: \"PHYSICAL_REPRESENTATION\",\n",
      "    },\n",
      "    \"TFormat\",\n",
      ")\n",
      "\n",
      "TValueType=generate_fancy_enum_factory(\n",
      "    {\n",
      "       0: \"VALUE\",\n",
      "       1: \"CURVE\",\n",
      "       2: \"MAP\",\n",
      "       3: \"AXIS\",\n",
      "       4: \"ASCII\",\n",
      "       5: \"VAL_BLK\",\n",
      "    },\n",
      "    \"TValueType\",\n",
      ")\n",
      "\n",
      "TObjectType=generate_fancy_enum_factory(\n",
      "    {\n",
      "       0: \"OTT_MEASURE\",\n",
      "       1: \"OTT_CALIBRATE\",\n",
      "       2: \"OTT_UNKNOWN\",\n",
      "    },\n",
      "    \"TObjectType\",\n",
      ")\n",
      "\n",
      "eServiceStates=generate_fancy_enum_factory(\n",
      "    {\n",
      "       10: \"e_Created\",\n",
      "       20: \"e_Running\",\n",
      "       30: \"e_Finished\",\n",
      "       40: \"e_TimeOut\",\n",
      "    },\n",
      "    \"eServiceStates\",\n",
      ")\n",
      "\n",
      "EnRecorderState=generate_fancy_enum_factory(\n",
      "    {\n",
      "       0: \"e_RecConfigure\",\n",
      "       1: \"e_RecActive\",\n",
      "       2: \"e_RecRunning\",\n",
      "       3: \"e_RecPaused\",\n",
      "       4: \"e_Suspended\",\n",
      "    },\n",
      "    \"EnRecorderState\",\n",
      ")\n",
      "\n",
      "EnParamType=generate_fancy_enum_factory(\n",
      "    {\n",
      "       1: \"ParamSigned\",\n",
      "       2: \"ParamDouble\",\n",
      "       3: \"ParamBCD\",\n",
      "       4: \"ParamUnsigned\",\n",
      "       5: \"ParamFloat\",\n",
      "       6: \"ParamAutoDetect\",\n",
      "    },\n",
      "    \"EnParamType\",\n",
      ")\n",
      "\n",
      "TAsap3FileType=generate_fancy_enum_factory(\n",
      "    {\n",
      "       0: \"TYPE_FILE\",\n",
      "       1: \"TYPE_VIRTUAL\",\n",
      "       2: \"TYPE_PHYSICAL\",\n",
      "    },\n",
      "    \"TAsap3FileType\",\n",
      ")\n",
      "\n",
      "TAsap3ECUState=generate_fancy_enum_factory(\n",
      "    {\n",
      "       0: \"TYPE_SWITCH_ONLINE\",\n",
      "       1: \"TYPE_SWITCH_OFFLINE\",\n",
      "    },\n",
      "    \"TAsap3ECUState\",\n",
      ")\n",
      "\n",
      "TAsap3DataType=generate_fancy_enum_factory(\n",
      "    {\n",
      "       0: \"TYPE_UNKNOWN\",\n",
      "       1: \"TYPE_INT\",\n",
      "       2: \"TYPE_FLOAT\",\n",
      "       3: \"TYPE_DOUBLE\",\n",
      "       4: \"TYPE_SIGNED\",\n",
      "       5: \"TYPE_UNSIGNED\",\n",
      "       6: \"TYPE_STRING\",\n",
      "    },\n",
      "    \"TAsap3DataType\",\n",
      ")\n",
      "\n",
      "TAsap3DBOType=generate_fancy_enum_factory(\n",
      "    {\n",
      "       1: \"DBTYPE_MEASUREMENT\",\n",
      "       2: \"DBTYPE_CHARACTERISTIC\",\n",
      "       3: \"DBTYPE_ALL\",\n",
      "    },\n",
      "    \"TAsap3DBOType\",\n",
      ")\n",
      "\n",
      "tDriverType=generate_fancy_enum_factory(\n",
      "    {\n",
      "       0: \"ASAP3_DRIVER_UNKNOWN\",\n",
      "       1: \"ASAP3_DRIVER_CCP\",\n",
      "       2: \"ASAP3_DRIVER_XCP\",\n",
      "       20: \"ASAP3_DRIVER_CAN\",\n",
      "       40: \"ASAP3_DRIVER_HEXEDIT\",\n",
      "       50: \"ASAP3_DRIVER_ANALOG\",\n",
      "       60: \"ASAP3_DRIVER_CANOPEN\",\n",
      "       70: \"ASAP3_DRIVER_CANDELA\",\n",
      "       80: \"ASAP3_DRIVER_ENVIRONMENT\",\n",
      "       90: \"ASAP3_DRIVER_LIN\",\n",
      "       100: \"ASAP3_DRIVER_FLX\",\n",
      "       110: \"ASAP3_DRIVER_FUNC\",\n",
      "       120: \"ASAP3_DRIVER_NIDAQMX\",\n",
      "       130: \"ASAP3_DRIVER_XCP_RAMSCOPE\",\n",
      "       140: \"ASAP3_DRIVER_SYSTEM\",\n",
      "       150: \"ASAP3_DRIVER_ETH\",\n",
      "       160: \"ASAP3_DAIO_SYSTEM\",\n",
      "       170: \"ASAP3_DRIVER_SOME_IP\",\n",
      "    },\n",
      "    \"tDriverType\",\n",
      ")\n",
      "\n",
      "tMeasurementState=generate_fancy_enum_factory(\n",
      "    {\n",
      "       0: \"eT_MEASUREMENT_STOPPED\",\n",
      "       1: \"eT_MEASUREMENT_INIT\",\n",
      "       2: \"eT_MEASUREMENT_STOP_ON_START\",\n",
      "       3: \"eT_MEASUREMENT_EXIT\",\n",
      "       4: \"eT_MEASUREMENT_THREAD_RUNNING\",\n",
      "       5: \"eT_MEASUREMENT_RUNNING\",\n",
      "    },\n",
      "    \"tMeasurementState\",\n",
      ")\n"
     ]
    }
   ],
   "source": [
    "\n",
    "tmp=list()\n",
    "for x in ns.declarations:\n",
    "    if declarations.is_enum(x): #x.name in [\"Appversion\", \"TApplicationType\", \"TApplicationID\", \"TAsap3Hdl\", \"version_t\"]:\n",
    "        if hasattr(x, \"get_name2value_dict\"):\n",
    "            generate_fancy_enum_factory_generator(x)"
   ]
  },
  {
   "cell_type": "code",
   "execution_count": 31,
   "metadata": {
    "scrolled": true
   },
   "outputs": [
    {
     "name": "stdout",
     "output_type": "stream",
     "text": [
      "append_value: <class 'method'><<bound method enumeration_t.append_value of <pygccxml.declarations.enumeration.enumeration_t object at 0x00000184D38E5B00>>>\n",
      "attributes: <class 'NoneType'><None>\n",
      "byte_align: <class 'float'><4.0>\n",
      "byte_size: <class 'float'><4.0>\n",
      "cache: <class 'pygccxml.declarations.algorithms_cache.declaration_algs_cache_t'><<pygccxml.declarations.algorithms_cache.declaration_algs_cache_t object at 0x00000184D38E5AC8>>\n",
      "create_decl_string(): ::TApplicationType\n",
      "decl_string: <class 'str'><::TApplicationType>\n",
      "decorated_name: <class 'NoneType'><None>\n",
      "demangled: <class 'NoneType'><None>\n",
      "elaborated_type_specifier: <class 'str'><enum>\n",
      "get_mangled_name(): None\n",
      "get_name2value_dict(): {'eUNDEFINED': 0, 'eCANAPE': 1, 'eAPPLOCATION': 3}\n",
      "has_value_name: <class 'method'><<bound method enumeration_t.has_value_name of <pygccxml.declarations.enumeration.enumeration_t object at 0x00000184D38E5B00>>>\n",
      "i_depend_on_them(): []\n",
      "is_artificial: <class 'bool'><False>\n",
      "location: <class 'pygccxml.declarations.location.location_t'><<pygccxml.declarations.location.location_t object at 0x00000184D38E5A58>>\n",
      "mangled: <class 'NoneType'><None>\n",
      "name: <class 'str'><TApplicationType>\n",
      "parent: <class 'pygccxml.declarations.namespace.namespace_t'><:: [namespace]>\n",
      "partial_decl_string: <class 'str'><::TApplicationType>\n",
      "partial_name: <class 'str'><TApplicationType>\n",
      "top_parent: <class 'pygccxml.declarations.namespace.namespace_t'><:: [namespace]>\n",
      "values: <class 'list'><[('eUNDEFINED', 0), ('eCANAPE', 1), ('eAPPLOCATION', 3)]>\n"
     ]
    },
    {
     "name": "stderr",
     "output_type": "stream",
     "text": [
      "C:\\Projects\\bootstrap_WinPython\\WinPython\\python-3.6.6.amd64\\lib\\site-packages\\pygccxml\\declarations\\declaration.py:303: DeprecationWarning: The decorated_name attribute is deprecated. See the changelog.\n",
      "  DeprecationWarning)\n"
     ]
    }
   ],
   "source": [
    "                                              \n",
    "\n",
    "        0: \"UNDEFINED\",\n",
    "        1: \"CANAPE\",\n",
    "        3: \"APPLOCATION\",\n",
    "    },\n",
    "    \"ApplicationType\"    \n",
    "))"
   ]
  },
  {
   "cell_type": "code",
   "execution_count": 14,
   "metadata": {},
   "outputs": [
    {
     "name": "stdout",
     "output_type": "stream",
     "text": [
      "BOOL=ctypes.c_int\n",
      "DWORD=ctypes.c_ulong\n",
      "BYTE=ctypes.c_ubyte\n",
      "BOOLEAN=ctypes.c_uint\n",
      "UINT=ctypes.c_uint\n",
      "ULONG_PTR=ctypes.c_ulong\n",
      "DWORD_PTR=ULONG_PTR\n",
      "TAsap3DiagHdl=ctypes.c_ulong\n",
      "DiagNumericParamater=NumericParamater\n",
      "TMeasurementListEntry=MeasurementListEntry\n",
      "TAsap3Hdl=ctypes.POINTER(tAsap3Hdl)\n",
      "TRecorderID=ctypes.POINTER(ctypes.c_ulong)\n",
      "TModulHdl=ctypes.c_ushort\n",
      "TScriptHdl=DWORD_PTR\n",
      "TTime=ctypes.c_ulong\n"
     ]
    }
   ],
   "source": [
    "for var in ns.typedefs():\n",
    "    if var.name.startswith(\"_\"):\n",
    "        continue\n",
    "    if var.name.startswith(\"ON\"):\n",
    "        # Callbacks\n",
    "        continue\n",
    "    if var.name == var.decl_type.decl_string.strip(\"::\"):\n",
    "        # Structs\n",
    "        continue\n",
    "    if var.name == \"FNCDIAGNOFIFICATION\":\n",
    "        #todo\n",
    "        continue\n",
    "    c_type = (cpptype_to_ctypes(var.decl_type))\n",
    "    print(f\"{var.name}={c_type}\")"
   ]
  },
  {
   "cell_type": "code",
   "execution_count": 15,
   "metadata": {
    "scrolled": true
   },
   "outputs": [
    {
     "name": "stdout",
     "output_type": "stream",
     "text": [
      "TApplicationType [enumeration]\n"
     ]
    }
   ],
   "source": [
    "for x in ns.declarations:\n",
    "    if declarations.is_enum(x):\n",
    "        print(x)\n",
    "        break"
   ]
  },
  {
   "cell_type": "code",
   "execution_count": 16,
   "metadata": {},
   "outputs": [
    {
     "data": {
      "text/plain": [
       "'::TApplicationType'"
      ]
     },
     "execution_count": 16,
     "metadata": {},
     "output_type": "execute_result"
    }
   ],
   "source": [
    "x.decl_string"
   ]
  },
  {
   "cell_type": "code",
   "execution_count": 17,
   "metadata": {},
   "outputs": [
    {
     "data": {
      "text/plain": [
       "'::TApplicationType'"
      ]
     },
     "execution_count": 17,
     "metadata": {},
     "output_type": "execute_result"
    }
   ],
   "source": [
    "x.partial_decl_string"
   ]
  },
  {
   "cell_type": "code",
   "execution_count": 18,
   "metadata": {},
   "outputs": [
    {
     "data": {
      "text/plain": [
       "'enum'"
      ]
     },
     "execution_count": 18,
     "metadata": {},
     "output_type": "execute_result"
    }
   ],
   "source": [
    "x.elaborated_type_specifier"
   ]
  },
  {
   "cell_type": "code",
   "execution_count": null,
   "metadata": {},
   "outputs": [],
   "source": []
  },
  {
   "cell_type": "code",
   "execution_count": 59,
   "metadata": {},
   "outputs": [
    {
     "name": "stdout",
     "output_type": "stream",
     "text": [
      "TLayoutCoeffs [struct]\n"
     ]
    }
   ],
   "source": [
    "print(x)"
   ]
  },
  {
   "cell_type": "code",
   "execution_count": 57,
   "metadata": {},
   "outputs": [
    {
     "data": {
      "text/plain": [
       "False"
      ]
     },
     "execution_count": 57,
     "metadata": {},
     "output_type": "execute_result"
    }
   ],
   "source": [
    "declarations.is_enum(x)"
   ]
  },
  {
   "cell_type": "code",
   "execution_count": 59,
   "metadata": {},
   "outputs": [
    {
     "name": "stdout",
     "output_type": "stream",
     "text": [
      "|TApplicationType|\n",
      "|TApplicationType|\n",
      "|TScriptStatus|\n",
      "|e_RamMode|\n",
      "|TRecorderType|\n",
      "|ASAP3_EVENT_CODE|\n",
      "|ASAP3_EVENT_CODE|\n",
      "|TFormat|\n",
      "|TFormat|\n",
      "|TValueType|\n",
      "|TValueType|\n",
      "|TObjectType|\n",
      "|TObjectType|\n",
      "|eServiceStates|\n",
      "|EnRecorderState|\n",
      "|EnRecorderState|\n",
      "|EnParamType|\n",
      "|EnParamType|\n",
      "|TAsap3FileType|\n",
      "|TAsap3FileType|\n",
      "|TAsap3ECUState|\n",
      "|TAsap3ECUState|\n",
      "|TAsap3DataType|\n",
      "|TAsap3DataType|\n",
      "|TAsap3DBOType|\n",
      "|TAsap3DBOType|\n",
      "|tDriverType|\n",
      "|tDriverType|\n",
      "|tMeasurementState|\n",
      "|tMeasurementState|\n"
     ]
    },
    {
     "data": {
      "text/plain": [
       "[<pygccxml.declarations.enumeration.enumeration_t at 0x184d38e5b00>,\n",
       " <pygccxml.declarations.typedef.typedef_t at 0x184d38e5dd8>]"
      ]
     },
     "execution_count": 59,
     "metadata": {},
     "output_type": "execute_result"
    }
   ],
   "source": [
    "tmp=list()\n",
    "for x in ns.declarations:\n",
    "    if declarations.is_enum(x): #x.name in [\"Appversion\", \"TApplicationType\", \"TApplicationID\", \"TAsap3Hdl\", \"version_t\"]:\n",
    "        print(f\"|{x.name}|\")\n",
    "    if x.name.strip()==\"TApplicationType\":\n",
    "        tmp.append(x)\n",
    "tmp"
   ]
  },
  {
   "cell_type": "code",
   "execution_count": 60,
   "metadata": {},
   "outputs": [],
   "source": [
    "x = tmp[1]"
   ]
  },
  {
   "cell_type": "code",
   "execution_count": 64,
   "metadata": {},
   "outputs": [
    {
     "data": {
      "text/plain": [
       "<pygccxml.declarations.class_declaration.dependency_info_t at 0x184d396c978>"
      ]
     },
     "execution_count": 64,
     "metadata": {},
     "output_type": "execute_result"
    }
   ],
   "source": [
    "x.i_depend_on_them()[0]"
   ]
  },
  {
   "cell_type": "code",
   "execution_count": 73,
   "metadata": {},
   "outputs": [
    {
     "data": {
      "text/plain": [
       "('C:\\\\Projects\\\\python_CANape\\\\Development\\\\CANapAPI2.h', 267)"
      ]
     },
     "execution_count": 73,
     "metadata": {},
     "output_type": "execute_result"
    }
   ],
   "source": [
    "x.location.as_tuple()"
   ]
  },
  {
   "cell_type": "code",
   "execution_count": 70,
   "metadata": {},
   "outputs": [
    {
     "name": "stdout",
     "output_type": "stream",
     "text": [
      "attributes: <class 'NoneType'><None>\n",
      "byte_align: <class 'float'><4.0>\n",
      "byte_size: <class 'float'><4.0>\n",
      "cache: <class 'pygccxml.declarations.algorithms_cache.declaration_algs_cache_t'><<pygccxml.declarations.algorithms_cache.declaration_algs_cache_t object at 0x00000184D38E5CC0>>\n",
      "create_decl_string(): ::TApplicationType\n",
      "decl_string: <class 'str'><::TApplicationType>\n",
      "decl_type: <class 'pygccxml.declarations.cpptypes.declarated_t'><TApplicationType>\n",
      "decorated_name: <class 'NoneType'><None>\n",
      "demangled: <class 'NoneType'><None>\n",
      "get_mangled_name(): None\n",
      "i_depend_on_them(): [<pygccxml.declarations.class_declaration.dependency_info_t object at 0x00000184D3958C88>]\n",
      "is_artificial: <class 'bool'><False>\n",
      "location: <class 'pygccxml.declarations.location.location_t'><<pygccxml.declarations.location.location_t object at 0x00000184D38E5C88>>\n",
      "mangled: <class 'NoneType'><None>\n",
      "name: <class 'str'><TApplicationType>\n",
      "parent: <class 'pygccxml.declarations.namespace.namespace_t'><:: [namespace]>\n",
      "partial_decl_string: <class 'str'><::TApplicationType>\n",
      "partial_name: <class 'str'><TApplicationType>\n",
      "top_parent: <class 'pygccxml.declarations.namespace.namespace_t'><:: [namespace]>\n"
     ]
    },
    {
     "name": "stderr",
     "output_type": "stream",
     "text": [
      "C:\\Projects\\bootstrap_WinPython\\WinPython\\python-3.6.6.amd64\\lib\\site-packages\\pygccxml\\declarations\\declaration.py:303: DeprecationWarning: The decorated_name attribute is deprecated. See the changelog.\n",
      "  DeprecationWarning)\n"
     ]
    }
   ],
   "source": [
    "vardump(x.i_depend_on_them()[0].declaration)"
   ]
  },
  {
   "cell_type": "code",
   "execution_count": 62,
   "metadata": {},
   "outputs": [
    {
     "name": "stdout",
     "output_type": "stream",
     "text": [
      "attributes: <class 'NoneType'><None>\n",
      "byte_align: <class 'float'><4.0>\n",
      "byte_size: <class 'float'><4.0>\n",
      "cache: <class 'pygccxml.declarations.algorithms_cache.declaration_algs_cache_t'><<pygccxml.declarations.algorithms_cache.declaration_algs_cache_t object at 0x00000184D38E5CC0>>\n",
      "create_decl_string(): ::TApplicationType\n",
      "decl_string: <class 'str'><::TApplicationType>\n",
      "decl_type: <class 'pygccxml.declarations.cpptypes.declarated_t'><TApplicationType>\n",
      "decorated_name: <class 'NoneType'><None>\n",
      "demangled: <class 'NoneType'><None>\n",
      "get_mangled_name(): None\n",
      "i_depend_on_them(): [<pygccxml.declarations.class_declaration.dependency_info_t object at 0x00000184D39651D0>]\n",
      "is_artificial: <class 'bool'><False>\n",
      "location: <class 'pygccxml.declarations.location.location_t'><<pygccxml.declarations.location.location_t object at 0x00000184D38E5C88>>\n",
      "mangled: <class 'NoneType'><None>\n",
      "name: <class 'str'><TApplicationType>\n",
      "parent: <class 'pygccxml.declarations.namespace.namespace_t'><:: [namespace]>\n",
      "partial_decl_string: <class 'str'><::TApplicationType>\n",
      "partial_name: <class 'str'><TApplicationType>\n",
      "top_parent: <class 'pygccxml.declarations.namespace.namespace_t'><:: [namespace]>\n"
     ]
    },
    {
     "name": "stderr",
     "output_type": "stream",
     "text": [
      "C:\\Projects\\bootstrap_WinPython\\WinPython\\python-3.6.6.amd64\\lib\\site-packages\\pygccxml\\declarations\\declaration.py:303: DeprecationWarning: The decorated_name attribute is deprecated. See the changelog.\n",
      "  DeprecationWarning)\n"
     ]
    },
    {
     "ename": "AttributeError",
     "evalue": "'NoneType' object has no attribute 'i_depend_on_them'",
     "output_type": "error",
     "traceback": [
      "\u001b[1;31m---------------------------------------------------------------------------\u001b[0m",
      "\u001b[1;31mAttributeError\u001b[0m                            Traceback (most recent call last)",
      "\u001b[1;32m<ipython-input-62-ede1a06574c7>\u001b[0m in \u001b[0;36m<module>\u001b[1;34m()\u001b[0m\n\u001b[1;32m----> 1\u001b[1;33m \u001b[0mvardump\u001b[0m\u001b[1;33m(\u001b[0m\u001b[0mx\u001b[0m\u001b[1;33m)\u001b[0m\u001b[1;33m.\u001b[0m\u001b[0mi_depend_on_them\u001b[0m\u001b[1;33m(\u001b[0m\u001b[1;33m)\u001b[0m\u001b[1;33m\u001b[0m\u001b[0m\n\u001b[0m",
      "\u001b[1;31mAttributeError\u001b[0m: 'NoneType' object has no attribute 'i_depend_on_them'"
     ]
    }
   ],
   "source": [
    "vardump(x).i_depend_on_them()"
   ]
  },
  {
   "cell_type": "code",
   "execution_count": null,
   "metadata": {},
   "outputs": [],
   "source": []
  }
 ],
 "metadata": {
  "kernelspec": {
   "display_name": "Python 3",
   "language": "python",
   "name": "python3"
  },
  "language_info": {
   "codemirror_mode": {
    "name": "ipython",
    "version": 3
   },
   "file_extension": ".py",
   "mimetype": "text/x-python",
   "name": "python",
   "nbconvert_exporter": "python",
   "pygments_lexer": "ipython3",
   "version": "3.6.6"
  }
 },
 "nbformat": 4,
 "nbformat_minor": 2
}
