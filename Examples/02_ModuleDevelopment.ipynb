{
 "cells": [
  {
   "cell_type": "markdown",
   "metadata": {},
   "source": [
    "# Open an Existing Project\n",
    "\n",
    "Use existing example: ```C:\\Users\\Public\\Documents\\Vector CANape 17\\Examples\\XCPDemo``` for 'developing'."
   ]
  },
  {
   "cell_type": "code",
   "execution_count": 1,
   "metadata": {},
   "outputs": [],
   "source": [
    "import ctypes, os\n",
    "\n",
    "# Install CANape. Not included for copyright reasons.\n",
    "header_file = r\"C:\\Program Files\\Vector CANape 17\\CANapeAPI\\CANapAPI.h\"\n",
    "assert os.path.exists(header_file)\n",
    "CANapAPI_dll= r\"C:\\Program Files\\Vector CANape 17\\CANapeAPI\\CANapAPI64.dll\"\n",
    "assert os.path.exists(CANapAPI_dll)"
   ]
  },
  {
   "cell_type": "code",
   "execution_count": 2,
   "metadata": {},
   "outputs": [],
   "source": [
    "# Load the library and assign it to dll.\n",
    "dll = ctypes.windll.LoadLibrary(CANapAPI_dll)\n",
    "\n",
    "class struct_tAsap3Hdl(ctypes.Structure):\n",
    "    pass\n",
    "TAsap3Hdl = ctypes.POINTER(struct_tAsap3Hdl)\n",
    "\n",
    "TRecorderID = ctypes.POINTER(ctypes.c_ulong)\n",
    "TModulHdl = ctypes.c_ushort\n",
    "TScriptHdl = ctypes.c_ulong\n",
    "TTime = ctypes.c_ulong"
   ]
  },
  {
   "cell_type": "code",
   "execution_count": 3,
   "metadata": {},
   "outputs": [],
   "source": [
    "handle=TAsap3Hdl()\n",
    "handle_p = ctypes.byref(handle)\n",
    "\n",
    "# CANape requires absolute path.\n",
    "workingDir = os.path.abspath(r\"C:\\Users\\Public\\Documents\\Vector CANape 17\\Examples\\XCPDemo\")\n",
    "# Maximum response time (ms)\n",
    "responseTimeout = 10000 # 10 seconds\n",
    "fifoSize = 8192\n",
    "sampleSize = 256\n",
    "debugMode = True\n",
    "# Clear CANape device list.\n",
    "clearDeviceList = True\n",
    "# Start CANape in hex mode\n",
    "bHexmode = False\n",
    "# Start CANape in modal mode. (NonModal = True)\n",
    "bModalMode = True\n",
    "\n",
    "dll.Asap3Init5.restype = ctypes.c_bool\n",
    "dll.Asap3Init5.argtypes = (\n",
    "    ctypes.POINTER(TAsap3Hdl),\n",
    "    ctypes.c_ulong,\n",
    "    ctypes.c_char_p,\n",
    "    ctypes.c_ulong,\n",
    "    ctypes.c_ulong,\n",
    "    ctypes.c_bool,\n",
    "    ctypes.c_bool,\n",
    "    ctypes.c_bool,\n",
    "    ctypes.c_bool\n",
    ")"
   ]
  },
  {
   "cell_type": "code",
   "execution_count": 4,
   "metadata": {},
   "outputs": [],
   "source": [
    "result = dll.Asap3Init5(\n",
    "    handle_p,\n",
    "    responseTimeout,\n",
    "    workingDir.encode(\"UTF-8\"),\n",
    "    fifoSize,\n",
    "    sampleSize,\n",
    "    debugMode,\n",
    "    clearDeviceList,\n",
    "    bHexmode,\n",
    "    bModalMode,\n",
    ")\n"
   ]
  },
  {
   "cell_type": "code",
   "execution_count": 5,
   "metadata": {},
   "outputs": [],
   "source": [
    "dll.Asap3GetInteractiveMode.argtypes=(TAsap3Hdl, ctypes.POINTER(ctypes.c_bool))\n",
    "dll.Asap3GetInteractiveMode.restype=ctypes.c_bool"
   ]
  },
  {
   "cell_type": "code",
   "execution_count": 6,
   "metadata": {},
   "outputs": [
    {
     "data": {
      "text/plain": [
       "(True, c_bool(False))"
      ]
     },
     "execution_count": 6,
     "metadata": {},
     "output_type": "execute_result"
    }
   ],
   "source": [
    "mode = ctypes.c_bool(0)\n",
    "result = dll.Asap3GetInteractiveMode(handle, ctypes.byref(mode))\n",
    "result, mode"
   ]
  },
  {
   "cell_type": "code",
   "execution_count": 7,
   "metadata": {},
   "outputs": [],
   "source": [
    "dll.Asap3SetInteractiveMode.argtypes=(TAsap3Hdl, ctypes.c_bool)\n",
    "dll.Asap3SetInteractiveMode.restype=ctypes.c_bool"
   ]
  },
  {
   "cell_type": "code",
   "execution_count": 8,
   "metadata": {},
   "outputs": [
    {
     "data": {
      "text/plain": [
       "True"
      ]
     },
     "execution_count": 8,
     "metadata": {},
     "output_type": "execute_result"
    }
   ],
   "source": [
    "dll.Asap3SetInteractiveMode(handle, True)"
   ]
  },
  {
   "cell_type": "code",
   "execution_count": 9,
   "metadata": {},
   "outputs": [
    {
     "data": {
      "text/plain": [
       "(True, c_bool(True))"
      ]
     },
     "execution_count": 9,
     "metadata": {},
     "output_type": "execute_result"
    }
   ],
   "source": [
    "mode = ctypes.c_bool(0)\n",
    "result = dll.Asap3GetInteractiveMode(handle, ctypes.byref(mode))\n",
    "result, mode"
   ]
  },
  {
   "cell_type": "code",
   "execution_count": 10,
   "metadata": {},
   "outputs": [
    {
     "data": {
      "text/plain": [
       "True"
      ]
     },
     "execution_count": 10,
     "metadata": {},
     "output_type": "execute_result"
    }
   ],
   "source": [
    "dll.Asap3SetInteractiveMode(handle, False)"
   ]
  },
  {
   "cell_type": "code",
   "execution_count": 11,
   "metadata": {},
   "outputs": [],
   "source": [
    "dll.Asap3GetModuleCount.argtypes=(TAsap3Hdl, ctypes.POINTER(ctypes.c_ulong))\n",
    "dll.Asap3SetInteractiveMode.restype=ctypes.c_bool"
   ]
  },
  {
   "cell_type": "code",
   "execution_count": 12,
   "metadata": {},
   "outputs": [],
   "source": [
    "count = ctypes.c_ulong()\n",
    "result = dll.Asap3GetModuleCount(handle, ctypes.byref(count))"
   ]
  },
  {
   "cell_type": "code",
   "execution_count": 13,
   "metadata": {},
   "outputs": [
    {
     "data": {
      "text/plain": [
       "(1, c_ulong(1))"
      ]
     },
     "execution_count": 13,
     "metadata": {},
     "output_type": "execute_result"
    }
   ],
   "source": [
    "result, count"
   ]
  },
  {
   "cell_type": "code",
   "execution_count": 14,
   "metadata": {},
   "outputs": [],
   "source": [
    "class TModulHdl(ctypes.c_ushort):\n",
    "    def __init__(self, value=0):\n",
    "        self.value=value\n",
    "    def __repr__(self):\n",
    "        return f\"Module<{self.value}>\""
   ]
  },
  {
   "cell_type": "code",
   "execution_count": 38,
   "metadata": {},
   "outputs": [
    {
     "data": {
      "text/plain": [
       "True"
      ]
     },
     "execution_count": 38,
     "metadata": {},
     "output_type": "execute_result"
    }
   ],
   "source": [
    "module = TModulHdl(0)\n",
    "\n",
    "dll.Asap3GetModuleHandle.argtypes=(TAsap3Hdl, ctypes.c_char_p, ctypes.POINTER(TModulHdl))\n",
    "dll.Asap3GetModuleHandle.restype=ctypes.c_bool\n",
    "\n",
    "dll.Asap3GetModuleName.argtypes=(TAsap3Hdl, TModulHdl, ctypes.POINTER(ctypes.c_char_p));\n",
    "dll.Asap3GetModuleName.restype=ctypes.c_bool\n",
    "\n",
    "name = ctypes.c_char_p()\n",
    "dll.Asap3GetModuleName(handle, module, ctypes.byref(name))"
   ]
  },
  {
   "cell_type": "code",
   "execution_count": 23,
   "metadata": {},
   "outputs": [
    {
     "data": {
      "text/plain": [
       "c_char_p(1675370474528)"
      ]
     },
     "execution_count": 23,
     "metadata": {},
     "output_type": "execute_result"
    }
   ],
   "source": [
    "name"
   ]
  },
  {
   "cell_type": "code",
   "execution_count": 24,
   "metadata": {},
   "outputs": [
    {
     "data": {
      "text/plain": [
       "b'XCPsim'"
      ]
     },
     "execution_count": 24,
     "metadata": {},
     "output_type": "execute_result"
    }
   ],
   "source": [
    "name.value"
   ]
  },
  {
   "cell_type": "code",
   "execution_count": 39,
   "metadata": {},
   "outputs": [
    {
     "data": {
      "text/plain": [
       "(True, Module<0>)"
      ]
     },
     "execution_count": 39,
     "metadata": {},
     "output_type": "execute_result"
    }
   ],
   "source": [
    "mdl = TModulHdl()\n",
    "result = dll.Asap3GetModuleHandle(handle, name.value, ctypes.byref(mdl))\n",
    "result, mdl"
   ]
  },
  {
   "cell_type": "code",
   "execution_count": 43,
   "metadata": {},
   "outputs": [],
   "source": [
    "class TModulHdl(ctypes.c_ushort):\n",
    "    def __init__(self, value=0, handle=None):\n",
    "        self.value=value\n",
    "        self.handle=handle\n",
    "    def __repr__(self):\n",
    "        return f\"Module<{self.value}>\"\n",
    "    @property\n",
    "    def name(self):\n",
    "        name = ctypes.c_char_p()\n",
    "        result = dll.Asap3GetModuleName(self.handle, self.value,  ctypes.byref(name))\n",
    "        assert result==True\n",
    "        return name.value.decode(\"UTF-8\")\n",
    "        \n",
    "        "
   ]
  },
  {
   "cell_type": "code",
   "execution_count": 44,
   "metadata": {},
   "outputs": [],
   "source": [
    "mdl = TModulHdl(0, handle)"
   ]
  },
  {
   "cell_type": "code",
   "execution_count": 45,
   "metadata": {},
   "outputs": [
    {
     "data": {
      "text/plain": [
       "'XCPsim'"
      ]
     },
     "execution_count": 45,
     "metadata": {},
     "output_type": "execute_result"
    }
   ],
   "source": [
    "mdl.name"
   ]
  },
  {
   "cell_type": "code",
   "execution_count": null,
   "metadata": {},
   "outputs": [],
   "source": []
  }
 ],
 "metadata": {
  "kernelspec": {
   "display_name": "Python 3",
   "language": "python",
   "name": "python3"
  },
  "language_info": {
   "codemirror_mode": {
    "name": "ipython",
    "version": 3
   },
   "file_extension": ".py",
   "mimetype": "text/x-python",
   "name": "python",
   "nbconvert_exporter": "python",
   "pygments_lexer": "ipython3",
   "version": "3.6.6"
  }
 },
 "nbformat": 4,
 "nbformat_minor": 2
}
