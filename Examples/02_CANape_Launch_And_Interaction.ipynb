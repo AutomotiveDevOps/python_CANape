{
 "cells": [
  {
   "cell_type": "markdown",
   "metadata": {},
   "source": [
    "# Launch CANape with Python through ctypes Interface\n",
    "\n",
    "## Example Goals:\n",
    "\n",
    "- Load ```CANapAPI64.dll``` with ctypes.\n",
    "- Open CANape.\n",
    "- Enter Modal Mode. (Control CANape with the mouse).\n",
    "- Exit Modal Mode.\n",
    "- Exit CANape."
   ]
  },
  {
   "cell_type": "code",
   "execution_count": 1,
   "metadata": {},
   "outputs": [],
   "source": [
    "import os\n",
    "import ctypes\n",
    "CANapAPI_dll = os.path.abspath(r\"C:\\Program Files\\Vector CANape 19.0\\CANapeAPI\\CANapAPI64.dll\")\n",
    "# Load the library and assign it to dll.\n",
    "dll = ctypes.windll.LoadLibrary(CANapAPI_dll)"
   ]
  },
  {
   "cell_type": "code",
   "execution_count": 2,
   "metadata": {},
   "outputs": [],
   "source": [
    "class tAsap3Hdl(ctypes.Structure):\n",
    "    pass\n",
    "TAsap3Hdl = ctypes.POINTER(tAsap3Hdl)\n",
    "hdl=TAsap3Hdl()"
   ]
  },
  {
   "cell_type": "markdown",
   "metadata": {},
   "source": [
    "# Asap3Init5 - Modal Mode\n",
    "\n",
    "> In addition to Asap3Init4() CANape is started in nonmodal mode, if value of bool bModalMode is 'false'."
   ]
  },
  {
   "cell_type": "code",
   "execution_count": 3,
   "metadata": {},
   "outputs": [],
   "source": [
    "# CANape requires absolute path.\n",
    "workingDir = os.path.abspath(r\"C:\\Users\\Public\\Documents\\Vector CANape 19.0\\Examples\\XCPDemoOnETH\")\n",
    "os.chdir(workingDir)\n",
    "#Maximum response time (ms)\n",
    "responseTimeout = 10000 # 10 seconds\n",
    "fifoSize = 8192\n",
    "sampleSize = 256\n",
    "debugMode = True\n",
    "# Clear CANape device list.\n",
    "clearDeviceList = True\n",
    "# Start CANape in hex mode\n",
    "bHexmode = False\n",
    "# Start CANape in modal mode.\n",
    "bModalMode = True\n",
    "\n",
    "# Convert to ctypes.\n",
    "c_responseTimeout = ctypes.c_ulong()\n",
    "c_workingDir = ctypes.c_char_p(workingDir.encode(\"UTF-8\"))\n",
    "c_fifoSize = ctypes.c_ulong(fifoSize)\n",
    "c_sampleSize = ctypes.c_ulong(sampleSize)\n",
    "c_debugMode = ctypes.c_bool(debugMode)\n",
    "c_clearDeviceList = ctypes.c_bool(clearDeviceList)\n",
    "c_bHexmode = ctypes.c_bool(bHexmode)\n",
    "c_bModalMode = ctypes.c_bool(bModalMode)"
   ]
  },
  {
   "cell_type": "code",
   "execution_count": 4,
   "metadata": {},
   "outputs": [
    {
     "data": {
      "text/plain": [
       "True"
      ]
     },
     "execution_count": 4,
     "metadata": {},
     "output_type": "execute_result"
    }
   ],
   "source": [
    "# Return & arg types.\n",
    "dll.Asap3Init5.restype = ctypes.c_bool\n",
    "dll.Asap3Init5.argtypes = (\n",
    "    ctypes.POINTER(TAsap3Hdl),\n",
    "    ctypes.c_ulong,\n",
    "    ctypes.c_char_p,\n",
    "    ctypes.c_ulong,\n",
    "    ctypes.c_ulong,\n",
    "    ctypes.c_bool,\n",
    "    ctypes.c_bool,\n",
    "    ctypes.c_bool,\n",
    "    ctypes.c_bool\n",
    ")\n",
    "\n",
    "result = dll.Asap3Init5(\n",
    "    ctypes.byref(hdl),\n",
    "    c_responseTimeout,\n",
    "    c_workingDir,\n",
    "    c_fifoSize,\n",
    "    c_sampleSize,\n",
    "    c_debugMode,\n",
    "    c_clearDeviceList,\n",
    "    c_bHexmode,\n",
    "    c_bModalMode,\n",
    ")\n",
    "result"
   ]
  },
  {
   "cell_type": "code",
   "execution_count": 5,
   "metadata": {},
   "outputs": [
    {
     "data": {
      "text/plain": [
       "False"
      ]
     },
     "execution_count": 5,
     "metadata": {},
     "output_type": "execute_result"
    }
   ],
   "source": [
    "Name = ctypes.create_string_buffer(50)\n",
    "Size = ctypes.c_ulong()\n",
    "dll.Asap3GetApplicationName.restype = ctypes.c_bool\n",
    "dll.Asap3GetApplicationName.argtypes = [\n",
    "    TAsap3Hdl,\n",
    "    ctypes.POINTER(type(Name)),\n",
    "    ctypes.POINTER(ctypes.c_ulong)\n",
    "]\n",
    "dll.Asap3GetApplicationName(\n",
    "    hdl,\n",
    "    ctypes.byref(Name),\n",
    "    ctypes.byref(Size)\n",
    ")"
   ]
  },
  {
   "cell_type": "markdown",
   "metadata": {},
   "source": [
    "## Set Interactive Mode"
   ]
  },
  {
   "cell_type": "code",
   "execution_count": 6,
   "metadata": {},
   "outputs": [],
   "source": [
    "dll.Asap3SetInteractiveMode.restype = ctypes.c_bool\n",
    "dll.Asap3SetInteractiveMode.argtypes = (\n",
    "    TAsap3Hdl,\n",
    "    ctypes.c_bool,\n",
    ")\n",
    "dll.Asap3GetInteractiveMode.restype = ctypes.c_bool\n",
    "dll.Asap3GetInteractiveMode.argtypes = (\n",
    "    TAsap3Hdl,\n",
    "    ctypes.POINTER(ctypes.c_bool)\n",
    ")"
   ]
  },
  {
   "cell_type": "markdown",
   "metadata": {},
   "source": [
    "Interactive Mode Enable"
   ]
  },
  {
   "cell_type": "code",
   "execution_count": 7,
   "metadata": {},
   "outputs": [],
   "source": [
    "result = dll.Asap3SetInteractiveMode(\n",
    "    hdl,\n",
    "    ctypes.c_bool(True)\n",
    ")"
   ]
  },
  {
   "cell_type": "markdown",
   "metadata": {},
   "source": [
    "Interactive Mode Disable"
   ]
  },
  {
   "cell_type": "code",
   "execution_count": 11,
   "metadata": {},
   "outputs": [],
   "source": [
    "result = dll.Asap3SetInteractiveMode(\n",
    "    hdl,\n",
    "    ctypes.c_bool(False)\n",
    ")"
   ]
  },
  {
   "cell_type": "markdown",
   "metadata": {},
   "source": [
    "## Exit CANape"
   ]
  },
  {
   "cell_type": "code",
   "execution_count": 12,
   "metadata": {},
   "outputs": [
    {
     "data": {
      "text/plain": [
       "False"
      ]
     },
     "execution_count": 12,
     "metadata": {},
     "output_type": "execute_result"
    }
   ],
   "source": [
    "dll.Asap3Exit.argtypes= (TAsap3Hdl, )\n",
    "dll.Asap3Exit.restype=ctypes.c_bool\n",
    "\n",
    "result = dll.Asap3Exit(hdl)\n",
    "result"
   ]
  }
 ],
 "metadata": {
  "kernelspec": {
   "display_name": "Python 3",
   "language": "python",
   "name": "python3"
  },
  "language_info": {
   "codemirror_mode": {
    "name": "ipython",
    "version": 3
   },
   "file_extension": ".py",
   "mimetype": "text/x-python",
   "name": "python",
   "nbconvert_exporter": "python",
   "pygments_lexer": "ipython3",
   "version": "3.9.1"
  }
 },
 "nbformat": 4,
 "nbformat_minor": 2
}
