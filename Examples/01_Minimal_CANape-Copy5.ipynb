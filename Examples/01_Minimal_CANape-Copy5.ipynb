{
 "cells": [
  {
   "cell_type": "code",
   "execution_count": 1,
   "metadata": {},
   "outputs": [],
   "source": [
    "import ctypes\n",
    "import os\n",
    "import sys\n",
    "from cached_property import cached_property"
   ]
  },
  {
   "cell_type": "code",
   "execution_count": 2,
   "metadata": {},
   "outputs": [],
   "source": [
    "from CANapAPI.enums import *\n",
    "\n",
    "from CANapaAPI.types import *\n",
    "\n",
    "from CANapAPI.structs import *"
   ]
  },
  {
   "cell_type": "code",
   "execution_count": null,
   "metadata": {},
   "outputs": [],
   "source": [
    "class tAsap3Hdl(ctypes.Structure):\n",
    "    def __repr__(self):\n",
    "        return \"tAsap3Hdl<>\"\n",
    "\n",
    "TAsap3Hdl = ctypes.POINTER(tAsap3Hdl)\n"
   ]
  },
  {
   "cell_type": "code",
   "execution_count": null,
   "metadata": {},
   "outputs": [],
   "source": [
    "setattr(TAsap3Hdl, \"__repr__\", lambda self: f\"TAsap3Hdl<>\")\n"
   ]
  },
  {
   "cell_type": "code",
   "execution_count": null,
   "metadata": {},
   "outputs": [],
   "source": [
    "TAsap3Hdl = ctypes.POINTER(tAsap3Hdl)\n",
    "\n",
    "setattr(TAsap3Hdl, \"__repr__\", lambda self: f\"TAsap3Hdl<>\")\n",
    "setattr(TAsap3Hdl, \"byref\", property(lambda self: ctypes.byref(self)))\n"
   ]
  },
  {
   "cell_type": "code",
   "execution_count": null,
   "metadata": {},
   "outputs": [],
   "source": []
  },
  {
   "cell_type": "code",
   "execution_count": null,
   "metadata": {},
   "outputs": [],
   "source": [
    "n = TAsap3Hdl()"
   ]
  },
  {
   "cell_type": "code",
   "execution_count": null,
   "metadata": {},
   "outputs": [],
   "source": [
    "r = n.byref"
   ]
  },
  {
   "cell_type": "code",
   "execution_count": null,
   "metadata": {},
   "outputs": [],
   "source": [
    "type(r)"
   ]
  },
  {
   "cell_type": "code",
   "execution_count": null,
   "metadata": {},
   "outputs": [],
   "source": [
    "from CANapAPI."
   ]
  },
  {
   "cell_type": "code",
   "execution_count": null,
   "metadata": {},
   "outputs": [],
   "source": [
    "# Low level driver development class.\n",
    "class CANapAPI2(CANapAPI.CANapAPI):\n",
    "    pass"
   ]
  },
  {
   "cell_type": "code",
   "execution_count": null,
   "metadata": {},
   "outputs": [],
   "source": [
    "class canapy(CANapAPI2):\n",
    "    def __init__(self, *args, **kwargs):\n",
    "        if \"workingDir\" in kwargs:\n",
    "            self.workingDir=kwargs[\"workingDir\"]\n",
    "        else:\n",
    "            self.workingDir=os.path.abspath(\"canape_tmp\")\n",
    "        \n",
    "        super().__init__(*args, **kwargs)\n",
    "        \n",
    "    @cached_property\n",
    "    def version(self):\n",
    "        return self.Asap3Version()\n",
    "    \n",
    "    def init(self, modal=True):\n",
    "        return self.Asap3Init5(workingDir=self.workingDir, bModalMode=modal)\n",
    "    \n",
    "    def exit(self, close_canape=True):\n",
    "        return self.Asap3Exit2(True)\n",
    "    \n",
    "    def __enter__(self):\n",
    "        self.init()\n",
    "        return self\n",
    "    \n",
    "    def __exit__(self, *args):\n",
    "        self.Asap3Exit2()"
   ]
  },
  {
   "cell_type": "code",
   "execution_count": null,
   "metadata": {},
   "outputs": [],
   "source": [
    "workingDir = os.path.abspath(r\"C:\\Users\\Public\\Documents\\Vector CANape 17\\Examples\\XCPDemo\")"
   ]
  },
  {
   "cell_type": "code",
   "execution_count": null,
   "metadata": {},
   "outputs": [],
   "source": [
    "with canapy(workingDir=workingDir) as canape:\n",
    "    pass"
   ]
  },
  {
   "cell_type": "code",
   "execution_count": null,
   "metadata": {},
   "outputs": [],
   "source": []
  }
 ],
 "metadata": {
  "kernelspec": {
   "display_name": "Python 3",
   "language": "python",
   "name": "python3"
  },
  "language_info": {
   "codemirror_mode": {
    "name": "ipython",
    "version": 3
   },
   "file_extension": ".py",
   "mimetype": "text/x-python",
   "name": "python",
   "nbconvert_exporter": "python",
   "pygments_lexer": "ipython3",
   "version": "3.6.6"
  }
 },
 "nbformat": 4,
 "nbformat_minor": 2
}
