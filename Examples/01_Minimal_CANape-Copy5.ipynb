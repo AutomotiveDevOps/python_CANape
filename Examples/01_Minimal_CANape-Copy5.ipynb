{
 "cells": [
  {
   "cell_type": "code",
   "execution_count": 9,
   "metadata": {},
   "outputs": [],
   "source": [
    "import ctypes\n",
    "import os\n",
    "import sys\n",
    "from cached_property import cached_property\n",
    "import psutil"
   ]
  },
  {
   "cell_type": "code",
   "execution_count": 10,
   "metadata": {},
   "outputs": [],
   "source": [
    "import CANapAPI\n",
    "# Low level driver development class.\n",
    "class CANapAPI2(CANapAPI.CANapAPI):\n",
    "    pass\n",
    "\n",
    "class canapy(CANapAPI2):\n",
    "    def __init__(self, *args, **kwargs):\n",
    "        if \"workingDir\" in kwargs:\n",
    "            self.workingDir=kwargs[\"workingDir\"]\n",
    "        else:\n",
    "            self.workingDir=os.path.abspath(\"canape_tmp\")\n",
    "        self.modal=True\n",
    "        super().__init__(*args, **kwargs)\n",
    "        \n",
    "    @cached_property\n",
    "    def version(self):\n",
    "        return self.Asap3Version()\n",
    "    \n",
    "    def init(self, modal:bool =None):\n",
    "        if modal is None:\n",
    "            modal = self.modal\n",
    "        return self.Asap3Init5(workingDir=self.workingDir, bModalMode=modal)\n",
    "    \n",
    "    def exit(self, close_canape:bool=True):\n",
    "        result=self.Asap3Exit2(close_canape)\n",
    "        if close_canape:\n",
    "            self.kill()\n",
    "        return result\n",
    "    \n",
    "    def kill(self):     \n",
    "        for proc in psutil.process_iter():\n",
    "            if proc.name().startswith(\"CANape\"):\n",
    "                proc.kill()\n",
    "                break\n",
    "    \n",
    "    def __enter__(self):\n",
    "        self.kill()\n",
    "        self.init()\n",
    "        return self\n",
    "    \n",
    "    def __exit__(self, exception_type, exception_value, traceback):\n",
    "        self.exit(\n",
    "            close_canape=True\n",
    "        )\n",
    "canapy.kill(None)"
   ]
  },
  {
   "cell_type": "code",
   "execution_count": 6,
   "metadata": {},
   "outputs": [
    {
     "data": {
      "text/plain": [
       "False"
      ]
     },
     "execution_count": 6,
     "metadata": {},
     "output_type": "execute_result"
    }
   ],
   "source": [
    "workingDir = os.path.abspath(r\"C:\\Users\\Public\\Documents\\Vector CANape 17\\Examples\\XCPDemo\")\n",
    "canape =  canapy(workingDir=workingDir)\n",
    "canape.init()"
   ]
  },
  {
   "cell_type": "code",
   "execution_count": null,
   "metadata": {},
   "outputs": [],
   "source": [
    "from CANapAPI.types import TAsap3Hdl"
   ]
  },
  {
   "cell_type": "code",
   "execution_count": null,
   "metadata": {},
   "outputs": [],
   "source": [
    "import psutil"
   ]
  },
  {
   "cell_type": "code",
   "execution_count": null,
   "metadata": {},
   "outputs": [],
   "source": [
    "canape.dll.Asap3GetCommunicationType.restype=ctypes.c_bool"
   ]
  },
  {
   "cell_type": "code",
   "execution_count": null,
   "metadata": {},
   "outputs": [],
   "source": [
    "from CANapAPI.types import TModulHdl"
   ]
  },
  {
   "cell_type": "code",
   "execution_count": null,
   "metadata": {},
   "outputs": [],
   "source": [
    "module = TModulHdl(0)"
   ]
  },
  {
   "cell_type": "code",
   "execution_count": null,
   "metadata": {},
   "outputs": [],
   "source": [
    "commType=ctypes.create_string_buffer(256)"
   ]
  },
  {
   "cell_type": "code",
   "execution_count": null,
   "metadata": {},
   "outputs": [],
   "source": [
    "type(commType)"
   ]
  },
  {
   "cell_type": "code",
   "execution_count": null,
   "metadata": {},
   "outputs": [],
   "source": [
    "canape.init()"
   ]
  },
  {
   "cell_type": "code",
   "execution_count": null,
   "metadata": {},
   "outputs": [],
   "source": [
    "commType=ctypes.create_string_buffer(b\"\", 256)\n",
    "canape.dll.Asap3GetCommunicationType.argtypes=(TAsap3Hdl, TModulHdl, type(commType))\n",
    "canape.dll.Asap3GetCommunicationType(canape.handle, module, commType)"
   ]
  },
  {
   "cell_type": "code",
   "execution_count": null,
   "metadata": {},
   "outputs": [],
   "source": [
    "canape.dll"
   ]
  },
  {
   "cell_type": "code",
   "execution_count": null,
   "metadata": {},
   "outputs": [],
   "source": []
  },
  {
   "cell_type": "code",
   "execution_count": null,
   "metadata": {},
   "outputs": [],
   "source": []
  },
  {
   "cell_type": "code",
   "execution_count": null,
   "metadata": {},
   "outputs": [],
   "source": [
    "hdl = canape.handle\n",
    "directory = ctypes.create_string_buffer(b\"\", 255)\n",
    "size = ctypes.c_ulong()\n",
    "# Asap3GetProjectDirectory\n",
    "dll.Asap3GetProjectDirectory.argtypes=(TAsap3Hdl,ctypes.c_char_p, ctypes.POINTER(ctypes.c_ulong()))\n",
    "dll.Asap3GetProjectDirectory.restype=ctypes.c_bool\n",
    "\n",
    "result = dll.Asap3GetProjectDirectory(\n",
    "    hdl,\n",
    "    ctypes.byref(directory),\n",
    "    ctypes.pointer(size),\n",
    ")"
   ]
  },
  {
   "cell_type": "code",
   "execution_count": null,
   "metadata": {},
   "outputs": [],
   "source": []
  },
  {
   "cell_type": "code",
   "execution_count": null,
   "metadata": {},
   "outputs": [],
   "source": [
    "type(directory)"
   ]
  },
  {
   "cell_type": "code",
   "execution_count": null,
   "metadata": {},
   "outputs": [],
   "source": [
    "dll = canape.dll\n",
    "hdl = canape.handle\n",
    "directory = ctypes.create_string_buffer(b\"\", 256)\n",
    "size = ctypes.c_ulong()\n",
    "# Asap3GetProjectDirectory\n",
    "dll.Asap3GetProjectDirectory.argtypes=(TAsap3Hdl, ctypes.POINTER(type(directory)), ctypes.POINTER(ctypes.c_ulong))\n",
    "dll.Asap3GetProjectDirectory.restype=ctypes.c_bool\n",
    "\n",
    "result = dll.Asap3GetProjectDirectory(\n",
    "    hdl,\n",
    "    ctypes.byref(directory),\n",
    "    ctypes.byref(size),\n",
    ")"
   ]
  },
  {
   "cell_type": "code",
   "execution_count": null,
   "metadata": {},
   "outputs": [],
   "source": [
    "size.value"
   ]
  },
  {
   "cell_type": "code",
   "execution_count": null,
   "metadata": {},
   "outputs": [],
   "source": [
    "directory.value"
   ]
  },
  {
   "cell_type": "code",
   "execution_count": null,
   "metadata": {},
   "outputs": [],
   "source": [
    "dll = CANapAPI2(workingDir=workingDir)"
   ]
  },
  {
   "cell_type": "code",
   "execution_count": null,
   "metadata": {},
   "outputs": [],
   "source": [
    "canape.Asap555"
   ]
  }
 ],
 "metadata": {
  "kernelspec": {
   "display_name": "Python 3",
   "language": "python",
   "name": "python3"
  },
  "language_info": {
   "codemirror_mode": {
    "name": "ipython",
    "version": 3
   },
   "file_extension": ".py",
   "mimetype": "text/x-python",
   "name": "python",
   "nbconvert_exporter": "python",
   "pygments_lexer": "ipython3",
   "version": "3.6.6"
  }
 },
 "nbformat": 4,
 "nbformat_minor": 2
}
