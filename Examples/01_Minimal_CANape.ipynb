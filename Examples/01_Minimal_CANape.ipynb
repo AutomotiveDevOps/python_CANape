{
 "cells": [
  {
   "cell_type": "markdown",
   "metadata": {},
   "source": [
    "# Minimal CANape Python ctypes Interface\n",
    "\n",
    "This notebook is a minimal example of how to use ```CANapeAPI``` from within Python using ```ctypes```.\n",
    "\n",
    "## Example Goals:\n",
    "\n",
    "- Load ```CANapAPI64.dll``` with ctypes.\n",
    "- Read the library version.\n",
    "- Open CANape in Modal Mode.\n",
    "\n",
    "## References:\n",
    "\n",
    "- [```ctypes``` - A foreign function for Python](https://docs.python.org/3/library/ctypes.html)\n",
    "- [CANape ASAM-MCD3 Interface Version Application Note AN-AMC-1-103](http://docplayer.net/56065428-Canape-asam-mcd3-interface-version-application-note-an-amc-1-103.html)\n",
    "- ```CANapAPI.h``` (C:\\Program Files\\Vector CANape 17\\CANapeAPI\\CANapAPI.h)\n",
    "        Description:\n",
    "        |    ASAP3-Interface\n",
    "        |    Version    : 1.0 28-AUG-2000\n",
    "        |-----------------------------------------------------------------------------\n",
    "        | Copyright (c) by Vector Informatik GmbH.  All rights reserved.\n",
    "- A lot of trial and error."
   ]
  },
  {
   "cell_type": "markdown",
   "metadata": {},
   "source": [
    "# Get CANapAPI Version.\n",
    "\n",
    "- Introduction to ```ctypes```\n",
    "- Introduction to creating Python types from c types\n",
    "- Creating Pythonic functions from c-functions."
   ]
  },
  {
   "cell_type": "markdown",
   "metadata": {},
   "source": [
    "### Get Version. v0\n",
    "\n",
    "- Minimal ctypes.\n",
    "- Not Pythonic.\n",
    "- Not fun to use."
   ]
  },
  {
   "cell_type": "code",
   "execution_count": 30,
   "metadata": {},
   "outputs": [
    {
     "name": "stdout",
     "output_type": "stream",
     "text": [
      "'version_t' first occurs on line 958 in C:\\Program Files\\Vector CANape 17\\CANapeAPI\\CANapAPI.h\n"
     ]
    }
   ],
   "source": [
    "# Load the library and assign it to dll.\n",
    "dll = ctypes.windll.LoadLibrary(CANapAPI_dll)\n",
    "\n",
    "# Define version_t as a Python ctypes-structure.\n",
    "class version_t(ctypes.Structure):\n",
    "    _fields_ = [\n",
    "        ('dllMainVersion', ctypes.c_int),\n",
    "        ('dllSubVersion', ctypes.c_int),\n",
    "        ('dllRelease', ctypes.c_int),\n",
    "        ('osVersion', ctypes.c_char * 50),\n",
    "        ('osRelease', ctypes.c_int),\n",
    "    ]\n",
    "first_occurance(\"version_t\")"
   ]
  },
  {
   "cell_type": "code",
   "execution_count": 31,
   "metadata": {},
   "outputs": [],
   "source": [
    "version=version_t()\n",
    "result = dll.Asap3GetVersion(ctypes.byref(version))"
   ]
  },
  {
   "cell_type": "code",
   "execution_count": 32,
   "metadata": {},
   "outputs": [
    {
     "data": {
      "text/plain": [
       "1818758657"
      ]
     },
     "execution_count": 32,
     "metadata": {},
     "output_type": "execute_result"
    }
   ],
   "source": [
    "result"
   ]
  },
  {
   "cell_type": "code",
   "execution_count": 33,
   "metadata": {},
   "outputs": [
    {
     "data": {
      "text/plain": [
       "<__main__.version_t at 0x2366c632848>"
      ]
     },
     "execution_count": 33,
     "metadata": {},
     "output_type": "execute_result"
    }
   ],
   "source": [
    "version"
   ]
  },
  {
   "cell_type": "markdown",
   "metadata": {},
   "source": [
    "A man is flying in a hot air balloon and realizes he is lost. He spots a man down below and lowers the balloon to shout: “Excuse me, can you help me? I promised my friend I would meet him half an hour ago, but I don’t know where I am.”\n",
    "\n",
    "The man below says: “Yes. You are in a hot air balloon, hovering approximately 30 feet above this field. You are between 40 and 42 degrees N. latitude, and between 58 and 60 degrees W. longitude.”\n",
    "\n",
    "“You must be an engineer” says the balloonist.\n",
    "\n",
    "“I am” replies the man. “How did you know.”\n",
    "\n",
    "“Well” says the balloonist, “everything you have told me is technically correct, but I have no idea what to make of your information, and the fact is I am still lost.”"
   ]
  },
  {
   "cell_type": "markdown",
   "metadata": {},
   "source": [
    "# get_version. v1\n",
    "\n",
    "- Make it Pythonic\n",
    "- Advantages of High level language\n",
    "  - High level languages are programmer friendly. ...\n",
    "  - It provide higher level of abstraction from machine languages.\n",
    "  - It is machine independent language.\n",
    "  - Easy to learn.\n",
    "  - Less error prone, easy to find and debug errors.\n",
    "  - High level programming results in better programming productivity."
   ]
  },
  {
   "cell_type": "code",
   "execution_count": 34,
   "metadata": {},
   "outputs": [],
   "source": [
    "# Load the library and assign it to dll.\n",
    "dll = ctypes.windll.LoadLibrary(CANapAPI_dll)\n",
    "# Define version_t as a Python ctypes-structure.\n",
    "class version_t(ctypes.Structure):\n",
    "    _fields_ = [\n",
    "        ('dllMainVersion', ctypes.c_int),\n",
    "        ('dllSubVersion', ctypes.c_int),\n",
    "        ('dllRelease', ctypes.c_int),\n",
    "        ('osVersion', ctypes.c_char * 50),\n",
    "        ('osRelease', ctypes.c_int),\n",
    "    ]\n",
    "    \n",
    "    def __eq__(self, other):\n",
    "        if isinstance(other, type(self)):\n",
    "            return str(other)==str(self)\n",
    "        if isinstance(other, str):\n",
    "            return str(other)==str(self)\n",
    "        raise Exception(f\"Unsupported class comparison {type(other)}\")\n",
    "    \n",
    "    def __repr__(self):\n",
    "        return f\"API_VERSION<{self.dllMainVersion}.{self.dllSubVersion}.{self.dllRelease}>\"\n",
    "\n",
    "    def __str__(self):\n",
    "        return \"{}.{}.{}\".format(self.dllMainVersion, self.dllSubVersion, self.dllRelease)\n",
    "\n",
    "## Set the argument and return types.\n",
    "# Pass by reference.\n",
    "dll.Asap3GetVersion.argtypes = (ctypes.POINTER(version_t),)\n",
    "# Return a success bool.\n",
    "dll.Asap3GetVersion.restype = ctypes.c_bool"
   ]
  },
  {
   "cell_type": "code",
   "execution_count": 35,
   "metadata": {},
   "outputs": [],
   "source": [
    "#def get_version():\n",
    "version = version_t()\n",
    "result = dll.Asap3GetVersion(ctypes.byref(version))"
   ]
  },
  {
   "cell_type": "code",
   "execution_count": 36,
   "metadata": {},
   "outputs": [
    {
     "data": {
      "text/plain": [
       "(True, API_VERSION<2.3.1>)"
      ]
     },
     "execution_count": 36,
     "metadata": {},
     "output_type": "execute_result"
    }
   ],
   "source": [
    "result, version"
   ]
  },
  {
   "cell_type": "code",
   "execution_count": 37,
   "metadata": {},
   "outputs": [
    {
     "data": {
      "text/plain": [
       "True"
      ]
     },
     "execution_count": 37,
     "metadata": {},
     "output_type": "execute_result"
    }
   ],
   "source": [
    "version==version"
   ]
  },
  {
   "cell_type": "code",
   "execution_count": 38,
   "metadata": {},
   "outputs": [
    {
     "data": {
      "text/plain": [
       "True"
      ]
     },
     "execution_count": 38,
     "metadata": {},
     "output_type": "execute_result"
    }
   ],
   "source": [
    "version==\"2.3.1\""
   ]
  },
  {
   "cell_type": "code",
   "execution_count": 39,
   "metadata": {},
   "outputs": [
    {
     "name": "stdout",
     "output_type": "stream",
     "text": [
      "2.3.1\n"
     ]
    }
   ],
   "source": [
    "print(version)"
   ]
  },
  {
   "cell_type": "code",
   "execution_count": 40,
   "metadata": {},
   "outputs": [
    {
     "data": {
      "text/plain": [
       "(b'Windows95/WindowsNT', 0)"
      ]
     },
     "execution_count": 40,
     "metadata": {},
     "output_type": "execute_result"
    }
   ],
   "source": [
    "version.osVersion, version.osRelease"
   ]
  },
  {
   "cell_type": "code",
   "execution_count": 41,
   "metadata": {},
   "outputs": [
    {
     "data": {
      "text/plain": [
       "(2, 3, 1)"
      ]
     },
     "execution_count": 41,
     "metadata": {},
     "output_type": "execute_result"
    }
   ],
   "source": [
    "version.dllMainVersion, version.dllSubVersion, version.dllRelease"
   ]
  },
  {
   "cell_type": "markdown",
   "metadata": {},
   "source": [
    "# Open CANape in Modal Mode"
   ]
  },
  {
   "cell_type": "markdown",
   "metadata": {},
   "source": [
    "Modal mode is the best way I've found to reverse engineer this. It allows you to relequish control from Python and do something with the mouse.t"
   ]
  },
  {
   "cell_type": "code",
   "execution_count": 42,
   "metadata": {},
   "outputs": [],
   "source": [
    "class struct_tAsap3Hdl(ctypes.Structure):\n",
    "    pass\n",
    "TAsap3Hdl = ctypes.POINTER(struct_tAsap3Hdl) # C:\\\\Program Files (x86)\\\\Vector CANape 14\\\\CANapeAPI\\\\CANapAPI.h: 623\n",
    "handle=TAsap3Hdl()\n",
    "handle_p = ctypes.byref(handle)"
   ]
  },
  {
   "cell_type": "code",
   "execution_count": 43,
   "metadata": {},
   "outputs": [],
   "source": [
    "# CANape requires absolute path.\n",
    "workingDir = os.path.abspath(\"canape_tmp\")\n",
    "# Maximum response time (ms)\n",
    "responseTimeout = 10000 # 10 seconds\n",
    "fifoSize = 8192\n",
    "sampleSize = 256\n",
    "debugMode = True\n",
    "# Clear CANape device list.\n",
    "clearDeviceList = True\n",
    "# Start CANape in hex mode\n",
    "bHexmode = False\n",
    "# Start CANape in modal mode. (NonModal = True)\n",
    "bModalMode = False\n",
    "\n",
    "# Convert to ctypes.\n",
    "c_responseTimeout = ctypes.c_ulong()\n",
    "c_workingDir = ctypes.c_char_p(workingDir.encode(\"UTF-8\"))\n",
    "c_fifoSize = ctypes.c_ulong(fifoSize)\n",
    "c_sampleSize = ctypes.c_ulong(sampleSize)\n",
    "c_debugMode = ctypes.c_bool(debugMode)\n",
    "c_clearDeviceList = ctypes.c_bool(clearDeviceList)\n",
    "c_bHexmode = ctypes.c_bool(bHexmode)\n",
    "c_bModalMode = ctypes.c_bool(bModalMode)"
   ]
  },
  {
   "cell_type": "code",
   "execution_count": 44,
   "metadata": {},
   "outputs": [
    {
     "name": "stdout",
     "output_type": "stream",
     "text": [
      "'Asap3Init5' first occurs on line 1266 in C:\\Program Files\\Vector CANape 17\\CANapeAPI\\CANapAPI.h\n"
     ]
    }
   ],
   "source": [
    "first_occurance(\"Asap3Init5\")"
   ]
  },
  {
   "cell_type": "code",
   "execution_count": 51,
   "metadata": {},
   "outputs": [],
   "source": [
    "dll.Asap3Init5.restype = ctypes.c_bool\n",
    "dll.Asap3Init5.argtypes = (\n",
    "    ctypes.POINTER(TAsap3Hdl),\n",
    "    ctypes.c_ulong,\n",
    "    ctypes.c_char_p,\n",
    "    ctypes.c_ulong,\n",
    "    ctypes.c_ulong,\n",
    "    ctypes.c_bool,\n",
    "    ctypes.c_bool,\n",
    "    ctypes.c_bool,\n",
    "    ctypes.c_bool\n",
    ")"
   ]
  },
  {
   "cell_type": "code",
   "execution_count": 52,
   "metadata": {
    "scrolled": true
   },
   "outputs": [
    {
     "data": {
      "text/plain": [
       "False"
      ]
     },
     "execution_count": 52,
     "metadata": {},
     "output_type": "execute_result"
    }
   ],
   "source": [
    "result = dll.Asap3Init5(\n",
    "    handle_p,\n",
    "    c_responseTimeout,\n",
    "    c_workingDir,\n",
    "    c_fifoSize,\n",
    "    c_sampleSize,\n",
    "    c_debugMode,\n",
    "    c_clearDeviceList,\n",
    "    c_bHexmode,\n",
    "    c_bModalMode,\n",
    ")\n",
    "result"
   ]
  },
  {
   "cell_type": "markdown",
   "metadata": {},
   "source": [
    "CANape should launch in modal mode and look like this:\n",
    "\n",
    "![](init5_result.png)"
   ]
  },
  {
   "cell_type": "markdown",
   "metadata": {},
   "source": [
    "Exit CANape by passing the handle into the exit function."
   ]
  },
  {
   "cell_type": "code",
   "execution_count": 48,
   "metadata": {},
   "outputs": [
    {
     "name": "stdout",
     "output_type": "stream",
     "text": [
      "'Asap3Exit' first occurs on line 84 in C:\\Program Files\\Vector CANape 17\\CANapeAPI\\CANapAPI.h\n"
     ]
    },
    {
     "data": {
      "text/plain": [
       "False"
      ]
     },
     "execution_count": 48,
     "metadata": {},
     "output_type": "execute_result"
    }
   ],
   "source": [
    "first_occurance(\"Asap3Exit\")\n",
    "dll.Asap3Exit.argtypes= (TAsap3Hdl, )\n",
    "dll.Asap3Exit.restype=ctypes.c_bool\n",
    "\n",
    "result = dll.Asap3Exit(handle)\n",
    "result"
   ]
  },
  {
   "cell_type": "markdown",
   "metadata": {},
   "source": [
    "Non-Modal Mode ```bModalMode=True```"
   ]
  },
  {
   "cell_type": "code",
   "execution_count": null,
   "metadata": {},
   "outputs": [],
   "source": [
    "result = dll.Asap3Init5(\n",
    "    handle_p,\n",
    "    responseTimeout,\n",
    "    workingDir.encode(\"UTF-8\"),\n",
    "    fifoSize,\n",
    "    sampleSize,\n",
    "    debugMode,\n",
    "    clearDeviceList,\n",
    "    bHexmode,\n",
    "    True\n",
    ")"
   ]
  },
  {
   "cell_type": "markdown",
   "metadata": {},
   "source": [
    "CANape default Window after non-modal launch.\n",
    "\n",
    "![non-modal](init5_result_nonmodal.png)"
   ]
  },
  {
   "cell_type": "code",
   "execution_count": null,
   "metadata": {},
   "outputs": [],
   "source": [
    "first_occurance(\"Asap3Exit\")\n",
    "dll.Asap3Exit.argtypes= (TAsap3Hdl, )\n",
    "dll.Asap3Exit.restype=ctypes.c_bool\n",
    "\n",
    "result = dll.Asap3Exit(handle)\n",
    "result"
   ]
  },
  {
   "cell_type": "markdown",
   "metadata": {},
   "source": [
    "# Appendices & Code\n",
    "\n",
    "Required Software Installed:\n",
    "\n",
    "- Python 3.x\n",
    "- Jupyter Notebook\n",
    "- [Vector CANape 17.0 Demo](https://www.vector.com/int/en/download/?tx_vectorproducts_productdownloaddetail%5Bdownload%5D=43948&tx_vectorproducts_productdownloaddetail%5Baction%5D=show&tx_vectorproducts_productdownloaddetail%5Bcontroller%5D=Productdownload&cHash=3a39f97388a3ea8f6cb6e9371ea6938b) [MD5 hash : \t5e44feeca4aab18b64ecbc556160f66e]"
   ]
  },
  {
   "cell_type": "markdown",
   "metadata": {},
   "source": [
    "### Imports"
   ]
  },
  {
   "cell_type": "code",
   "execution_count": 27,
   "metadata": {},
   "outputs": [],
   "source": [
    "\"\"\"\n",
    "ctypes is a foreign function library for Python. \n",
    "It provides C compatible data types, and allows calling functions in \n",
    "DLLs or shared libraries.\n",
    "It can be used to wrap these libraries in pure Python.\n",
    "\"\"\"\n",
    "\n",
    "import ctypes\n",
    "import os"
   ]
  },
  {
   "cell_type": "code",
   "execution_count": 57,
   "metadata": {},
   "outputs": [],
   "source": [
    "# Install CANape. Not included for copyright reasons.\n",
    "header_file = r\"C:\\Program Files\\Vector CANape 17\\CANapeAPI\\CANapAPI.h\"\n",
    "assert os.path.exists(header_file)\n",
    "CANapAPI_dll= r\"C:\\Program Files\\Vector CANape 17\\CANapeAPI\\CANapAPI64.dll\"\n",
    "assert os.path.exists(CANapAPI_dll)"
   ]
  },
  {
   "cell_type": "code",
   "execution_count": 29,
   "metadata": {},
   "outputs": [],
   "source": [
    "# Short tool to help cross reference Python code \n",
    "# with where it occurs in the CANapAPI header.\n",
    "def first_occurance(needle):\n",
    "    with open(header_file, \"r\") as haystack:\n",
    "        for line_no, line in enumerate(haystack.readlines()):\n",
    "            if needle in line:\n",
    "                print(f\"'{needle}' first occurs on line {line_no} in {header_file}\")\n",
    "                return"
   ]
  },
  {
   "cell_type": "code",
   "execution_count": null,
   "metadata": {},
   "outputs": [],
   "source": []
  }
 ],
 "metadata": {
  "kernelspec": {
   "display_name": "Python 3",
   "language": "python",
   "name": "python3"
  },
  "language_info": {
   "codemirror_mode": {
    "name": "ipython",
    "version": 3
   },
   "file_extension": ".py",
   "mimetype": "text/x-python",
   "name": "python",
   "nbconvert_exporter": "python",
   "pygments_lexer": "ipython3",
   "version": "3.6.6"
  }
 },
 "nbformat": 4,
 "nbformat_minor": 2
}
