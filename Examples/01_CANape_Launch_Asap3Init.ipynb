{
 "cells": [
  {
   "cell_type": "markdown",
   "metadata": {},
   "source": [
    "# Launch CANape with Python through ctypes Interface\n",
    "\n",
    "## Example Goals:\n",
    "\n",
    "- Load ```CANapAPI64.dll``` with ctypes.\n",
    "- Open CANape.\n",
    "- Exit CANape.\n",
    "\n",
    "## References:\n",
    "\n",
    "- [```ctypes``` - A foreign function for Python](https://docs.python.org/3/library/ctypes.html)\n",
    "- [CANape ASAM-MCD3 Interface Version Application Note AN-AMC-1-103](http://docplayer.net/56065428-Canape-asam-mcd3-interface-version-application-note-an-amc-1-103.html)\n",
    "- ```CANapAPI.h``` (C:\\Program Files\\Vector CANape 19\\CANapeAPI\\CANapAPI.h)\n",
    "        Description:\n",
    "        |    ASAP3-Interface\n",
    "        |    Version    : 1.0 28-AUG-2000\n",
    "        |-----------------------------------------------------------------------------\n",
    "        | Copyright (c) by Vector Informatik GmbH.  All rights reserved."
   ]
  },
  {
   "cell_type": "code",
   "execution_count": 10,
   "metadata": {},
   "outputs": [],
   "source": [
    "import os\n",
    "import ctypes\n",
    "CANapAPI_dll = os.path.abspath(r\"C:\\Program Files\\Vector CANape 19.0\\CANapeAPI\\CANapAPI64.dll\")\n",
    "# Load the library and assign it to dll.\n",
    "dll = ctypes.windll.LoadLibrary(CANapAPI_dll)"
   ]
  },
  {
   "cell_type": "markdown",
   "metadata": {},
   "source": [
    "Start to 'port' `CANapAPI.h`.\n",
    "\n",
    "This creates a handle for reference in some functions."
   ]
  },
  {
   "cell_type": "markdown",
   "metadata": {},
   "source": [
    "```struct tAsap3Hdl;```"
   ]
  },
  {
   "cell_type": "code",
   "execution_count": 11,
   "metadata": {},
   "outputs": [],
   "source": [
    "class tAsap3Hdl(ctypes.Structure):\n",
    "    pass"
   ]
  },
  {
   "cell_type": "markdown",
   "metadata": {},
   "source": [
    "```typedef struct tAsap3Hdl *TAsap3Hdl;```"
   ]
  },
  {
   "cell_type": "code",
   "execution_count": 12,
   "metadata": {},
   "outputs": [],
   "source": [
    "TAsap3Hdl = ctypes.POINTER(tAsap3Hdl)"
   ]
  },
  {
   "cell_type": "markdown",
   "metadata": {},
   "source": [
    "Create a handle."
   ]
  },
  {
   "cell_type": "code",
   "execution_count": 13,
   "metadata": {},
   "outputs": [],
   "source": [
    "hdl=TAsap3Hdl()"
   ]
  },
  {
   "cell_type": "markdown",
   "metadata": {},
   "source": [
    "# Asap3Init\n",
    "\n",
    "Returns a handle to be used in subsequent function calls. CANape will be started (if not actually running)\n",
    " \n",
    "- hdl \\output Asap3Handle for further access to this interface.\n",
    "- responseTimeout \\input Maximum response time\n",
    "- workingDir \\input Sets CANape  working directory By default the project file CANape.INI is saved at the working directory used for the CANape session. \n",
    "  If you want to load a different project file, please append the project file name to 'workingDir'.\n",
    "- fifoSize \\input Total size of FIFO used for data acquisition,    \n",
    "  i.e. number of FIFO entries which can be read out using Asap3GetNextSample(). Each FIFO entry includes at most ACQ_MAX_VALUES=128 measurement values.\n",
    " *\n",
    "- debugMode \\input if this is true call CANape in 'normal' screen size instead of 'minimized'.\n",
    "  if it is false call CANape in 'minimized' mode.\n",
    "\n",
    "```\n",
    "extern bool Asap3Init(\n",
    "    TAsap3Hdl * hdl,\n",
    "    unsigned long responseTimeout,\n",
    "    const char *workingDir,\n",
    "    unsigned long fifoSize,\n",
    "    bool debugMode);\n",
    "```"
   ]
  },
  {
   "cell_type": "markdown",
   "metadata": {},
   "source": [
    "Define variables in Python"
   ]
  },
  {
   "cell_type": "code",
   "execution_count": 14,
   "metadata": {},
   "outputs": [],
   "source": [
    "# Maximum response time (ms)\n",
    "responseTimeout = 10000 # 10 seconds\n",
    "# CANape requires absolute path.\n",
    "workingDir = os.path.abspath(\".\")\n",
    "fifoSize = 8192\n",
    "debugMode = True"
   ]
  },
  {
   "cell_type": "markdown",
   "metadata": {},
   "source": [
    "> By default functions are assumed to return the C int type. Other return types can be specified by setting the restype attribute of the function object. - [Return Types](https://docs.python.org/3/library/ctypes.html#return-types)\n",
    "\n",
    "> It is possible to specify the required argument types of functions exported from DLLs by setting the argtypes attribute. - [`ctypes` documentation](https://docs.python.org/3/library/ctypes.html#specifying-the-required-argument-types-function-prototypes)"
   ]
  },
  {
   "cell_type": "code",
   "execution_count": 15,
   "metadata": {},
   "outputs": [],
   "source": [
    "dll.Asap3Init.restype = ctypes.c_bool\n",
    "dll.Asap3Init.argtypes = (\n",
    "    ctypes.POINTER(TAsap3Hdl),\n",
    "    ctypes.c_ulong,\n",
    "    ctypes.c_char_p,\n",
    "    ctypes.c_ulong,\n",
    "    ctypes.c_bool,\n",
    ")"
   ]
  },
  {
   "cell_type": "markdown",
   "metadata": {},
   "source": [
    "Cast them to `ctypes` types. This is hypothetically covered by argtypes, but in practice `c_char_p` is not.\n",
    "\n",
    "```ArgumentError: argument 3: <class 'TypeError'>: wrong type```"
   ]
  },
  {
   "cell_type": "code",
   "execution_count": 17,
   "metadata": {},
   "outputs": [],
   "source": [
    "c_responseTimeout = ctypes.c_ulong()\n",
    "c_workingDir = ctypes.c_char_p(workingDir.encode(\"UTF-8\"))\n",
    "c_fifoSize = ctypes.c_ulong(fifoSize)\n",
    "c_debugMode = ctypes.c_bool(debugMode)"
   ]
  },
  {
   "cell_type": "markdown",
   "metadata": {},
   "source": [
    "Launch CANape:"
   ]
  },
  {
   "cell_type": "code",
   "execution_count": 18,
   "metadata": {},
   "outputs": [
    {
     "data": {
      "text/plain": [
       "True"
      ]
     },
     "execution_count": 18,
     "metadata": {},
     "output_type": "execute_result"
    }
   ],
   "source": [
    "dll.Asap3Init(\n",
    "    ctypes.byref(hdl),\n",
    "    c_responseTimeout,\n",
    "    c_workingDir,\n",
    "    c_fifoSize,\n",
    "    c_debugMode,\n",
    ")"
   ]
  },
  {
   "cell_type": "markdown",
   "metadata": {},
   "source": [
    "Exit CANape:"
   ]
  },
  {
   "cell_type": "code",
   "execution_count": 23,
   "metadata": {},
   "outputs": [
    {
     "data": {
      "text/plain": [
       "True"
      ]
     },
     "execution_count": 23,
     "metadata": {},
     "output_type": "execute_result"
    }
   ],
   "source": [
    "dll.Asap3Exit.argtypes= (TAsap3Hdl, )\n",
    "dll.Asap3Exit.restype=ctypes.c_bool\n",
    "\n",
    "result = dll.Asap3Exit(hdl)\n",
    "result"
   ]
  },
  {
   "cell_type": "markdown",
   "metadata": {},
   "source": [
    "# Appendices\n",
    "Required Software Installed:\n",
    "\n",
    "- Python 3.x\n",
    "- Jupyter Notebook\n",
    "- Vector CANape 19.0 Demo"
   ]
  }
 ],
 "metadata": {
  "kernelspec": {
   "display_name": "Python 3",
   "language": "python",
   "name": "python3"
  },
  "language_info": {
   "codemirror_mode": {
    "name": "ipython",
    "version": 3
   },
   "file_extension": ".py",
   "mimetype": "text/x-python",
   "name": "python",
   "nbconvert_exporter": "python",
   "pygments_lexer": "ipython3",
   "version": "3.9.1"
  }
 },
 "nbformat": 4,
 "nbformat_minor": 2
}
