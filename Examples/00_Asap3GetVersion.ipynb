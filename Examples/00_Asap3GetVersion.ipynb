{
 "cells": [
  {
   "cell_type": "markdown",
   "metadata": {},
   "source": [
    "# Minimal CANape Python `ctypes` Example\n",
    "\n",
    "This notebook is a minimal example of using `ctypes` and `CANapeAPI` to call `Asap3GetVersion`.\n",
    "\n",
    "\n",
    "## Example Goals:\n",
    "\n",
    "- Load ```CANapAPI64.dll``` with ctypes.\n",
    "- Read the library version.\n",
    "\n",
    "## References:\n",
    "\n",
    "- [```ctypes``` - A foreign function for Python](https://docs.python.org/3/library/ctypes.html)\n",
    "- [CANape ASAM-MCD3 Interface Version Application Note AN-AMC-1-103](http://docplayer.net/56065428-Canape-asam-mcd3-interface-version-application-note-an-amc-1-103.html)\n",
    "- ```CANapAPI.h``` (C:\\Program Files\\Vector CANape 19\\CANapeAPI\\CANapAPI.h)\n",
    "        Description:\n",
    "        |    ASAP3-Interface\n",
    "        |    Version    : 1.0 28-AUG-2000\n",
    "        |-----------------------------------------------------------------------------\n",
    "        | Copyright (c) by Vector Informatik GmbH.  All rights reserved."
   ]
  },
  {
   "cell_type": "markdown",
   "metadata": {},
   "source": [
    "# Call Asap3GetVersion.\n",
    "\n",
    "- Introduction to ```ctypes```\n",
    "- Introduction to creating Python types from c types\n",
    "- Creating Pythonic functions from c-functions.\n",
    "\n",
    "The relevant portion from CANapAPI.h are copied below:\n",
    "\n",
    "```\n",
    "//! structure version_t used in function \\link Asap3GetVersion \\endlink\n",
    "typedef struct {\n",
    "  int dllMainVersion; //!< Main version of CANapeAPI DLL\n",
    "  int dllSubVersion;  //!< Subversion version of CANapeAPI DLL\n",
    "  int dllRelease;     //!< Release version of CANapeAPI DLL\n",
    "  char osVersion[MAX_OS_VERSION];//!< Name of the minimum OS System\n",
    "  int osRelease;      //!< minimum OS System version\n",
    "} version_t;\n",
    "\n",
    "extern bool Asap3GetVersion(version_t * version);\n",
    "```"
   ]
  },
  {
   "cell_type": "markdown",
   "metadata": {},
   "source": [
    "### Get Version. v0\n",
    "\n",
    "- Minimal ctypes.\n",
    "- Not Pythonic.\n",
    "- Not fun to use."
   ]
  },
  {
   "cell_type": "code",
   "execution_count": 1,
   "metadata": {},
   "outputs": [],
   "source": [
    "import os\n",
    "import ctypes\n",
    "CANapAPI_dll = os.path.abspath(r\"C:\\Program Files\\Vector CANape 19.0\\CANapeAPI\\CANapAPI64.dll\")"
   ]
  },
  {
   "cell_type": "code",
   "execution_count": 2,
   "metadata": {},
   "outputs": [],
   "source": [
    "# Load the library and assign it to dll.\n",
    "dll = ctypes.windll.LoadLibrary(CANapAPI_dll)\n",
    "\n",
    "# Define version_t as a Python ctypes-structure.\n",
    "class version_t(ctypes.Structure):\n",
    "    _fields_ = [\n",
    "        ('dllMainVersion', ctypes.c_int),\n",
    "        ('dllSubVersion', ctypes.c_int),\n",
    "        ('dllRelease', ctypes.c_int),\n",
    "        ('osVersion', ctypes.c_char * 50),\n",
    "        ('osRelease', ctypes.c_int),\n",
    "    ]"
   ]
  },
  {
   "cell_type": "code",
   "execution_count": 5,
   "metadata": {},
   "outputs": [],
   "source": [
    "dll.Asap3GetVersion.restype = ctypes.c_bool"
   ]
  },
  {
   "cell_type": "code",
   "execution_count": 6,
   "metadata": {},
   "outputs": [],
   "source": [
    "version=version_t()\n",
    "result = dll.Asap3GetVersion(ctypes.byref(version))"
   ]
  },
  {
   "cell_type": "code",
   "execution_count": 7,
   "metadata": {},
   "outputs": [
    {
     "data": {
      "text/plain": [
       "True"
      ]
     },
     "execution_count": 7,
     "metadata": {},
     "output_type": "execute_result"
    }
   ],
   "source": [
    "result"
   ]
  },
  {
   "cell_type": "code",
   "execution_count": 8,
   "metadata": {},
   "outputs": [
    {
     "data": {
      "text/plain": [
       "<__main__.version_t at 0x1c3b025bec0>"
      ]
     },
     "execution_count": 8,
     "metadata": {},
     "output_type": "execute_result"
    }
   ],
   "source": [
    "version"
   ]
  },
  {
   "cell_type": "markdown",
   "metadata": {},
   "source": [
    "*A man is flying in a hot air balloon and realizes he is lost. He spots a man down below and lowers the balloon to shout: “Excuse me, can you help me? I promised my friend I would meet him half an hour ago, but I don’t know where I am.”*\n",
    "\n",
    "*The man below says: “Yes. You are in a hot air balloon, hovering approximately 30 feet above this field. You are between 40 and 42 degrees N. latitude, and between 58 and 60 degrees W. longitude.”*\n",
    "\n",
    "*“You must be an engineer” says the balloonist.*\n",
    "\n",
    "*“I am” replies the man. “How did you know.”*\n",
    "\n",
    "*“Well” says the balloonist, “everything you have told me is technically correct, but I have no idea what to make of your information, and the fact is I am still lost.”*"
   ]
  },
  {
   "cell_type": "markdown",
   "metadata": {},
   "source": [
    "# get_version. v1\n",
    "\n",
    "- Make it Pythonic\n",
    "- Advantages of High level language\n",
    "  - High level languages are programmer friendly. ...\n",
    "  - It provide higher level of abstraction from machine languages.\n",
    "  - It is machine independent language.\n",
    "  - Easy to learn.\n",
    "  - Less error prone, easy to find and debug errors.\n",
    "  - High level programming results in better programming productivity."
   ]
  },
  {
   "cell_type": "code",
   "execution_count": 9,
   "metadata": {},
   "outputs": [],
   "source": [
    "# Load the library and assign it to dll.\n",
    "dll = ctypes.windll.LoadLibrary(CANapAPI_dll)\n",
    "# Define version_t as a Python ctypes-structure.\n",
    "class version_t(ctypes.Structure):\n",
    "    _fields_ = [\n",
    "        ('dllMainVersion', ctypes.c_int),\n",
    "        ('dllSubVersion', ctypes.c_int),\n",
    "        ('dllRelease', ctypes.c_int),\n",
    "        ('osVersion', ctypes.c_char * 50),\n",
    "        ('osRelease', ctypes.c_int),\n",
    "    ]\n",
    "    \n",
    "    def __eq__(self, other):\n",
    "        if isinstance(other, type(self)):\n",
    "            return str(other)==str(self)\n",
    "        if isinstance(other, str):\n",
    "            return str(other)==str(self)\n",
    "        raise Exception(f\"Unsupported class comparison {type(other)}\")\n",
    "    \n",
    "    def __repr__(self):\n",
    "        return f\"API_VERSION<{self.dllMainVersion}.{self.dllSubVersion}.{self.dllRelease}>\"\n",
    "\n",
    "    def __str__(self):\n",
    "        return \"{}.{}.{}\".format(self.dllMainVersion, self.dllSubVersion, self.dllRelease)\n",
    "\n",
    "## Set the argument and return types.\n",
    "# Pass by reference.\n",
    "dll.Asap3GetVersion.argtypes = (ctypes.POINTER(version_t),)\n",
    "# Return a success bool.\n",
    "dll.Asap3GetVersion.restype = ctypes.c_bool"
   ]
  },
  {
   "cell_type": "code",
   "execution_count": 10,
   "metadata": {},
   "outputs": [],
   "source": [
    "version = version_t()\n",
    "result = dll.Asap3GetVersion(ctypes.byref(version))"
   ]
  },
  {
   "cell_type": "code",
   "execution_count": 11,
   "metadata": {},
   "outputs": [
    {
     "data": {
      "text/plain": [
       "(True, API_VERSION<2.3.1>)"
      ]
     },
     "execution_count": 11,
     "metadata": {},
     "output_type": "execute_result"
    }
   ],
   "source": [
    "result, version"
   ]
  },
  {
   "cell_type": "code",
   "execution_count": 12,
   "metadata": {},
   "outputs": [
    {
     "data": {
      "text/plain": [
       "True"
      ]
     },
     "execution_count": 12,
     "metadata": {},
     "output_type": "execute_result"
    }
   ],
   "source": [
    "version==version"
   ]
  },
  {
   "cell_type": "code",
   "execution_count": 13,
   "metadata": {},
   "outputs": [
    {
     "data": {
      "text/plain": [
       "True"
      ]
     },
     "execution_count": 13,
     "metadata": {},
     "output_type": "execute_result"
    }
   ],
   "source": [
    "version==\"2.3.1\""
   ]
  },
  {
   "cell_type": "code",
   "execution_count": 14,
   "metadata": {},
   "outputs": [
    {
     "name": "stdout",
     "output_type": "stream",
     "text": [
      "2.3.1\n"
     ]
    }
   ],
   "source": [
    "print(version)"
   ]
  },
  {
   "cell_type": "code",
   "execution_count": 15,
   "metadata": {},
   "outputs": [
    {
     "data": {
      "text/plain": [
       "(b'Windows95/WindowsNT', 0)"
      ]
     },
     "execution_count": 15,
     "metadata": {},
     "output_type": "execute_result"
    }
   ],
   "source": [
    "version.osVersion, version.osRelease"
   ]
  },
  {
   "cell_type": "code",
   "execution_count": 16,
   "metadata": {},
   "outputs": [
    {
     "data": {
      "text/plain": [
       "(2, 3, 1)"
      ]
     },
     "execution_count": 16,
     "metadata": {},
     "output_type": "execute_result"
    }
   ],
   "source": [
    "version.dllMainVersion, version.dllSubVersion, version.dllRelease"
   ]
  }
 ],
 "metadata": {
  "kernelspec": {
   "display_name": "Python 3",
   "language": "python",
   "name": "python3"
  },
  "language_info": {
   "codemirror_mode": {
    "name": "ipython",
    "version": 3
   },
   "file_extension": ".py",
   "mimetype": "text/x-python",
   "name": "python",
   "nbconvert_exporter": "python",
   "pygments_lexer": "ipython3",
   "version": "3.9.1"
  }
 },
 "nbformat": 4,
 "nbformat_minor": 2
}
