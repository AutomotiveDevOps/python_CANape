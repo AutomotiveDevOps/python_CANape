{
 "cells": [
  {
   "cell_type": "code",
   "execution_count": 42,
   "metadata": {},
   "outputs": [],
   "source": [
    "import ctypes\n",
    "import os\n",
    "\n",
    "# Install CANape. Not included for copyright reasons.\n",
    "header_file = r\"C:\\Program Files\\Vector CANape 17\\CANapeAPI\\CANapAPI.h\"\n",
    "assert os.path.exists(header_file)\n",
    "CANapAPI_dll= r\"C:\\Program Files\\Vector CANape 17\\CANapeAPI\\CANapAPI64.dll\"\n",
    "assert os.path.exists(CANapAPI_dll)\n",
    "\n",
    "# Load the library and assign it to dll.\n",
    "dll = ctypes.windll.LoadLibrary(CANapAPI_dll)\n",
    "# Define version_t as a Python ctypes-structure.\n",
    "class version_t(ctypes.Structure):\n",
    "    _fields_ = [\n",
    "        ('dllMainVersion', ctypes.c_int),\n",
    "        ('dllSubVersion', ctypes.c_int),\n",
    "        ('dllRelease', ctypes.c_int),\n",
    "        ('osVersion', ctypes.c_char * 50),\n",
    "        ('osRelease', ctypes.c_int),\n",
    "    ]\n",
    "    \n",
    "    def __eq__(self, other):\n",
    "        if isinstance(other, type(self)):\n",
    "            return str(other)==str(self)\n",
    "        if isinstance(other, str):\n",
    "            return str(other)==str(self)\n",
    "        raise Exception(f\"Unsupported class comparison {type(other)}\")\n",
    "    \n",
    "    def __repr__(self):\n",
    "        return f\"API_VERSION<{self.dllMainVersion}.{self.dllSubVersion}.{self.dllRelease}>\"\n",
    "\n",
    "    def __str__(self):\n",
    "        return \"{}.{}.{}\".format(self.dllMainVersion, self.dllSubVersion, self.dllRelease)\n",
    "\n",
    "## Set the argument and return types.\n",
    "# Pass by reference.\n",
    "dll.Asap3GetVersion.argtypes = (ctypes.POINTER(version_t),)\n",
    "# Return a success bool.\n",
    "dll.Asap3GetVersion.restype = ctypes.c_bool\n",
    "\n",
    "#def get_version():\n",
    "version = version_t()\n",
    "result = dll.Asap3GetVersion(ctypes.byref(version))\n",
    "assert version==version\n",
    "assert version==\"2.3.1\""
   ]
  },
  {
   "cell_type": "code",
   "execution_count": 10,
   "metadata": {},
   "outputs": [
    {
     "data": {
      "text/plain": [
       "<WinDLL 'C:\\Program Files\\Vector CANape 17\\CANapeAPI\\CANapAPI64.dll', handle 7ffdb37f0000 at 0x28abd9010f0>"
      ]
     },
     "execution_count": 10,
     "metadata": {},
     "output_type": "execute_result"
    }
   ],
   "source": [
    "dll"
   ]
  },
  {
   "cell_type": "code",
   "execution_count": 11,
   "metadata": {},
   "outputs": [
    {
     "data": {
      "text/plain": [
       "(True, API_VERSION<2.3.1>)"
      ]
     },
     "execution_count": 11,
     "metadata": {},
     "output_type": "execute_result"
    }
   ],
   "source": [
    "result, version"
   ]
  },
  {
   "cell_type": "code",
   "execution_count": 12,
   "metadata": {},
   "outputs": [],
   "source": [
    "assert version==version\n",
    "\n",
    "assert version==\"2.3.1\""
   ]
  },
  {
   "cell_type": "code",
   "execution_count": 13,
   "metadata": {},
   "outputs": [
    {
     "data": {
      "text/plain": [
       "(b'Windows95/WindowsNT', 0)"
      ]
     },
     "execution_count": 13,
     "metadata": {},
     "output_type": "execute_result"
    }
   ],
   "source": [
    "assert version.osRelease==0\n",
    "assert version.osVersion==b'Windows95/WindowsNT'\n",
    "\n",
    "version.osVersion, version.osRelease"
   ]
  },
  {
   "cell_type": "code",
   "execution_count": 14,
   "metadata": {},
   "outputs": [
    {
     "data": {
      "text/plain": [
       "(2, 3, 1)"
      ]
     },
     "execution_count": 14,
     "metadata": {},
     "output_type": "execute_result"
    }
   ],
   "source": [
    "version.dllMainVersion, version.dllSubVersion, version.dllRelease"
   ]
  },
  {
   "cell_type": "markdown",
   "metadata": {},
   "source": [
    "# Open CANape in Modal Mode"
   ]
  },
  {
   "cell_type": "markdown",
   "metadata": {},
   "source": [
    "Modal mode is the best way I've found to reverse engineer this. It allows you to relequish control from Python and do something with the mouse.t"
   ]
  },
  {
   "cell_type": "code",
   "execution_count": 37,
   "metadata": {},
   "outputs": [],
   "source": [
    "class tAsap3Hdl(ctypes.Structure):\n",
    "    def __repr__(self):\n",
    "        return \"tAsap3Hdl<>\"\n",
    "\n",
    "TAsap3Hdl = ctypes.POINTER(struct_tAsap3Hdl) # C:\\\\Program Files (x86)\\\\Vector CANape 14\\\\CANapeAPI\\\\CANapAPI.h: 623\n",
    "\n",
    "def __repr__(self):\n",
    "    return \"TAsap3Hdl<>\"\n",
    "def byref(self):\n",
    "    return ctypes.byref(self)\n",
    "setattr(TAsap3Hdl, \"__repr__\", __repr__)\n",
    "setattr(TAsap3Hdl, \"byref\", property(byref))\n",
    "\n",
    "handle=TAsap3Hdl()"
   ]
  },
  {
   "cell_type": "code",
   "execution_count": 38,
   "metadata": {},
   "outputs": [
    {
     "data": {
      "text/plain": [
       "TAsap3Hdl<>"
      ]
     },
     "execution_count": 38,
     "metadata": {},
     "output_type": "execute_result"
    }
   ],
   "source": [
    "handle"
   ]
  },
  {
   "cell_type": "code",
   "execution_count": 39,
   "metadata": {},
   "outputs": [],
   "source": [
    "# CANape requires absolute path.\n",
    "workingDir = os.path.abspath(\"canape_tmp\")\n",
    "# Maximum response time (ms)\n",
    "responseTimeout = 10000 # 10 seconds\n",
    "fifoSize = 8192\n",
    "sampleSize = 256\n",
    "debugMode = True\n",
    "# Clear CANape device list.\n",
    "clearDeviceList = True\n",
    "# Start CANape in hex mode\n",
    "bHexmode = False\n",
    "# Start CANape in modal mode. (NonModal = True)\n",
    "bModalMode = False\n",
    "\n",
    "# Convert to ctypes.\n",
    "c_responseTimeout = ctypes.c_ulong()\n",
    "c_workingDir = ctypes.c_char_p(workingDir.encode(\"UTF-8\"))\n",
    "c_fifoSize = ctypes.c_ulong(fifoSize)\n",
    "c_sampleSize = ctypes.c_ulong(sampleSize)\n",
    "c_debugMode = ctypes.c_bool(debugMode)\n",
    "c_clearDeviceList = ctypes.c_bool(clearDeviceList)\n",
    "c_bHexmode = ctypes.c_bool(bHexmode)\n",
    "c_bModalMode = ctypes.c_bool(bModalMode)"
   ]
  },
  {
   "cell_type": "code",
   "execution_count": 40,
   "metadata": {},
   "outputs": [],
   "source": [
    "dll.Asap3Init5.restype = ctypes.c_bool\n",
    "dll.Asap3Init5.argtypes = (\n",
    "    ctypes.POINTER(TAsap3Hdl),\n",
    "    ctypes.c_ulong,\n",
    "    ctypes.c_char_p,\n",
    "    ctypes.c_ulong,\n",
    "    ctypes.c_ulong,\n",
    "    ctypes.c_bool,\n",
    "    ctypes.c_bool,\n",
    "    ctypes.c_bool,\n",
    "    ctypes.c_bool\n",
    ")"
   ]
  },
  {
   "cell_type": "code",
   "execution_count": 41,
   "metadata": {
    "scrolled": true
   },
   "outputs": [
    {
     "data": {
      "text/plain": [
       "False"
      ]
     },
     "execution_count": 41,
     "metadata": {},
     "output_type": "execute_result"
    }
   ],
   "source": [
    "result = dll.Asap3Init5(\n",
    "    handle.byref,\n",
    "    c_responseTimeout,\n",
    "    c_workingDir,\n",
    "    c_fifoSize,\n",
    "    c_sampleSize,\n",
    "    c_debugMode,\n",
    "    c_clearDeviceList,\n",
    "    c_bHexmode,\n",
    "    c_bModalMode,\n",
    ")\n",
    "result"
   ]
  },
  {
   "cell_type": "markdown",
   "metadata": {},
   "source": [
    "CANape should launch in modal mode and look like this:\n",
    "\n",
    "![](init5_result.png)"
   ]
  },
  {
   "cell_type": "markdown",
   "metadata": {},
   "source": [
    "Exit CANape by passing the handle into the exit function."
   ]
  },
  {
   "cell_type": "code",
   "execution_count": 48,
   "metadata": {},
   "outputs": [
    {
     "name": "stdout",
     "output_type": "stream",
     "text": [
      "'Asap3Exit' first occurs on line 84 in C:\\Program Files\\Vector CANape 17\\CANapeAPI\\CANapAPI.h\n"
     ]
    },
    {
     "data": {
      "text/plain": [
       "False"
      ]
     },
     "execution_count": 48,
     "metadata": {},
     "output_type": "execute_result"
    }
   ],
   "source": [
    "first_occurance(\"Asap3Exit\")\n",
    "dll.Asap3Exit.argtypes= (TAsap3Hdl, )\n",
    "dll.Asap3Exit.restype=ctypes.c_bool\n",
    "\n",
    "result = dll.Asap3Exit(handle)\n",
    "result"
   ]
  },
  {
   "cell_type": "markdown",
   "metadata": {},
   "source": [
    "Non-Modal Mode ```bModalMode=True```"
   ]
  },
  {
   "cell_type": "code",
   "execution_count": null,
   "metadata": {},
   "outputs": [],
   "source": [
    "result = dll.Asap3Init5(\n",
    "    handle_p,\n",
    "    responseTimeout,\n",
    "    workingDir.encode(\"UTF-8\"),\n",
    "    fifoSize,\n",
    "    sampleSize,\n",
    "    debugMode,\n",
    "    clearDeviceList,\n",
    "    bHexmode,\n",
    "    True\n",
    ")"
   ]
  },
  {
   "cell_type": "markdown",
   "metadata": {},
   "source": [
    "CANape default Window after non-modal launch.\n",
    "\n",
    "![non-modal](init5_result_nonmodal.png)"
   ]
  },
  {
   "cell_type": "code",
   "execution_count": null,
   "metadata": {},
   "outputs": [],
   "source": [
    "first_occurance(\"Asap3Exit\")\n",
    "dll.Asap3Exit.argtypes= (TAsap3Hdl, )\n",
    "dll.Asap3Exit.restype=ctypes.c_bool\n",
    "\n",
    "result = dll.Asap3Exit(handle)\n",
    "result"
   ]
  },
  {
   "cell_type": "markdown",
   "metadata": {},
   "source": [
    "# Appendices & Code\n",
    "\n",
    "Required Software Installed:\n",
    "\n",
    "- Python 3.x\n",
    "- Jupyter Notebook\n",
    "- [Vector CANape 17.0 Demo](https://www.vector.com/int/en/download/?tx_vectorproducts_productdownloaddetail%5Bdownload%5D=43948&tx_vectorproducts_productdownloaddetail%5Baction%5D=show&tx_vectorproducts_productdownloaddetail%5Bcontroller%5D=Productdownload&cHash=3a39f97388a3ea8f6cb6e9371ea6938b) [MD5 hash : \t5e44feeca4aab18b64ecbc556160f66e]"
   ]
  },
  {
   "cell_type": "code",
   "execution_count": 1,
   "metadata": {},
   "outputs": [],
   "source": []
  },
  {
   "cell_type": "code",
   "execution_count": null,
   "metadata": {},
   "outputs": [],
   "source": []
  }
 ],
 "metadata": {
  "kernelspec": {
   "display_name": "Python 3",
   "language": "python",
   "name": "python3"
  },
  "language_info": {
   "codemirror_mode": {
    "name": "ipython",
    "version": 3
   },
   "file_extension": ".py",
   "mimetype": "text/x-python",
   "name": "python",
   "nbconvert_exporter": "python",
   "pygments_lexer": "ipython3",
   "version": "3.6.6"
  }
 },
 "nbformat": 4,
 "nbformat_minor": 2
}
