{
 "cells": [
  {
   "cell_type": "code",
   "execution_count": 4,
   "metadata": {},
   "outputs": [],
   "source": [
    "import ctypes\n",
    "import os\n",
    "import sys\n",
    "sys.path.append(\"..\")"
   ]
  },
  {
   "cell_type": "code",
   "execution_count": 5,
   "metadata": {},
   "outputs": [],
   "source": [
    "from CANapAPI.struct import version_t"
   ]
  },
  {
   "cell_type": "code",
   "execution_count": 7,
   "metadata": {},
   "outputs": [],
   "source": [
    "# Install CANape. Not included for copyright reasons.\n",
    "header_file = r\"C:\\Program Files\\Vector CANape 17\\CANapeAPI\\CANapAPI.h\"\n",
    "assert os.path.exists(header_file)\n",
    "CANapAPI_dll= r\"C:\\Program Files\\Vector CANape 17\\CANapeAPI\\CANapAPI64.dll\"\n",
    "assert os.path.exists(CANapAPI_dll)\n",
    "\n",
    "# Load the library and assign it to dll.\n",
    "dll = ctypes.windll.LoadLibrary(CANapAPI_dll)\n",
    "\n",
    "## Set the argument and return types.\n",
    "# Pass by reference.\n",
    "dll.Asap3GetVersion.argtypes = (ctypes.POINTER(version_t),)\n",
    "# Return a success bool.\n",
    "dll.Asap3GetVersion.restype = ctypes.c_bool\n",
    "\n",
    "#def get_version():\n",
    "version = version_t()\n",
    "result = dll.Asap3GetVersion(ctypes.byref(version))\n",
    "\n",
    "assert version==version\n",
    "assert version==\"2.3.1\"\n",
    "assert version.osRelease==0\n",
    "assert version.osVersion==b'Windows95/WindowsNT'"
   ]
  },
  {
   "cell_type": "markdown",
   "metadata": {},
   "source": [
    "# Open CANape in Modal Mode"
   ]
  },
  {
   "cell_type": "markdown",
   "metadata": {},
   "source": [
    "Modal mode is the best way I've found to reverse engineer this. It allows you to relequish control from Python and do something with the mouse.t"
   ]
  },
  {
   "cell_type": "code",
   "execution_count": 9,
   "metadata": {},
   "outputs": [],
   "source": [
    "class tAsap3Hdl(ctypes.Structure):\n",
    "    def __repr__(self):\n",
    "        return \"tAsap3Hdl<>\"\n",
    "\n",
    "TAsap3Hdl = ctypes.POINTER(tAsap3Hdl) # C:\\\\Program Files (x86)\\\\Vector CANape 14\\\\CANapeAPI\\\\CANapAPI.h: 623\n",
    "\n",
    "def __repr__(self):\n",
    "    return \"TAsap3Hdl<>\"\n",
    "def byref(self):\n",
    "    return ctypes.byref(self)\n",
    "\n",
    "setattr(TAsap3Hdl, \"__repr__\", __repr__)\n",
    "setattr(TAsap3Hdl, \"byref\", property(byref))\n",
    "\n",
    "handle=TAsap3Hdl()"
   ]
  },
  {
   "cell_type": "code",
   "execution_count": 13,
   "metadata": {},
   "outputs": [],
   "source": [
    "from cached_property import cached_property"
   ]
  },
  {
   "cell_type": "code",
   "execution_count": 14,
   "metadata": {},
   "outputs": [
    {
     "data": {
      "text/plain": [
       "['Asap3GetVersion',\n",
       " '_FuncPtr',\n",
       " '__class__',\n",
       " '__delattr__',\n",
       " '__dict__',\n",
       " '__dir__',\n",
       " '__doc__',\n",
       " '__eq__',\n",
       " '__format__',\n",
       " '__ge__',\n",
       " '__getattr__',\n",
       " '__getattribute__',\n",
       " '__getitem__',\n",
       " '__gt__',\n",
       " '__hash__',\n",
       " '__init__',\n",
       " '__init_subclass__',\n",
       " '__le__',\n",
       " '__lt__',\n",
       " '__module__',\n",
       " '__ne__',\n",
       " '__new__',\n",
       " '__reduce__',\n",
       " '__reduce_ex__',\n",
       " '__repr__',\n",
       " '__setattr__',\n",
       " '__sizeof__',\n",
       " '__str__',\n",
       " '__subclasshook__',\n",
       " '__weakref__',\n",
       " '_func_flags_',\n",
       " '_func_restype_',\n",
       " '_handle',\n",
       " '_name']"
      ]
     },
     "execution_count": 14,
     "metadata": {},
     "output_type": "execute_result"
    }
   ],
   "source": [
    "dir(dll_n)"
   ]
  },
  {
   "cell_type": "code",
   "execution_count": 24,
   "metadata": {},
   "outputs": [],
   "source": [
    "# Install CANape. Not included for copyright reasons.\n",
    "header_file = r\"C:\\Program Files\\Vector CANape 17\\CANapeAPI\\CANapAPI.h\"\n",
    "assert os.path.exists(header_file) or FileNotFoundError(\"Install CANape 17\")\n",
    "CANapAPI_dll= r\"C:\\Program Files\\Vector CANape 17\\CANapeAPI\\CANapAPI64.dll\"\n",
    "assert os.path.exists(CANapAPI_dll) or FileNotFoundError(\"Install CANape 17\")\n",
    "\n",
    "class CANapAPI(object):\n",
    "    def __init__(self, dll_path=CANapAPI_dll):\n",
    "        self.dll_path = dll_path\n",
    "    \n",
    "    @cached_property\n",
    "    def dll(self):\n",
    "        dll = ctypes.windll.LoadLibrary(self.dll_path)\n",
    "        \n",
    "        ## Set the argument and return types.\n",
    "        # Pass by reference.\n",
    "        dll.Asap3GetVersion.argtypes = (ctypes.POINTER(version_t),)\n",
    "        # Return a success bool.\n",
    "        dll.Asap3GetVersion.restype = ctypes.c_bool\n",
    "        \n",
    "        dll.Asap3Init5.restype = ctypes.c_bool\n",
    "        dll.Asap3Init5.argtypes = (\n",
    "            ctypes.POINTER(TAsap3Hdl),\n",
    "            ctypes.c_ulong,\n",
    "            ctypes.c_char_p,\n",
    "            ctypes.c_ulong,\n",
    "            ctypes.c_ulong,\n",
    "            ctypes.c_bool,\n",
    "            ctypes.c_bool,\n",
    "            ctypes.c_bool,\n",
    "            ctypes.c_bool\n",
    "        )\n",
    "        return dll\n",
    "    \n",
    "    @cached_property\n",
    "    def version(self):\n",
    "        return self.Asap3GetVersion()\n",
    "\n",
    "    @cached_property\n",
    "    def handle(self):\n",
    "        return TAsap3Hdl()\n",
    "    \n",
    "    def Asap3GetVersion(self):\n",
    "        version = version_t()\n",
    "        result = dll.Asap3GetVersion(ctypes.byref(version))\n",
    "        if result:\n",
    "            return version\n",
    "        else:\n",
    "            return None\n",
    "        \n",
    "    def Asap3Init5(\n",
    "        self,\n",
    "        responseTimeout:int = 10000,\n",
    "        workingDir:str = os.path.abspath(\"canape_tmp\"),\n",
    "        fifoSize:int = 8192,\n",
    "        sampleSize:int = 256,\n",
    "        debugMode:bool = True,\n",
    "        clearDeviceList:bool = True,\n",
    "        bHexmode:bool = False,\n",
    "        bModalMode:bool = False,\n",
    "    ):\n",
    "        \"\"\"Asap3Init5 Function: Modality\n",
    "        \n",
    "        Parameters\n",
    "        ----------\n",
    "        responseTimeout : int (ms)\n",
    "        workingDir: str\n",
    "        fifoSize: int\n",
    "        sampleSize: int\n",
    "        debugMode : bool\n",
    "        clearDeviceList : bool\n",
    "        bHexmode : bool\n",
    "        bModalMode : bool\n",
    "        \n",
    "        Returns\n",
    "        -------\n",
    "        bool\n",
    "            Function call success\n",
    "        \"\"\"\n",
    "        workingDir = os.path.abspath(workingDir)\n",
    "        os.makedirs(workingDir, exist_ok=True)\n",
    "        \n",
    "        # Convert to ctypes.\n",
    "        c_responseTimeout = ctypes.c_ulong()\n",
    "        c_workingDir = ctypes.c_char_p(workingDir.encode(\"UTF-8\"))\n",
    "        c_fifoSize = ctypes.c_ulong(fifoSize)\n",
    "        c_sampleSize = ctypes.c_ulong(sampleSize)\n",
    "        c_debugMode = ctypes.c_bool(debugMode)\n",
    "        c_clearDeviceList = ctypes.c_bool(clearDeviceList)\n",
    "        c_bHexmode = ctypes.c_bool(bHexmode)\n",
    "        c_bModalMode = ctypes.c_bool(bModalMode)\n",
    "        \n",
    "        result = dll.Asap3Init5(\n",
    "            self.handle.byref,\n",
    "            c_responseTimeout,\n",
    "            c_workingDir,\n",
    "            c_fifoSize,\n",
    "            c_sampleSize,\n",
    "            c_debugMode,\n",
    "            c_clearDeviceList,\n",
    "            c_bHexmode,\n",
    "            c_bModalMode,\n",
    "        )\n",
    "        return result        "
   ]
  },
  {
   "cell_type": "code",
   "execution_count": 25,
   "metadata": {},
   "outputs": [],
   "source": [
    "canapapi = CANapAPI()"
   ]
  },
  {
   "cell_type": "code",
   "execution_count": 26,
   "metadata": {},
   "outputs": [
    {
     "data": {
      "text/plain": [
       "1"
      ]
     },
     "execution_count": 26,
     "metadata": {},
     "output_type": "execute_result"
    }
   ],
   "source": [
    "canapapi.Asap3Init5()"
   ]
  },
  {
   "cell_type": "code",
   "execution_count": 28,
   "metadata": {},
   "outputs": [
    {
     "data": {
      "text/plain": [
       "0"
      ]
     },
     "execution_count": 28,
     "metadata": {},
     "output_type": "execute_result"
    }
   ],
   "source": [
    "canapapi.dll.Asap3Exit2(canapapi.handle, True)"
   ]
  },
  {
   "cell_type": "code",
   "execution_count": 29,
   "metadata": {},
   "outputs": [
    {
     "data": {
      "text/plain": [
       "0"
      ]
     },
     "execution_count": 29,
     "metadata": {},
     "output_type": "execute_result"
    }
   ],
   "source": [
    "canapapi.dll.Asap3Exit(canapapi.handle)"
   ]
  },
  {
   "cell_type": "code",
   "execution_count": null,
   "metadata": {},
   "outputs": [],
   "source": []
  }
 ],
 "metadata": {
  "kernelspec": {
   "display_name": "Python 3",
   "language": "python",
   "name": "python3"
  },
  "language_info": {
   "codemirror_mode": {
    "name": "ipython",
    "version": 3
   },
   "file_extension": ".py",
   "mimetype": "text/x-python",
   "name": "python",
   "nbconvert_exporter": "python",
   "pygments_lexer": "ipython3",
   "version": "3.6.6"
  }
 },
 "nbformat": 4,
 "nbformat_minor": 2
}
