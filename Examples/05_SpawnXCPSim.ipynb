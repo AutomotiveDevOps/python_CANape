{
 "cells": [
  {
   "cell_type": "code",
   "execution_count": 1,
   "metadata": {},
   "outputs": [],
   "source": [
    "import subprocess\n",
    "import os"
   ]
  },
  {
   "cell_type": "code",
   "execution_count": 2,
   "metadata": {},
   "outputs": [],
   "source": [
    "subprocess.Popen?"
   ]
  },
  {
   "cell_type": "code",
   "execution_count": null,
   "metadata": {},
   "outputs": [],
   "source": []
  },
  {
   "cell_type": "code",
   "execution_count": 4,
   "metadata": {},
   "outputs": [],
   "source": [
    "executable = r\"C:\\Users\\Public\\Documents\\Vector CANape 17\\Examples\\_Simulators\\XCPSim\\XCPsim.exe\"\n",
    "args = [\"-tcp\", \"-t1\"]"
   ]
  },
  {
   "cell_type": "code",
   "execution_count": 9,
   "metadata": {},
   "outputs": [],
   "source": [
    "proc = subprocess.Popen(args=args, executable=executable)"
   ]
  },
  {
   "cell_type": "code",
   "execution_count": 14,
   "metadata": {},
   "outputs": [],
   "source": [
    "executable = r\"C:\\Users\\Public\\Documents\\Vector CANape 17\\Examples\\_Simulators\\XCPSim\\XCPsim.exe\"\n",
    "args = [executable, \"-tcp\", \"-t1\"]"
   ]
  },
  {
   "cell_type": "code",
   "execution_count": 15,
   "metadata": {},
   "outputs": [],
   "source": [
    "proc = subprocess.Popen(args)"
   ]
  },
  {
   "cell_type": "code",
   "execution_count": 16,
   "metadata": {},
   "outputs": [],
   "source": [
    "proc.poll()"
   ]
  },
  {
   "cell_type": "code",
   "execution_count": 17,
   "metadata": {},
   "outputs": [],
   "source": [
    "proc.stderr"
   ]
  },
  {
   "cell_type": "code",
   "execution_count": 19,
   "metadata": {},
   "outputs": [],
   "source": [
    "proc.terminate()"
   ]
  },
  {
   "cell_type": "code",
   "execution_count": 20,
   "metadata": {},
   "outputs": [
    {
     "data": {
      "text/plain": [
       "0"
      ]
     },
     "execution_count": 20,
     "metadata": {},
     "output_type": "execute_result"
    }
   ],
   "source": [
    "proc.wait()"
   ]
  },
  {
   "cell_type": "code",
   "execution_count": 21,
   "metadata": {},
   "outputs": [],
   "source": [
    "executable = r\"C:\\Users\\Public\\Documents\\Vector CANape 17\\Examples\\_Simulators\\XCPSim\\XCPsim.exe\"\n",
    "args = [executable,\" -cro1\", \"-dto2\", \"-t1\", \"-gaXCPSIM.A2L\"]"
   ]
  },
  {
   "cell_type": "code",
   "execution_count": 22,
   "metadata": {},
   "outputs": [],
   "source": [
    "import os"
   ]
  },
  {
   "cell_type": "code",
   "execution_count": 23,
   "metadata": {},
   "outputs": [],
   "source": [
    "__here__ = os.path.abspath(\".\")"
   ]
  },
  {
   "cell_type": "code",
   "execution_count": 24,
   "metadata": {},
   "outputs": [],
   "source": [
    "os.chdir(os.path.dirname(executable))"
   ]
  },
  {
   "cell_type": "code",
   "execution_count": 25,
   "metadata": {},
   "outputs": [],
   "source": [
    "proc = subprocess.Popen(args)"
   ]
  },
  {
   "cell_type": "code",
   "execution_count": null,
   "metadata": {},
   "outputs": [],
   "source": []
  },
  {
   "cell_type": "code",
   "execution_count": null,
   "metadata": {},
   "outputs": [],
   "source": [
    "XCPsim_exe = r\"C:\\Users\\Public\\Documents\\Vector CANape 17\\Examples\\_Simulators\\XCPSim\\XCPsim.exe\"\n",
    "os.chdir(os.path.dirname(executable))\n",
    "args = [executable,\" -cro1\", \"-dto2\", \"-t1\", \"-gaXCPSIM.A2L\"]"
   ]
  },
  {
   "cell_type": "code",
   "execution_count": null,
   "metadata": {},
   "outputs": [],
   "source": [
    "proc = subprocess.Popen(args=args)"
   ]
  },
  {
   "cell_type": "code",
   "execution_count": null,
   "metadata": {},
   "outputs": [],
   "source": [
    "class XCPSim(object):\n",
    "    def __init__(self):\n",
    "        XCPsim_exe = r\"C:\\Users\\Public\\Documents\\Vector CANape 17\\Examples\\_Simulators\\XCPSim\\XCPsim.exe\"\n",
    "        os.chdir(os.path.dirname(executable))\n",
    "        args = [executable,\" -cro1\", \"-dto2\", \"-t1\", \"-gaXCPSIM.A2L\"]\n",
    "        self.proc = subprocess.Popen(args)4\n",
    "    def "
   ]
  }
 ],
 "metadata": {
  "kernelspec": {
   "display_name": "Python 3",
   "language": "python",
   "name": "python3"
  },
  "language_info": {
   "codemirror_mode": {
    "name": "ipython",
    "version": 3
   },
   "file_extension": ".py",
   "mimetype": "text/x-python",
   "name": "python",
   "nbconvert_exporter": "python",
   "pygments_lexer": "ipython3",
   "version": "3.6.6"
  }
 },
 "nbformat": 4,
 "nbformat_minor": 2
}
