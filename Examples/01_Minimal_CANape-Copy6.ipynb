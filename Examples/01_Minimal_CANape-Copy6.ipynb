{
 "cells": [
  {
   "cell_type": "code",
   "execution_count": 3,
   "metadata": {},
   "outputs": [],
   "source": [
    "import ctypes\n",
    "import os\n",
    "import sys\n",
    "from cached_property import cached_property\n",
    "from CANapAPI.types import *\n",
    "\n",
    "import CANapAPI\n",
    "import psutil"
   ]
  },
  {
   "cell_type": "code",
   "execution_count": 8,
   "metadata": {},
   "outputs": [
    {
     "data": {
      "text/plain": [
       "True"
      ]
     },
     "execution_count": 8,
     "metadata": {},
     "output_type": "execute_result"
    }
   ],
   "source": [
    "# Low level driver development class.\n",
    "class CANapAPI2(CANapAPI.CANapAPI):\n",
    "    def Asap3GetProjectDirectory(self):\n",
    "        directory = ctypes.create_string_buffer(b\"\", 255)\n",
    "        directory_p = ctypes.POINTER(type(ctypes.create_string_buffer(b\"\", 255)))\n",
    "        size = ctypes.c_ulong()\n",
    "        # Asap3GetProjectDirectory\n",
    "        dll.Asap3GetProjectDirectory.argtypes=(TAsap3Hdl, directory_p, ctypes.POINTER(ctypes.c_ulong))\n",
    "        dll.Asap3GetProjectDirectory.restype=ctypes.c_bool\n",
    "\n",
    "        result = dll.Asap3GetProjectDirectory(\n",
    "            self.handle,\n",
    "            ctypes.byref(directory),\n",
    "            ctypes.pointer(size),\n",
    "        )\n",
    "        if result:\n",
    "            return os.path.abspath(directory.value.decode(\"UTF-8\"))\n",
    "        else:\n",
    "            return None\n",
    "\n",
    "canapy.kill(None)\n",
    "\n",
    "workingDir = os.path.abspath(r\"C:\\Users\\Public\\Documents\\Vector CANape 17\\Examples\\XCPDemo\")\n",
    "canape =  canapy(workingDir=workingDir)\n",
    "canape.init()"
   ]
  },
  {
   "cell_type": "code",
   "execution_count": 13,
   "metadata": {},
   "outputs": [],
   "source": [
    "a = ctypes.c_bool(True)"
   ]
  },
  {
   "cell_type": "code",
   "execution_count": 14,
   "metadata": {},
   "outputs": [
    {
     "data": {
      "text/plain": [
       "True"
      ]
     },
     "execution_count": 14,
     "metadata": {},
     "output_type": "execute_result"
    }
   ],
   "source": [
    "a.value"
   ]
  },
  {
   "cell_type": "code",
   "execution_count": 12,
   "metadata": {},
   "outputs": [
    {
     "data": {
      "text/plain": [
       "True"
      ]
     },
     "execution_count": 12,
     "metadata": {},
     "output_type": "execute_result"
    }
   ],
   "source": [
    "bool(ctypes.c_bool(True))"
   ]
  },
  {
   "cell_type": "code",
   "execution_count": 15,
   "metadata": {},
   "outputs": [
    {
     "ename": "NameError",
     "evalue": "name 'hdl' is not defined",
     "output_type": "error",
     "traceback": [
      "\u001b[1;31m---------------------------------------------------------------------------\u001b[0m",
      "\u001b[1;31mNameError\u001b[0m                                 Traceback (most recent call last)",
      "\u001b[1;32m<ipython-input-15-f92868f1ec85>\u001b[0m in \u001b[0;36m<module>\u001b[1;34m()\u001b[0m\n\u001b[1;32m----> 1\u001b[1;33m \u001b[0mcanape\u001b[0m\u001b[1;33m.\u001b[0m\u001b[0mproject_directory\u001b[0m\u001b[1;33m\u001b[0m\u001b[0m\n\u001b[0m",
      "\u001b[1;32m<ipython-input-8-b41602c57783>\u001b[0m in \u001b[0;36mproject_directory\u001b[1;34m(self)\u001b[0m\n\u001b[0;32m     56\u001b[0m     \u001b[1;33m@\u001b[0m\u001b[0mproperty\u001b[0m\u001b[1;33m\u001b[0m\u001b[0m\n\u001b[0;32m     57\u001b[0m     \u001b[1;32mdef\u001b[0m \u001b[0mproject_directory\u001b[0m\u001b[1;33m(\u001b[0m\u001b[0mself\u001b[0m\u001b[1;33m)\u001b[0m\u001b[1;33m:\u001b[0m\u001b[1;33m\u001b[0m\u001b[0m\n\u001b[1;32m---> 58\u001b[1;33m         \u001b[1;32mreturn\u001b[0m \u001b[0mself\u001b[0m\u001b[1;33m.\u001b[0m\u001b[0mAsap3GetProjectDirectory\u001b[0m\u001b[1;33m(\u001b[0m\u001b[1;33m)\u001b[0m\u001b[1;33m\u001b[0m\u001b[0m\n\u001b[0m\u001b[0;32m     59\u001b[0m \u001b[1;33m\u001b[0m\u001b[0m\n\u001b[0;32m     60\u001b[0m     \u001b[1;33m@\u001b[0m\u001b[0mproperty\u001b[0m\u001b[1;33m\u001b[0m\u001b[0m\n",
      "\u001b[1;32m<ipython-input-8-b41602c57783>\u001b[0m in \u001b[0;36mAsap3GetProjectDirectory\u001b[1;34m(self)\u001b[0m\n\u001b[0;32m     10\u001b[0m \u001b[1;33m\u001b[0m\u001b[0m\n\u001b[0;32m     11\u001b[0m         result = dll.Asap3GetProjectDirectory(\n\u001b[1;32m---> 12\u001b[1;33m             \u001b[0mhdl\u001b[0m\u001b[1;33m,\u001b[0m\u001b[1;33m\u001b[0m\u001b[0m\n\u001b[0m\u001b[0;32m     13\u001b[0m             \u001b[0mctypes\u001b[0m\u001b[1;33m.\u001b[0m\u001b[0mbyref\u001b[0m\u001b[1;33m(\u001b[0m\u001b[0mdirectory\u001b[0m\u001b[1;33m)\u001b[0m\u001b[1;33m,\u001b[0m\u001b[1;33m\u001b[0m\u001b[0m\n\u001b[0;32m     14\u001b[0m             \u001b[0mctypes\u001b[0m\u001b[1;33m.\u001b[0m\u001b[0mpointer\u001b[0m\u001b[1;33m(\u001b[0m\u001b[0msize\u001b[0m\u001b[1;33m)\u001b[0m\u001b[1;33m,\u001b[0m\u001b[1;33m\u001b[0m\u001b[0m\n",
      "\u001b[1;31mNameError\u001b[0m: name 'hdl' is not defined"
     ]
    }
   ],
   "source": [
    "canape.project_directory"
   ]
  },
  {
   "cell_type": "code",
   "execution_count": 10,
   "metadata": {},
   "outputs": [],
   "source": [
    "canape.interactive=True"
   ]
  },
  {
   "cell_type": "code",
   "execution_count": 11,
   "metadata": {},
   "outputs": [],
   "source": [
    "canape.interactive=False"
   ]
  },
  {
   "cell_type": "code",
   "execution_count": 7,
   "metadata": {},
   "outputs": [],
   "source": [
    "canape.Asap3SetInteractiveMode(True)"
   ]
  },
  {
   "cell_type": "code",
   "execution_count": 5,
   "metadata": {},
   "outputs": [],
   "source": [
    "dll = canape.dll\n",
    "handle = canape.handle"
   ]
  },
  {
   "cell_type": "code",
   "execution_count": 6,
   "metadata": {},
   "outputs": [],
   "source": [
    "dll.Asap3GetInteractiveMode.argtypes=(TAsap3Hdl, ctypes.POINTER(ctypes.c_bool))\n",
    "dll.Asap3GetInteractiveMode.restype=ctypes.c_bool\n",
    "\n",
    "dll.Asap3SetInteractiveMode.argtypes=(TAsap3Hdl, ctypes.c_bool)\n",
    "dll.Asap3SetInteractiveMode.restype=ctypes.c_bool"
   ]
  },
  {
   "cell_type": "code",
   "execution_count": null,
   "metadata": {},
   "outputs": [],
   "source": [
    "module = TModulHdl(0)"
   ]
  },
  {
   "cell_type": "code",
   "execution_count": null,
   "metadata": {},
   "outputs": [],
   "source": [
    "dll.Asap3GetModuleHandle.argtypes=(TAsap3Hdl, ctypes.c_char_p, ctypes.POINTER(TModulHdl))\n",
    "dll.Asap3GetModuleHandle.restype=ctypes.c_bool"
   ]
  },
  {
   "cell_type": "code",
   "execution_count": 13,
   "metadata": {},
   "outputs": [
    {
     "data": {
      "text/plain": [
       "(True, b'XCPsim')"
      ]
     },
     "execution_count": 13,
     "metadata": {},
     "output_type": "execute_result"
    }
   ],
   "source": [
    "# extern bool ASAP3_EXPORT CALL_CONV Asap3GetModuleName(TAsap3Hdl hdl, TModulHdl module, char **moduleName);\n",
    "\n",
    "dll.Asap3GetModuleName.argtypes=(TAsap3Hdl, TModulHdl, ctypes.POINTER(ctypes.c_char_p));\n",
    "dll.Asap3GetModuleName.restype=ctypes.c_bool\n",
    "\n",
    "name = ctypes.c_char_p(256)\n",
    "result = dll.Asap3GetModuleName(handle, module, ctypes.byref(name))\n",
    "result, name.value"
   ]
  },
  {
   "cell_type": "code",
   "execution_count": null,
   "metadata": {},
   "outputs": [],
   "source": [
    "# extern bool ASAP3_EXPORT CALL_CONV Asap3GetCommunicationType(TAsap3Hdl hdl, TModulHdl module, char **commType);\n",
    "dll.Asap3GetCommunicationType.restype=ctypes.c_bool\n",
    "dll.Asap3GetCommunicationType.argtypes=(\n",
    "    TAsap3Hdl, TModulHdl, ctypes.POINTER(ctypes.c_char_p)\n",
    ")\n",
    "name = ctypes.c_char_p(256)\n",
    "result = dll.Asap3GetCommunicationType(handle, module, ctypes.byref(name))\n",
    "result, name.value"
   ]
  },
  {
   "cell_type": "code",
   "execution_count": null,
   "metadata": {},
   "outputs": [],
   "source": []
  }
 ],
 "metadata": {
  "kernelspec": {
   "display_name": "Python 3",
   "language": "python",
   "name": "python3"
  },
  "language_info": {
   "codemirror_mode": {
    "name": "ipython",
    "version": 3
   },
   "file_extension": ".py",
   "mimetype": "text/x-python",
   "name": "python",
   "nbconvert_exporter": "python",
   "pygments_lexer": "ipython3",
   "version": "3.6.6"
  }
 },
 "nbformat": 4,
 "nbformat_minor": 2
}
