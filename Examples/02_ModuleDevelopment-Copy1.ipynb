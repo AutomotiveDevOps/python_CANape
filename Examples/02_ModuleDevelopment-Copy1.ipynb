{
 "cells": [
  {
   "cell_type": "markdown",
   "metadata": {},
   "source": [
    "# Module Development.\n",
    "\n",
    "Use existing example: ```C:\\Users\\Public\\Documents\\Vector CANape 17\\Examples\\XCPDemo``` for 'developing'."
   ]
  },
  {
   "cell_type": "code",
   "execution_count": 38,
   "metadata": {},
   "outputs": [],
   "source": [
    "# Load the library and assign it to dll.\n",
    "dll = ctypes.windll.LoadLibrary(CANapAPI_dll)\n",
    "\n",
    "class tAsap3Hdl(ctypes.Structure):\n",
    "    def __repr__(self):\n",
    "        return \"tAsap3Hdl<>\"\n",
    "\n",
    "TAsap3Hdl=ctypes.POINTER(struct_tAsap3Hdl)\n",
    "def __repr__(self):\n",
    "    return \"TAsap3Hdl<>\"\n",
    "    \n",
    "def ref(self):\n",
    "    return ctypes.byref(self)\n",
    "\n",
    "setattr(TAsap3Hdl, \"__repr__\", __repr__)\n",
    "setattr(TAsap3Hdl, \"ref\", property(ref))\n",
    "    \n",
    "TRecorderID = ctypes.POINTER(ctypes.c_ulong)\n",
    "TModulHdl = ctypes.c_ushort\n",
    "TScriptHdl = ctypes.c_ulong\n",
    "TTime = ctypes.c_ulong"
   ]
  },
  {
   "cell_type": "code",
   "execution_count": 30,
   "metadata": {},
   "outputs": [],
   "source": [
    "handle=TAsap3Hdl()"
   ]
  },
  {
   "cell_type": "code",
   "execution_count": 31,
   "metadata": {},
   "outputs": [
    {
     "data": {
      "text/plain": [
       "TAsap3Hdl<>"
      ]
     },
     "execution_count": 31,
     "metadata": {},
     "output_type": "execute_result"
    }
   ],
   "source": [
    "handle"
   ]
  },
  {
   "cell_type": "code",
   "execution_count": 33,
   "metadata": {},
   "outputs": [],
   "source": [
    "handle_p = handle.ref"
   ]
  },
  {
   "cell_type": "code",
   "execution_count": null,
   "metadata": {},
   "outputs": [],
   "source": [
    "# CANape requires absolute path.\n",
    "workingDir = os.path.abspath(r\"C:\\Users\\Public\\Documents\\Vector CANape 17\\Examples\\XCPDemo\")\n",
    "# Maximum response time (ms)\n",
    "responseTimeout = 10000 # 10 seconds\n",
    "fifoSize = 8192\n",
    "sampleSize = 256\n",
    "debugMode = True\n",
    "# Clear CANape device list.\n",
    "clearDeviceList = True\n",
    "# Start CANape in hex mode\n",
    "bHexmode = False\n",
    "# Start CANape in modal mode. (NonModal = True)\n",
    "bModalMode = True\n",
    "\n",
    "dll.Asap3Init5.restype = ctypes.c_bool\n",
    "dll.Asap3Init5.argtypes = (\n",
    "    ctypes.POINTER(TAsap3Hdl),\n",
    "    ctypes.c_ulong,\n",
    "    ctypes.c_char_p,\n",
    "    ctypes.c_ulong,\n",
    "    ctypes.c_ulong,\n",
    "    ctypes.c_bool,\n",
    "    ctypes.c_bool,\n",
    "    ctypes.c_bool,\n",
    "    ctypes.c_bool\n",
    ")\n",
    "result = dll.Asap3Init5(\n",
    "    handle_p,\n",
    "    responseTimeout,\n",
    "    workingDir.encode(\"UTF-8\"),\n",
    "    fifoSize,\n",
    "    sampleSize,\n",
    "    debugMode,\n",
    "    clearDeviceList,\n",
    "    bHexmode,\n",
    "    bModalMode,\n",
    ")\n",
    "\n",
    "dll.Asap3GetInteractiveMode.argtypes=(TAsap3Hdl, ctypes.POINTER(ctypes.c_bool))\n",
    "dll.Asap3GetInteractiveMode.restype=ctypes.c_bool\n",
    "\n",
    "dll.Asap3SetInteractiveMode.argtypes=(TAsap3Hdl, ctypes.c_bool)\n",
    "dll.Asap3SetInteractiveMode.restype=ctypes.c_bool"
   ]
  },
  {
   "cell_type": "code",
   "execution_count": 9,
   "metadata": {},
   "outputs": [
    {
     "data": {
      "text/plain": [
       "(True, c_bool(False))"
      ]
     },
     "execution_count": 9,
     "metadata": {},
     "output_type": "execute_result"
    }
   ],
   "source": [
    "mode = ctypes.c_bool(0)\n",
    "result = dll.Asap3GetInteractiveMode(handle, ctypes.byref(mode))\n",
    "result, mode"
   ]
  },
  {
   "cell_type": "code",
   "execution_count": 38,
   "metadata": {},
   "outputs": [
    {
     "data": {
      "text/plain": [
       "True"
      ]
     },
     "execution_count": 38,
     "metadata": {},
     "output_type": "execute_result"
    }
   ],
   "source": [
    "module = TModulHdl(0)\n",
    "\n",
    "dll.Asap3GetModuleHandle.argtypes=(TAsap3Hdl, ctypes.c_char_p, ctypes.POINTER(TModulHdl))\n",
    "dll.Asap3GetModuleHandle.restype=ctypes.c_bool\n",
    "\n",
    "dll.Asap3GetModuleName.argtypes=(TAsap3Hdl, TModulHdl, ctypes.POINTER(ctypes.c_char_p));\n",
    "dll.Asap3GetModuleName.restype=ctypes.c_bool\n",
    "\n",
    "name = ctypes.c_char_p()\n",
    "dll.Asap3GetModuleName(handle, module, ctypes.byref(name))"
   ]
  },
  {
   "cell_type": "code",
   "execution_count": 23,
   "metadata": {},
   "outputs": [
    {
     "data": {
      "text/plain": [
       "c_char_p(1675370474528)"
      ]
     },
     "execution_count": 23,
     "metadata": {},
     "output_type": "execute_result"
    }
   ],
   "source": [
    "name"
   ]
  },
  {
   "cell_type": "code",
   "execution_count": 24,
   "metadata": {},
   "outputs": [
    {
     "data": {
      "text/plain": [
       "b'XCPsim'"
      ]
     },
     "execution_count": 24,
     "metadata": {},
     "output_type": "execute_result"
    }
   ],
   "source": [
    "name.value"
   ]
  },
  {
   "cell_type": "code",
   "execution_count": 39,
   "metadata": {},
   "outputs": [
    {
     "data": {
      "text/plain": [
       "(True, Module<0>)"
      ]
     },
     "execution_count": 39,
     "metadata": {},
     "output_type": "execute_result"
    }
   ],
   "source": [
    "mdl = TModulHdl()\n",
    "result = dll.Asap3GetModuleHandle(handle, name.value, ctypes.byref(mdl))\n",
    "result, mdl"
   ]
  },
  {
   "cell_type": "code",
   "execution_count": 35,
   "metadata": {},
   "outputs": [],
   "source": [
    "class TModulHdl(ctypes.c_ushort):\n",
    "    def __init__(self, value=0, handle=None):\n",
    "        self.value=value\n",
    "        self.handle=handle\n",
    "        \n",
    "    def __repr__(self):\n",
    "        return f\"Module<{self.idx, self.name}>\"\n",
    "    \n",
    "    @property\n",
    "    def idx(self):\n",
    "        return int(self.value)\n",
    "    \n",
    "    @property\n",
    "    def name(self):\n",
    "        name = ctypes.c_char_p()\n",
    "        result = dll.Asap3GetModuleName(self.handle, self.value,  ctypes.byref(name))\n",
    "        return str(name.value.decode(\"UTF-8\"))\n",
    "        \n",
    "    def __eq__(self, other):\n",
    "        if isinstance(other, str):\n",
    "            return self.name == other\n",
    "        if isinstance(other, self.__class__):\n",
    "            return self.name == other.name\n",
    "        raise Exception(f\"{type(other)} comparison not implemented.\")"
   ]
  },
  {
   "cell_type": "code",
   "execution_count": 36,
   "metadata": {},
   "outputs": [],
   "source": [
    "mdl = TModulHdl(0, handle)"
   ]
  },
  {
   "cell_type": "code",
   "execution_count": 37,
   "metadata": {},
   "outputs": [
    {
     "data": {
      "text/plain": [
       "'XCPsim'"
      ]
     },
     "execution_count": 37,
     "metadata": {},
     "output_type": "execute_result"
    }
   ],
   "source": [
    "mdl.name"
   ]
  }
 ],
 "metadata": {
  "kernelspec": {
   "display_name": "Python 3",
   "language": "python",
   "name": "python3"
  },
  "language_info": {
   "codemirror_mode": {
    "name": "ipython",
    "version": 3
   },
   "file_extension": ".py",
   "mimetype": "text/x-python",
   "name": "python",
   "nbconvert_exporter": "python",
   "pygments_lexer": "ipython3",
   "version": "3.6.6"
  }
 },
 "nbformat": 4,
 "nbformat_minor": 2
}
