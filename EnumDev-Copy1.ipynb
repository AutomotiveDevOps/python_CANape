{
 "cells": [
  {
   "cell_type": "code",
   "execution_count": 1,
   "metadata": {},
   "outputs": [],
   "source": [
    "import os\n",
    "import re"
   ]
  },
  {
   "cell_type": "code",
   "execution_count": 2,
   "metadata": {},
   "outputs": [],
   "source": [
    "with open(os.path.abspath(\"CANapAPI.h\"), \"r\") as fid:\n",
    "    CANapAPI_h = fid.read()"
   ]
  },
  {
   "cell_type": "code",
   "execution_count": 3,
   "metadata": {},
   "outputs": [],
   "source": [
    "enum1_re = re.compile(\"typedef enum {([^}]+)} ([\\w_]+)\")"
   ]
  },
  {
   "cell_type": "code",
   "execution_count": 4,
   "metadata": {},
   "outputs": [],
   "source": [
    "for enum in enum1_re.finditer(CANapAPI_h):\n",
    "    break"
   ]
  },
  {
   "cell_type": "code",
   "execution_count": 5,
   "metadata": {},
   "outputs": [],
   "source": [
    "enum_def = enum.group(1)\n",
    "enum_name = enum.group(2)"
   ]
  },
  {
   "cell_type": "code",
   "execution_count": 6,
   "metadata": {},
   "outputs": [
    {
     "data": {
      "text/plain": [
       "['eUNDEFINED   = 0,',\n",
       " '  eCANAPE      = 1,                 //!< Identification for CANape',\n",
       " '  eAPPLOCATION = 3                  //!< Identification to Start the application with a given path and executable file']"
      ]
     },
     "execution_count": 6,
     "metadata": {},
     "output_type": "execute_result"
    }
   ],
   "source": [
    "enum_def.strip().splitlines()"
   ]
  },
  {
   "cell_type": "code",
   "execution_count": 7,
   "metadata": {},
   "outputs": [
    {
     "name": "stdout",
     "output_type": "stream",
     "text": [
      "eUNDEFINED   = 0,\n",
      "eCANAPE      = 1,                 //!< Identification for CANape\n",
      "eAPPLOCATION = 3                  //!< Identification to Start the application with a given path and executable file\n"
     ]
    }
   ],
   "source": [
    "for enum_value in enum_def.strip().splitlines():\n",
    "    enum_value = enum_value.strip()\n",
    "    print(enum_value.strip())"
   ]
  },
  {
   "cell_type": "code",
   "execution_count": 32,
   "metadata": {},
   "outputs": [
    {
     "data": {
      "text/plain": [
       "'tDriverType'"
      ]
     },
     "execution_count": 32,
     "metadata": {},
     "output_type": "execute_result"
    }
   ],
   "source": [
    "enum_name"
   ]
  },
  {
   "cell_type": "code",
   "execution_count": 42,
   "metadata": {},
   "outputs": [
    {
     "name": "stdout",
     "output_type": "stream",
     "text": [
      "0\n",
      "['eUNDEFINED   ', ' 0,']\n",
      "1\n",
      "['eCANAPE      ', ' 1,                 //!< Identification for CANape']\n",
      "3\n",
      "['eAPPLOCATION ', ' 3                  //!< Identification to Start the application with a given path and executable file']\n",
      "TApplicationType\n",
      "\n",
      "['et_ON_DATA_ACQ_START,              //!< Callback ID to register the event onMeasurementStart']\n",
      "['et_ON_DATA_ACQ_STOP,               //!< Callback ID to register the event onMeasurementStop']\n",
      "['et_ON_BEFORE_DATA_ACQ_START,       //!< Callback ID to register the event before Measurement starts']\n",
      "['et_ON_CLOSEPROJECT,                //!< Callback ID to register if a new Project is closed']\n",
      "['et_ON_OPENPROJECT,                 //!< Callback ID to register if a new Project is opened']\n",
      "['et_ON_CLOSECANAPE                  //!< Callback ID to register when CANape will be closed']\n",
      "ASAP3_EVENT_CODE\n",
      "\n",
      "0\n",
      "['ECU_INTERNAL ', ' 0,                 //!< HEX: ECU-internal data format']\n",
      "1\n",
      "['PHYSICAL_REPRESENTATION ', ' 1,      //!< PHYS: physical value including unit']\n",
      "TFormat\n",
      "\n",
      "0\n",
      "['VALUE  ', ' 0, //!< Represents scalar object']\n",
      "1\n",
      "['CURVE  ', ' 1, //!< Represents curve object']\n",
      "2\n",
      "['MAP    ', ' 2, //!< Represents map object']\n",
      "3\n",
      "['AXIS   ', ' 3, //!< Represents axis object']\n",
      "4\n",
      "['ASCII  ', ' 4, //!< Represents ASCII string object']\n",
      "5\n",
      "['VAL_BLK', ' 5  //!< Represents ValueBlock']\n",
      "TValueType\n",
      "\n",
      "0\n",
      "['OTT_MEASURE   ', ' 0, //!< Represents Measurement objects']\n",
      "1\n",
      "['OTT_CALIBRATE ', ' 1, //!< Represents Calibration and writable Measurement objects']\n",
      "2\n",
      "['OTT_UNKNOWN   ', ' 2  //!< fall back value - should not appear!']\n",
      "TObjectType\n",
      "\n",
      "0\n",
      "['ASAP3_DRIVER_UNKNOWN     ', ' 0,        //!< Default value for Error case (must not be used)']\n",
      "1\n",
      "['ASAP3_DRIVER_CCP         ', ' 1,        //!< CCP: CAN calibration protocol']\n",
      "2\n",
      "['ASAP3_DRIVER_XCP         ', ' 2,        //!< XCP']\n",
      "20\n",
      "['ASAP3_DRIVER_CAN         ', ' 20,       //!< CAN']\n",
      "40\n",
      "['ASAP3_DRIVER_HEXEDIT     ', ' 40,       //!< Pure offline driver']\n",
      "50\n",
      "['ASAP3_DRIVER_ANALOG      ', \" 50,       //!< Analog measurement data (e.g. 'National Instruments' PCMCIA-card)\"]\n",
      "60\n",
      "['ASAP3_DRIVER_CANOPEN     ', ' 60,       //!< CANopen']\n",
      "70\n",
      "['ASAP3_DRIVER_CANDELA     ', ' 70,       //!< CANdela Diagnostic']\n",
      "80\n",
      "['ASAP3_DRIVER_ENVIRONMENT ', ' 80,       //!< Environment - access to global variables']\n",
      "90\n",
      "['ASAP3_DRIVER_LIN         ', ' 90,       //!< LIN Driver']\n",
      "100\n",
      "['ASAP3_DRIVER_FLX         ', ' 100,      //!< FlexRay']\n",
      "110\n",
      "['ASAP3_DRIVER_FUNC        ', ' 110,      //!< Functional Diagnostic Driver']\n",
      "120\n",
      "['ASAP3_DRIVER_NIDAQMX     ', \" 120,      //!< NI DAQ Driver 'National Instruments'\"]\n",
      "130\n",
      "['ASAP3_DRIVER_XCP_RAMSCOPE', ' 130,      //!< XCP Driver for Ramscope']\n",
      "140\n",
      "['ASAP3_DRIVER_SYSTEM      ', ' 140,      //!< System driver']\n",
      "150\n",
      "['ASAP3_DRIVER_ETH         ', ' 150,      //!< Ethernet driver']\n",
      "160\n",
      "['ASAP3_DAIO_SYSTEM        ', ' 160,      //!< DAIO_SYSTEM driver']\n",
      "170\n",
      "['ASAP3_DRIVER_SOME_IP     ', ' 170       //!< SOME-IP driver']\n",
      "tDriverType\n",
      "\n"
     ]
    }
   ],
   "source": [
    "for enum in enum1_re.finditer(CANapAPI_h):\n",
    "    enum_def = enum.group(1)\n",
    "    enum_name = enum.group(2)\n",
    "    loop_value=1\n",
    "    for enum_line in enum_def.strip().splitlines():\n",
    "        enum_line = enum_line.strip()\n",
    "        tmp = enum_line.strip().split(\"//!<\")\n",
    "        if len(tmp)==2:\n",
    "            comment=tmp[1].strip()\n",
    "        else:\n",
    "            comment=None\n",
    "        v = enum_line.split(\"=\")\n",
    "        if len(v)==2:\n",
    "            value=v[1].strip(\" ,\").split(\",\")[0].split(\" \")[0]\n",
    "            print(value)\n",
    "        print(enum_line.split(\"=\"))\n",
    "    print(enum_name)\n",
    "    print()"
   ]
  },
  {
   "cell_type": "code",
   "execution_count": null,
   "metadata": {},
   "outputs": [],
   "source": []
  },
  {
   "cell_type": "code",
   "execution_count": 88,
   "metadata": {},
   "outputs": [
    {
     "data": {
      "text/plain": [
       "'ASAP3_DRIVER_UNKNOWN     = 0,        //!< Default value for Error case (must not be used)'"
      ]
     },
     "execution_count": 88,
     "metadata": {},
     "output_type": "execute_result"
    }
   ],
   "source": [
    "enum_value"
   ]
  },
  {
   "cell_type": "code",
   "execution_count": 32,
   "metadata": {},
   "outputs": [
    {
     "data": {
      "text/plain": [
       "'eUNDEFINED   = 0,'"
      ]
     },
     "execution_count": 32,
     "metadata": {},
     "output_type": "execute_result"
    }
   ],
   "source": [
    "enum_value"
   ]
  },
  {
   "cell_type": "code",
   "execution_count": 33,
   "metadata": {},
   "outputs": [],
   "source": [
    "def_split = enum_value.split(\"=\")"
   ]
  },
  {
   "cell_type": "code",
   "execution_count": 34,
   "metadata": {},
   "outputs": [
    {
     "data": {
      "text/plain": [
       "2"
      ]
     },
     "execution_count": 34,
     "metadata": {},
     "output_type": "execute_result"
    }
   ],
   "source": [
    "len(def_split)"
   ]
  },
  {
   "cell_type": "code",
   "execution_count": 36,
   "metadata": {},
   "outputs": [
    {
     "data": {
      "text/plain": [
       "'eUNDEFINED'"
      ]
     },
     "execution_count": 36,
     "metadata": {},
     "output_type": "execute_result"
    }
   ],
   "source": [
    "def_split[0].strip()"
   ]
  },
  {
   "cell_type": "code",
   "execution_count": 39,
   "metadata": {},
   "outputs": [
    {
     "data": {
      "text/plain": [
       "0"
      ]
     },
     "execution_count": 39,
     "metadata": {},
     "output_type": "execute_result"
    }
   ],
   "source": [
    "int(def_split[1].strip(\" ,\"))"
   ]
  },
  {
   "cell_type": "code",
   "execution_count": 43,
   "metadata": {},
   "outputs": [],
   "source": [
    "import ctypes"
   ]
  },
  {
   "cell_type": "code",
   "execution_count": 49,
   "metadata": {},
   "outputs": [],
   "source": [
    "def generate_fancy_enum_factory(states, name):\n",
    "    class FancyEnum(ctypes.c_int):\n",
    "        def __init__(self, value):\n",
    "            self.states = states\n",
    "            assert value in self.states,  Exception(\"Unknown State\")\n",
    "            self.value=value\n",
    "\n",
    "        def __eq__(self):\n",
    "            raise Exception(U)\n",
    "\n",
    "        @property\n",
    "        def state(self):\n",
    "            if self.value in self.states:\n",
    "                return self.states[self.value]\n",
    "\n",
    "        def __repr__(self):\n",
    "            return f\"{name}<{self.state}>\" \n",
    "    return FancyEnum"
   ]
  },
  {
   "cell_type": "code",
   "execution_count": 50,
   "metadata": {},
   "outputs": [],
   "source": [
    "TAsap3ECUState=generate_fancy_enum_factory(\n",
    "    {\n",
    "        0: \"Online\",\n",
    "        1: \"Offline\"\n",
    "    },\n",
    "    \"ECUState\"    \n",
    ")"
   ]
  },
  {
   "cell_type": "code",
   "execution_count": null,
   "metadata": {},
   "outputs": [],
   "source": [
    "for n in range(3):\n",
    "    print(TAsap3ECUState(n))"
   ]
  },
  {
   "cell_type": "code",
   "execution_count": 47,
   "metadata": {},
   "outputs": [
    {
     "data": {
      "text/plain": [
       "2"
      ]
     },
     "execution_count": 47,
     "metadata": {},
     "output_type": "execute_result"
    }
   ],
   "source": [
    "for enum in enum1_re.finditer(CANapAPI_h):\n",
    "    break\n",
    "    \n",
    "    "
   ]
  },
  {
   "cell_type": "code",
   "execution_count": 66,
   "metadata": {},
   "outputs": [],
   "source": [
    "enum_def = enum.group(1)\n",
    "enum_name = enum.group(2)\n",
    "enum_def_ = enum_def.strip().splitlines()"
   ]
  },
  {
   "cell_type": "code",
   "execution_count": 67,
   "metadata": {},
   "outputs": [],
   "source": [
    "for enum_value in enum_def_:\n",
    "    break"
   ]
  },
  {
   "cell_type": "code",
   "execution_count": 68,
   "metadata": {},
   "outputs": [],
   "source": [
    "try:\n",
    "    value, comment = enum_value.split(\"//\")\n",
    "except ValueError:\n",
    "    value = enum_value"
   ]
  },
  {
   "cell_type": "code",
   "execution_count": 70,
   "metadata": {},
   "outputs": [
    {
     "data": {
      "text/plain": [
       "'eUNDEFINED   = 0,'"
      ]
     },
     "execution_count": 70,
     "metadata": {},
     "output_type": "execute_result"
    }
   ],
   "source": [
    "enum_value"
   ]
  },
  {
   "cell_type": "code",
   "execution_count": 72,
   "metadata": {},
   "outputs": [],
   "source": [
    "def_split = enum_value.split(\"=\")\n",
    "if len(def_split)==2:\n",
    "    english, value = def_split\n",
    "    english=english.strip()\n",
    "    value=int(value.strip(\", \"))\n",
    "else:\n",
    "    raise Exception(len(def_split))"
   ]
  },
  {
   "cell_type": "code",
   "execution_count": 84,
   "metadata": {},
   "outputs": [
    {
     "name": "stdout",
     "output_type": "stream",
     "text": [
      "eUNDEFINED 0\n",
      "eCANAPE 1\n",
      "eAPPLOCATION 3\n",
      "et_ON_DATA_ACQ_START 0\n",
      "et_ON_DATA_ACQ_STOP 0\n",
      "et_ON_BEFORE_DATA_ACQ_START 0\n",
      "et_ON_CLOSEPROJECT 0\n",
      "et_ON_OPENPROJECT 0\n",
      "et_ON_CLOSECANAPE 0\n",
      "ECU_INTERNAL 0\n",
      "PHYSICAL_REPRESENTATION 1\n",
      "VALUE 0\n",
      "CURVE 1\n",
      "MAP 2\n",
      "AXIS 3\n",
      "ASCII 4\n",
      "VAL_BLK 5\n",
      "OTT_MEASURE 0\n",
      "OTT_CALIBRATE 1\n",
      "OTT_UNKNOWN 2\n",
      "ASAP3_DRIVER_UNKNOWN 0\n",
      "ASAP3_DRIVER_CCP 1\n",
      "ASAP3_DRIVER_XCP 2\n",
      "ASAP3_DRIVER_CAN 20\n",
      "ASAP3_DRIVER_HEXEDIT 40\n",
      "ASAP3_DRIVER_ANALOG 50\n",
      "ASAP3_DRIVER_CANOPEN 60\n",
      "ASAP3_DRIVER_CANDELA 70\n",
      "ASAP3_DRIVER_ENVIRONMENT 80\n",
      "ASAP3_DRIVER_LIN 90\n",
      "ASAP3_DRIVER_FLX 100\n",
      "ASAP3_DRIVER_FUNC 110\n",
      "ASAP3_DRIVER_NIDAQMX 120\n",
      "ASAP3_DRIVER_XCP_RAMSCOPE 130\n",
      "ASAP3_DRIVER_SYSTEM 140\n",
      "ASAP3_DRIVER_ETH 150\n",
      "ASAP3_DAIO_SYSTEM 160\n",
      "ASAP3_DRIVER_SOME_IP 170\n"
     ]
    }
   ],
   "source": [
    "for enum in enum1_re.finditer(CANapAPI_h):\n",
    "    enum_def = enum.group(1)\n",
    "    enum_name = enum.group(2)\n",
    "    enum_def_ = enum_def.strip().splitlines()\n",
    "    \n",
    "    \n",
    "    enum_factory_order=dict()\n",
    "    \n",
    "    \n",
    "    for enum_value in enum_def_:\n",
    "        try:\n",
    "            value2, comment = enum_value.split(\"//\")\n",
    "        except ValueError:\n",
    "            value2 = enum_value\n",
    "\n",
    "        def_split = value2.split(\"=\")\n",
    "        if len(def_split) not in [1, 2]:\n",
    "            raise Exception(len(def_split))\n",
    "        \n",
    "        if len(def_split)==2:\n",
    "            english, value = def_split\n",
    "            english=english.strip()\n",
    "            value=int(value.strip(\", \"))\n",
    "            print(english, value)\n",
    "        if len(def_split)==1:\n",
    "            english=def_split[0].strip(\", \")\n",
    "            value=0\n",
    "            print(english, value)\n",
    "        \n",
    "    "
   ]
  }
 ],
 "metadata": {
  "kernelspec": {
   "display_name": "Python 3",
   "language": "python",
   "name": "python3"
  },
  "language_info": {
   "codemirror_mode": {
    "name": "ipython",
    "version": 3
   },
   "file_extension": ".py",
   "mimetype": "text/x-python",
   "name": "python",
   "nbconvert_exporter": "python",
   "pygments_lexer": "ipython3",
   "version": "3.6.6"
  }
 },
 "nbformat": 4,
 "nbformat_minor": 2
}
