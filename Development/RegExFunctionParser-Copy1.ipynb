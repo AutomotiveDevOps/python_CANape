{
 "cells": [
  {
   "cell_type": "code",
   "execution_count": 43,
   "metadata": {},
   "outputs": [],
   "source": [
    "header_paths = \"\"\"C:\\Program Files (x86)\\Vector CANape 13\\CANapeAPI\\CANapAPI.h\n",
    "C:\\Program Files (x86)\\Vector CANape 14\\CANapeAPI\\CANapAPI.h\n",
    "C:\\Program Files (x86)\\Vector CANape 15\\CANapeAPI\\CANapAPI.h\n",
    "C:\\Program Files (x86)\\Vector CANape 16\\CANapeAPI\\CANapAPI.h\n",
    "C:\\Program Files\\Vector CANape 17\\CANapeAPI\\CANapAPI.h\"\"\""
   ]
  },
  {
   "cell_type": "code",
   "execution_count": 44,
   "metadata": {},
   "outputs": [],
   "source": [
    "CANapAPI_dlls=\"\"\"C:\\Program Files (x86)\\Vector CANape 13\\CANapeAPI\\CANapAPI64.dll\n",
    "C:\\Program Files (x86)\\Vector CANape 14\\CANapeAPI\\CANapAPI64.dll\n",
    "C:\\Program Files (x86)\\Vector CANape 15\\CANapeAPI\\CANapAPI64.dll\n",
    "C:\\Program Files (x86)\\Vector CANape 16\\CANapeAPI\\CANapAPI64.dll\n",
    "C:\\Program Files\\Vector CANape 17\\CANapeAPI\\CANapAPI64.dll\"\"\""
   ]
  },
  {
   "cell_type": "code",
   "execution_count": 45,
   "metadata": {},
   "outputs": [],
   "source": [
    "import re"
   ]
  },
  {
   "cell_type": "code",
   "execution_count": 46,
   "metadata": {},
   "outputs": [],
   "source": [
    "fcn = re.compile(\"^extern ([^ ]+) ASAP3_EXPORT CALL_CONV ([^(]+)\\(([^)]+)\\);\", flags=re.MULTILINE)"
   ]
  },
  {
   "cell_type": "code",
   "execution_count": 9,
   "metadata": {},
   "outputs": [],
   "source": [
    "import os"
   ]
  },
  {
   "cell_type": "code",
   "execution_count": 10,
   "metadata": {},
   "outputs": [],
   "source": [
    "for header_path in header_paths.split(\"\\n\")[::-1]:\n",
    "    if os.path.exists(header_path):\n",
    "        break"
   ]
  },
  {
   "cell_type": "code",
   "execution_count": 11,
   "metadata": {},
   "outputs": [],
   "source": [
    "with open(header_path, \"r\") as fid:\n",
    "    header = fid.read()"
   ]
  },
  {
   "cell_type": "code",
   "execution_count": 42,
   "metadata": {},
   "outputs": [
    {
     "name": "stdout",
     "output_type": "stream",
     "text": [
      "Asap3GetVersion\n",
      "Asap3SetTCPOptions\n",
      "Asap3Init\n",
      "Asap3Init2\n",
      "Asap3Init3\n",
      "Asap3Init4\n",
      "Asap3Init5\n",
      "Asap3Init6\n",
      "Asap3GetProjectDirectory\n",
      "Asap3Exit\n",
      "Asap3SetApplicationName\n",
      "Asap3GetApplicationName\n",
      "Asap3GetApplicationVersion\n",
      "Asap3Exit2\n",
      "Asap3ErrorText\n",
      "Asap3PopupDebugWindow\n",
      "Asap3SaveDebugWindow\n",
      "Asap3AttachAsap2\n",
      "Asap3CreateModule\n",
      "Asap3CreateModule2\n",
      "Asap3CreateModule3\n",
      "Asap3CreateModule4\n",
      "Asap3CreateModuleSec\n",
      "Asap3GetModuleSecJobName\n",
      "Asap3GetModuleCount\n",
      "Asap3RestartMeasurementOnError\n",
      "Asap3IsRestartMeasurementOnErrorEnabled\n",
      "Asap3IsModuleActive\n",
      "Asap3ModuleActivation\n",
      "Asap3SwitchToMemoryPage\n",
      "Asap3GetMemoryPage\n",
      "Asap3GetDBObjectUnit\n",
      "Asap3GetDBObjectInfo\n",
      "Asap3GetDatabaseObjects\n",
      "Asap3GetDatabaseObjectsByType\n",
      "Asap3GetAsap2\n",
      "Asap3TransmitFile2ClientPc\n",
      "Asap3GetModuleName\n",
      "Asap3GetModuleHandle\n",
      "Asap3ReleaseModule\n",
      "Asap3GetCommunicationType\n",
      "Asap3ReadByAddress\n",
      "Asap3WriteByAddress\n",
      "Asap3ReadCalibrationObject\n",
      "Asap3ReadCalibrationObject2\n",
      "Asap3ReadCalibrationObjectEx\n",
      "Asap3WriteCalibrationObject\n",
      "Asap3WriteCalibrationObjectEx\n",
      "Asap3TestObject\n",
      "Asap3CalibrationObjectInfo\n",
      "Asap3CalibrationObjectInfoEx\n",
      "Asap3CalibrationObjectRecordInfo\n",
      "Asap3GetEcuTasks\n",
      "Asap3GetEcuTasks2\n",
      "Asap3CreateLoggerConfiguration\n",
      "Asap3GetEcuDriverType\n",
      "Asap3HasResumeMode\n",
      "Asap3SetResumeMode\n",
      "Asap3IsResumeModeActive\n",
      "Asap3ClearResumeMode\n",
      "Asap3GetChnlDefaultRaster\n",
      "Asap3SetupFifo\n",
      "Asap3SetupDataAcquisitionChnl\n",
      "Asap3SetupDataAcquisitionChnl2\n",
      "Asap3GetMeasurementListEntries\n",
      "Asap3GetMeasurementState\n",
      "Asap3HasMCD3License\n",
      "Asap3DefineRecorder\n",
      "Asap3GetRecorderName\n",
      "Asap3GetRecorderCount\n",
      "Asap3GetRecorderByIndex\n",
      "Asap3GetRecorderByName\n",
      "Asap3SelectRecorder\n",
      "Asap3GetSelectedRecorder\n",
      "Asap3RemoveRecorder\n",
      "Asap3GetRecorderMdfFileName\n",
      "Asap3SetRecorderMdfFileName\n",
      "Asap3SetRecorderDataReduction\n",
      "Asap3GetRecorderDataReduction\n",
      "Asap3GetRecorderState\n",
      "Asap3PauseRecorder\n",
      "Asap3StartRecorder\n",
      "Asap3StopRecorder\n",
      "Asap3EnableRecorder\n",
      "Asap3IsRecorderEnabled\n",
      "Asap3ResetDataAcquisitionChnlsByModule\n",
      "Asap3ResetDataAcquisitionChnls\n",
      "Asap3TimeSync\n",
      "Asap3IsTimeSyncEnabled\n",
      "Asap3StartDataAcquisition\n",
      "Asap3ConnectDataAcquisition\n",
      "Asap3StartResumedDataAcquisition\n",
      "Asap3StopDataAcquisition\n",
      "Asap3DisconnectDataAcquisition\n",
      "Asap3GetFifoLevel\n",
      "Asap3CheckOverrun\n",
      "Asap3GetNextSample\n",
      "Asap3UseNAN\n",
      "Asap3IsNANUsed\n",
      "Asap3SetMdfFilename\n",
      "Asap3GetMdfFilename\n",
      "Asap3SelectLabelList\n",
      "Asap3MatlabConversion\n",
      "Asap3MatlabConversionAsync\n",
      "Asap3MDFConverterCount\n",
      "Asap3MDFConvert\n",
      "Asap3MDFConverterInfo\n",
      "Asap3GetNetworkName\n",
      "Asap3GetNetworkDevices\n",
      "Asap3ActivateNetwork\n",
      "Asap3IsNetworkActivated\n",
      "Asap3GetSecProfileCount\n",
      "Asap3GetSecProfileIdentifier\n",
      "Asap3GetSecProfileInfo\n",
      "Asap3AddSecProfileToNetwork\n",
      "Asap3_CCP_Request\n",
      "Asap3ExecuteScript\n",
      "Asap3SelectObjects\n",
      "Asap3RestoreWndSize\n",
      "Asap3RestoreWndSize2\n",
      "Asap3CopyBinaryFile\n",
      "Asap3ReadObjectParameter\n",
      "Asap3ExecuteScriptEx\n",
      "Asap3GetScriptState \n",
      "Asap3GetScriptResultValue\n",
      "Asap3GetScriptResultString\n",
      " Asap3DiagEnableTesterPresent\n",
      " Asap3DiagIsTesterPresentEnabled\n",
      " Asap3DiagExecuteJob\n",
      "Asap3DiagCreateRawRequest\n",
      "Asap3DiagCreateRawRequest2\n",
      "Asap3DiagCreateSymbolicRequest\n",
      "Asap3DiagSetNotificationParameters\n",
      "Asap3DiagExecute\n",
      "Asap3DiagGetServiceState\n",
      "Asap3DiagReleaseService\n",
      "Asap3DiagSetStringParameter\n",
      "Asap3DiagSetRawParameter\n",
      "Asap3DiagSetNumericParameter\n",
      "Asap3DiagGetResponseCount\n",
      "Asap3DiagIsPositiveResponse\n",
      "Asap3DiagGetResponseStream\n",
      "Asap3DiagGetStringResponseParameter\n",
      "Asap3DiagGetRawResponseParameter\n",
      "Asap3DiagGetNumericResponseParameter\n",
      "Asap3DiagIsComplexResponseParameter\n",
      "Asap3DiagGetComplexNumericResponseParameter\n",
      "Asap3DiagGetComplexStringResponseParameter\n",
      "Asap3DiagGetComplexRawResponseParameter\n",
      "Asap3DiagGetResponseCode\n",
      "Asap3DiagGetComplexIterationCount\n",
      "Asap3GetCNAFilename\n",
      "Asap3GetCanapeModuleParam\n",
      "Asap3SetCanapeModuleParam\n",
      "Asap3GetCanapeProjectParam\n",
      "Asap3SetCanapeProjectParam\n",
      "Asap3FlashSetODXContainer\n",
      "Asap3FlashGetSessionCount\n",
      "Asap3FlashGetSessionName\n",
      "Asap3FlashGetJobCount\n",
      "Asap3FlashGetJobName\n",
      "Asap3FlashStartFlashJob\n",
      "Asap3FlashGetJobState\n",
      "Asap3FlashStopJob\n",
      "Asap3SetInteractiveMode\n",
      "Asap3GetInteractiveMode\n",
      "Asap3RegisterCallBack\n",
      "Asap3UnRegisterCallBack\n",
      "Asap3ConnectToCANape\n",
      "Asap3DisconnectFromCANape\n",
      "Asap3OpenDisplayForFile\n",
      "Asap3ReleaseResultList\n",
      "Asap3OpenDisplay \n"
     ]
    }
   ],
   "source": [
    "for f in fcn.findall(header):\n",
    "    return_type, function_name, function_args = f\n",
    "    \n",
    "    print(function_name)\n",
    "    \n",
    "    #print(f[-1])\n",
    "    if \"\\n\" in f[-1]:\n",
    "        pass\n",
    "        #break"
   ]
  },
  {
   "cell_type": "code",
   "execution_count": 38,
   "metadata": {},
   "outputs": [],
   "source": [
    "return_type, function_name, function_args = f"
   ]
  },
  {
   "cell_type": "code",
   "execution_count": 14,
   "metadata": {},
   "outputs": [],
   "source": [
    "args=f[-1]"
   ]
  },
  {
   "cell_type": "code",
   "execution_count": 24,
   "metadata": {},
   "outputs": [
    {
     "data": {
      "text/plain": [
       "['TAsap3Hdl * hdl',\n",
       " '\\n                                             unsigned long responseTimeout',\n",
       " '\\n                                             const char *workingDir',\n",
       " '\\n                                             unsigned long fifoSize',\n",
       " '\\n                                             bool debugMode']"
      ]
     },
     "execution_count": 24,
     "metadata": {},
     "output_type": "execute_result"
    }
   ],
   "source": [
    "args.split(\",\")"
   ]
  },
  {
   "cell_type": "code",
   "execution_count": 48,
   "metadata": {},
   "outputs": [
    {
     "ename": "TemplateSyntaxError",
     "evalue": "Expected an expression, got 'end of print statement'",
     "output_type": "error",
     "traceback": [
      "\u001b[1;31m---------------------------------------------------------------------------\u001b[0m",
      "\u001b[1;31mTemplateSyntaxError\u001b[0m                       Traceback (most recent call last)",
      "\u001b[1;32m<ipython-input-48-b1af5627a76a>\u001b[0m in \u001b[0;36m<module>\u001b[1;34m()\u001b[0m\n\u001b[0;32m      4\u001b[0m \u001b[1;33m\u001b[0m\u001b[0m\n\u001b[0;32m      5\u001b[0m \u001b[1;33m\u001b[0m\u001b[0m\n\u001b[1;32m----> 6\u001b[1;33m \"\"\")\n\u001b[0m",
      "\u001b[1;32mC:\\Projects\\bootstrap_WinPython\\WinPython\\python-3.6.6.amd64\\lib\\site-packages\\jinja2\\environment.py\u001b[0m in \u001b[0;36m__new__\u001b[1;34m(cls, source, block_start_string, block_end_string, variable_start_string, variable_end_string, comment_start_string, comment_end_string, line_statement_prefix, line_comment_prefix, trim_blocks, lstrip_blocks, newline_sequence, keep_trailing_newline, extensions, optimized, undefined, finalize, autoescape, enable_async)\u001b[0m\n\u001b[0;32m    943\u001b[0m             \u001b[0mfrozenset\u001b[0m\u001b[1;33m(\u001b[0m\u001b[0mextensions\u001b[0m\u001b[1;33m)\u001b[0m\u001b[1;33m,\u001b[0m \u001b[0moptimized\u001b[0m\u001b[1;33m,\u001b[0m \u001b[0mundefined\u001b[0m\u001b[1;33m,\u001b[0m \u001b[0mfinalize\u001b[0m\u001b[1;33m,\u001b[0m \u001b[0mautoescape\u001b[0m\u001b[1;33m,\u001b[0m\u001b[1;33m\u001b[0m\u001b[0m\n\u001b[0;32m    944\u001b[0m             None, 0, False, None, enable_async)\n\u001b[1;32m--> 945\u001b[1;33m         \u001b[1;32mreturn\u001b[0m \u001b[0menv\u001b[0m\u001b[1;33m.\u001b[0m\u001b[0mfrom_string\u001b[0m\u001b[1;33m(\u001b[0m\u001b[0msource\u001b[0m\u001b[1;33m,\u001b[0m \u001b[0mtemplate_class\u001b[0m\u001b[1;33m=\u001b[0m\u001b[0mcls\u001b[0m\u001b[1;33m)\u001b[0m\u001b[1;33m\u001b[0m\u001b[0m\n\u001b[0m\u001b[0;32m    946\u001b[0m \u001b[1;33m\u001b[0m\u001b[0m\n\u001b[0;32m    947\u001b[0m     \u001b[1;33m@\u001b[0m\u001b[0mclassmethod\u001b[0m\u001b[1;33m\u001b[0m\u001b[0m\n",
      "\u001b[1;32mC:\\Projects\\bootstrap_WinPython\\WinPython\\python-3.6.6.amd64\\lib\\site-packages\\jinja2\\environment.py\u001b[0m in \u001b[0;36mfrom_string\u001b[1;34m(self, source, globals, template_class)\u001b[0m\n\u001b[0;32m    878\u001b[0m         \u001b[0mglobals\u001b[0m \u001b[1;33m=\u001b[0m \u001b[0mself\u001b[0m\u001b[1;33m.\u001b[0m\u001b[0mmake_globals\u001b[0m\u001b[1;33m(\u001b[0m\u001b[0mglobals\u001b[0m\u001b[1;33m)\u001b[0m\u001b[1;33m\u001b[0m\u001b[0m\n\u001b[0;32m    879\u001b[0m         \u001b[0mcls\u001b[0m \u001b[1;33m=\u001b[0m \u001b[0mtemplate_class\u001b[0m \u001b[1;32mor\u001b[0m \u001b[0mself\u001b[0m\u001b[1;33m.\u001b[0m\u001b[0mtemplate_class\u001b[0m\u001b[1;33m\u001b[0m\u001b[0m\n\u001b[1;32m--> 880\u001b[1;33m         \u001b[1;32mreturn\u001b[0m \u001b[0mcls\u001b[0m\u001b[1;33m.\u001b[0m\u001b[0mfrom_code\u001b[0m\u001b[1;33m(\u001b[0m\u001b[0mself\u001b[0m\u001b[1;33m,\u001b[0m \u001b[0mself\u001b[0m\u001b[1;33m.\u001b[0m\u001b[0mcompile\u001b[0m\u001b[1;33m(\u001b[0m\u001b[0msource\u001b[0m\u001b[1;33m)\u001b[0m\u001b[1;33m,\u001b[0m \u001b[0mglobals\u001b[0m\u001b[1;33m,\u001b[0m \u001b[1;32mNone\u001b[0m\u001b[1;33m)\u001b[0m\u001b[1;33m\u001b[0m\u001b[0m\n\u001b[0m\u001b[0;32m    881\u001b[0m \u001b[1;33m\u001b[0m\u001b[0m\n\u001b[0;32m    882\u001b[0m     \u001b[1;32mdef\u001b[0m \u001b[0mmake_globals\u001b[0m\u001b[1;33m(\u001b[0m\u001b[0mself\u001b[0m\u001b[1;33m,\u001b[0m \u001b[0md\u001b[0m\u001b[1;33m)\u001b[0m\u001b[1;33m:\u001b[0m\u001b[1;33m\u001b[0m\u001b[0m\n",
      "\u001b[1;32mC:\\Projects\\bootstrap_WinPython\\WinPython\\python-3.6.6.amd64\\lib\\site-packages\\jinja2\\environment.py\u001b[0m in \u001b[0;36mcompile\u001b[1;34m(self, source, name, filename, raw, defer_init)\u001b[0m\n\u001b[0;32m    589\u001b[0m         \u001b[1;32mexcept\u001b[0m \u001b[0mTemplateSyntaxError\u001b[0m\u001b[1;33m:\u001b[0m\u001b[1;33m\u001b[0m\u001b[0m\n\u001b[0;32m    590\u001b[0m             \u001b[0mexc_info\u001b[0m \u001b[1;33m=\u001b[0m \u001b[0msys\u001b[0m\u001b[1;33m.\u001b[0m\u001b[0mexc_info\u001b[0m\u001b[1;33m(\u001b[0m\u001b[1;33m)\u001b[0m\u001b[1;33m\u001b[0m\u001b[0m\n\u001b[1;32m--> 591\u001b[1;33m         \u001b[0mself\u001b[0m\u001b[1;33m.\u001b[0m\u001b[0mhandle_exception\u001b[0m\u001b[1;33m(\u001b[0m\u001b[0mexc_info\u001b[0m\u001b[1;33m,\u001b[0m \u001b[0msource_hint\u001b[0m\u001b[1;33m=\u001b[0m\u001b[0msource_hint\u001b[0m\u001b[1;33m)\u001b[0m\u001b[1;33m\u001b[0m\u001b[0m\n\u001b[0m\u001b[0;32m    592\u001b[0m \u001b[1;33m\u001b[0m\u001b[0m\n\u001b[0;32m    593\u001b[0m     \u001b[1;32mdef\u001b[0m \u001b[0mcompile_expression\u001b[0m\u001b[1;33m(\u001b[0m\u001b[0mself\u001b[0m\u001b[1;33m,\u001b[0m \u001b[0msource\u001b[0m\u001b[1;33m,\u001b[0m \u001b[0mundefined_to_none\u001b[0m\u001b[1;33m=\u001b[0m\u001b[1;32mTrue\u001b[0m\u001b[1;33m)\u001b[0m\u001b[1;33m:\u001b[0m\u001b[1;33m\u001b[0m\u001b[0m\n",
      "\u001b[1;32mC:\\Projects\\bootstrap_WinPython\\WinPython\\python-3.6.6.amd64\\lib\\site-packages\\jinja2\\environment.py\u001b[0m in \u001b[0;36mhandle_exception\u001b[1;34m(self, exc_info, rendered, source_hint)\u001b[0m\n\u001b[0;32m    778\u001b[0m             \u001b[0mself\u001b[0m\u001b[1;33m.\u001b[0m\u001b[0mexception_handler\u001b[0m\u001b[1;33m(\u001b[0m\u001b[0mtraceback\u001b[0m\u001b[1;33m)\u001b[0m\u001b[1;33m\u001b[0m\u001b[0m\n\u001b[0;32m    779\u001b[0m         \u001b[0mexc_type\u001b[0m\u001b[1;33m,\u001b[0m \u001b[0mexc_value\u001b[0m\u001b[1;33m,\u001b[0m \u001b[0mtb\u001b[0m \u001b[1;33m=\u001b[0m \u001b[0mtraceback\u001b[0m\u001b[1;33m.\u001b[0m\u001b[0mstandard_exc_info\u001b[0m\u001b[1;33m\u001b[0m\u001b[0m\n\u001b[1;32m--> 780\u001b[1;33m         \u001b[0mreraise\u001b[0m\u001b[1;33m(\u001b[0m\u001b[0mexc_type\u001b[0m\u001b[1;33m,\u001b[0m \u001b[0mexc_value\u001b[0m\u001b[1;33m,\u001b[0m \u001b[0mtb\u001b[0m\u001b[1;33m)\u001b[0m\u001b[1;33m\u001b[0m\u001b[0m\n\u001b[0m\u001b[0;32m    781\u001b[0m \u001b[1;33m\u001b[0m\u001b[0m\n\u001b[0;32m    782\u001b[0m     \u001b[1;32mdef\u001b[0m \u001b[0mjoin_path\u001b[0m\u001b[1;33m(\u001b[0m\u001b[0mself\u001b[0m\u001b[1;33m,\u001b[0m \u001b[0mtemplate\u001b[0m\u001b[1;33m,\u001b[0m \u001b[0mparent\u001b[0m\u001b[1;33m)\u001b[0m\u001b[1;33m:\u001b[0m\u001b[1;33m\u001b[0m\u001b[0m\n",
      "\u001b[1;32mC:\\Projects\\bootstrap_WinPython\\WinPython\\python-3.6.6.amd64\\lib\\site-packages\\jinja2\\_compat.py\u001b[0m in \u001b[0;36mreraise\u001b[1;34m(tp, value, tb)\u001b[0m\n\u001b[0;32m     35\u001b[0m     \u001b[1;32mdef\u001b[0m \u001b[0mreraise\u001b[0m\u001b[1;33m(\u001b[0m\u001b[0mtp\u001b[0m\u001b[1;33m,\u001b[0m \u001b[0mvalue\u001b[0m\u001b[1;33m,\u001b[0m \u001b[0mtb\u001b[0m\u001b[1;33m=\u001b[0m\u001b[1;32mNone\u001b[0m\u001b[1;33m)\u001b[0m\u001b[1;33m:\u001b[0m\u001b[1;33m\u001b[0m\u001b[0m\n\u001b[0;32m     36\u001b[0m         \u001b[1;32mif\u001b[0m \u001b[0mvalue\u001b[0m\u001b[1;33m.\u001b[0m\u001b[0m__traceback__\u001b[0m \u001b[1;32mis\u001b[0m \u001b[1;32mnot\u001b[0m \u001b[0mtb\u001b[0m\u001b[1;33m:\u001b[0m\u001b[1;33m\u001b[0m\u001b[0m\n\u001b[1;32m---> 37\u001b[1;33m             \u001b[1;32mraise\u001b[0m \u001b[0mvalue\u001b[0m\u001b[1;33m.\u001b[0m\u001b[0mwith_traceback\u001b[0m\u001b[1;33m(\u001b[0m\u001b[0mtb\u001b[0m\u001b[1;33m)\u001b[0m\u001b[1;33m\u001b[0m\u001b[0m\n\u001b[0m\u001b[0;32m     38\u001b[0m         \u001b[1;32mraise\u001b[0m \u001b[0mvalue\u001b[0m\u001b[1;33m\u001b[0m\u001b[0m\n\u001b[0;32m     39\u001b[0m \u001b[1;33m\u001b[0m\u001b[0m\n",
      "\u001b[1;32m<unknown>\u001b[0m in \u001b[0;36mtemplate\u001b[1;34m()\u001b[0m\n",
      "\u001b[1;32mC:\\Projects\\bootstrap_WinPython\\WinPython\\python-3.6.6.amd64\\lib\\site-packages\\jinja2\\environment.py\u001b[0m in \u001b[0;36m_parse\u001b[1;34m(self, source, name, filename)\u001b[0m\n\u001b[0;32m    495\u001b[0m     \u001b[1;32mdef\u001b[0m \u001b[0m_parse\u001b[0m\u001b[1;33m(\u001b[0m\u001b[0mself\u001b[0m\u001b[1;33m,\u001b[0m \u001b[0msource\u001b[0m\u001b[1;33m,\u001b[0m \u001b[0mname\u001b[0m\u001b[1;33m,\u001b[0m \u001b[0mfilename\u001b[0m\u001b[1;33m)\u001b[0m\u001b[1;33m:\u001b[0m\u001b[1;33m\u001b[0m\u001b[0m\n\u001b[0;32m    496\u001b[0m         \u001b[1;34m\"\"\"Internal parsing function used by `parse` and `compile`.\"\"\"\u001b[0m\u001b[1;33m\u001b[0m\u001b[0m\n\u001b[1;32m--> 497\u001b[1;33m         \u001b[1;32mreturn\u001b[0m \u001b[0mParser\u001b[0m\u001b[1;33m(\u001b[0m\u001b[0mself\u001b[0m\u001b[1;33m,\u001b[0m \u001b[0msource\u001b[0m\u001b[1;33m,\u001b[0m \u001b[0mname\u001b[0m\u001b[1;33m,\u001b[0m \u001b[0mencode_filename\u001b[0m\u001b[1;33m(\u001b[0m\u001b[0mfilename\u001b[0m\u001b[1;33m)\u001b[0m\u001b[1;33m)\u001b[0m\u001b[1;33m.\u001b[0m\u001b[0mparse\u001b[0m\u001b[1;33m(\u001b[0m\u001b[1;33m)\u001b[0m\u001b[1;33m\u001b[0m\u001b[0m\n\u001b[0m\u001b[0;32m    498\u001b[0m \u001b[1;33m\u001b[0m\u001b[0m\n\u001b[0;32m    499\u001b[0m     \u001b[1;32mdef\u001b[0m \u001b[0mlex\u001b[0m\u001b[1;33m(\u001b[0m\u001b[0mself\u001b[0m\u001b[1;33m,\u001b[0m \u001b[0msource\u001b[0m\u001b[1;33m,\u001b[0m \u001b[0mname\u001b[0m\u001b[1;33m=\u001b[0m\u001b[1;32mNone\u001b[0m\u001b[1;33m,\u001b[0m \u001b[0mfilename\u001b[0m\u001b[1;33m=\u001b[0m\u001b[1;32mNone\u001b[0m\u001b[1;33m)\u001b[0m\u001b[1;33m:\u001b[0m\u001b[1;33m\u001b[0m\u001b[0m\n",
      "\u001b[1;32mC:\\Projects\\bootstrap_WinPython\\WinPython\\python-3.6.6.amd64\\lib\\site-packages\\jinja2\\parser.py\u001b[0m in \u001b[0;36mparse\u001b[1;34m(self)\u001b[0m\n\u001b[0;32m    899\u001b[0m     \u001b[1;32mdef\u001b[0m \u001b[0mparse\u001b[0m\u001b[1;33m(\u001b[0m\u001b[0mself\u001b[0m\u001b[1;33m)\u001b[0m\u001b[1;33m:\u001b[0m\u001b[1;33m\u001b[0m\u001b[0m\n\u001b[0;32m    900\u001b[0m         \u001b[1;34m\"\"\"Parse the whole template into a `Template` node.\"\"\"\u001b[0m\u001b[1;33m\u001b[0m\u001b[0m\n\u001b[1;32m--> 901\u001b[1;33m         \u001b[0mresult\u001b[0m \u001b[1;33m=\u001b[0m \u001b[0mnodes\u001b[0m\u001b[1;33m.\u001b[0m\u001b[0mTemplate\u001b[0m\u001b[1;33m(\u001b[0m\u001b[0mself\u001b[0m\u001b[1;33m.\u001b[0m\u001b[0msubparse\u001b[0m\u001b[1;33m(\u001b[0m\u001b[1;33m)\u001b[0m\u001b[1;33m,\u001b[0m \u001b[0mlineno\u001b[0m\u001b[1;33m=\u001b[0m\u001b[1;36m1\u001b[0m\u001b[1;33m)\u001b[0m\u001b[1;33m\u001b[0m\u001b[0m\n\u001b[0m\u001b[0;32m    902\u001b[0m         \u001b[0mresult\u001b[0m\u001b[1;33m.\u001b[0m\u001b[0mset_environment\u001b[0m\u001b[1;33m(\u001b[0m\u001b[0mself\u001b[0m\u001b[1;33m.\u001b[0m\u001b[0menvironment\u001b[0m\u001b[1;33m)\u001b[0m\u001b[1;33m\u001b[0m\u001b[0m\n\u001b[0;32m    903\u001b[0m         \u001b[1;32mreturn\u001b[0m \u001b[0mresult\u001b[0m\u001b[1;33m\u001b[0m\u001b[0m\n",
      "\u001b[1;32mC:\\Projects\\bootstrap_WinPython\\WinPython\\python-3.6.6.amd64\\lib\\site-packages\\jinja2\\parser.py\u001b[0m in \u001b[0;36msubparse\u001b[1;34m(self, end_tokens)\u001b[0m\n\u001b[0;32m    873\u001b[0m                 \u001b[1;32melif\u001b[0m \u001b[0mtoken\u001b[0m\u001b[1;33m.\u001b[0m\u001b[0mtype\u001b[0m \u001b[1;33m==\u001b[0m \u001b[1;34m'variable_begin'\u001b[0m\u001b[1;33m:\u001b[0m\u001b[1;33m\u001b[0m\u001b[0m\n\u001b[0;32m    874\u001b[0m                     \u001b[0mnext\u001b[0m\u001b[1;33m(\u001b[0m\u001b[0mself\u001b[0m\u001b[1;33m.\u001b[0m\u001b[0mstream\u001b[0m\u001b[1;33m)\u001b[0m\u001b[1;33m\u001b[0m\u001b[0m\n\u001b[1;32m--> 875\u001b[1;33m                     \u001b[0madd_data\u001b[0m\u001b[1;33m(\u001b[0m\u001b[0mself\u001b[0m\u001b[1;33m.\u001b[0m\u001b[0mparse_tuple\u001b[0m\u001b[1;33m(\u001b[0m\u001b[0mwith_condexpr\u001b[0m\u001b[1;33m=\u001b[0m\u001b[1;32mTrue\u001b[0m\u001b[1;33m)\u001b[0m\u001b[1;33m)\u001b[0m\u001b[1;33m\u001b[0m\u001b[0m\n\u001b[0m\u001b[0;32m    876\u001b[0m                     \u001b[0mself\u001b[0m\u001b[1;33m.\u001b[0m\u001b[0mstream\u001b[0m\u001b[1;33m.\u001b[0m\u001b[0mexpect\u001b[0m\u001b[1;33m(\u001b[0m\u001b[1;34m'variable_end'\u001b[0m\u001b[1;33m)\u001b[0m\u001b[1;33m\u001b[0m\u001b[0m\n\u001b[0;32m    877\u001b[0m                 \u001b[1;32melif\u001b[0m \u001b[0mtoken\u001b[0m\u001b[1;33m.\u001b[0m\u001b[0mtype\u001b[0m \u001b[1;33m==\u001b[0m \u001b[1;34m'block_begin'\u001b[0m\u001b[1;33m:\u001b[0m\u001b[1;33m\u001b[0m\u001b[0m\n",
      "\u001b[1;32mC:\\Projects\\bootstrap_WinPython\\WinPython\\python-3.6.6.amd64\\lib\\site-packages\\jinja2\\parser.py\u001b[0m in \u001b[0;36mparse_tuple\u001b[1;34m(self, simplified, with_condexpr, extra_end_rules, explicit_parentheses)\u001b[0m\n\u001b[0;32m    635\u001b[0m             \u001b[1;32mif\u001b[0m \u001b[1;32mnot\u001b[0m \u001b[0mexplicit_parentheses\u001b[0m\u001b[1;33m:\u001b[0m\u001b[1;33m\u001b[0m\u001b[0m\n\u001b[0;32m    636\u001b[0m                 self.fail('Expected an expression, got \\'%s\\'' %\n\u001b[1;32m--> 637\u001b[1;33m                           describe_token(self.stream.current))\n\u001b[0m\u001b[0;32m    638\u001b[0m \u001b[1;33m\u001b[0m\u001b[0m\n\u001b[0;32m    639\u001b[0m         \u001b[1;32mreturn\u001b[0m \u001b[0mnodes\u001b[0m\u001b[1;33m.\u001b[0m\u001b[0mTuple\u001b[0m\u001b[1;33m(\u001b[0m\u001b[0margs\u001b[0m\u001b[1;33m,\u001b[0m \u001b[1;34m'load'\u001b[0m\u001b[1;33m,\u001b[0m \u001b[0mlineno\u001b[0m\u001b[1;33m=\u001b[0m\u001b[0mlineno\u001b[0m\u001b[1;33m)\u001b[0m\u001b[1;33m\u001b[0m\u001b[0m\n",
      "\u001b[1;32mC:\\Projects\\bootstrap_WinPython\\WinPython\\python-3.6.6.amd64\\lib\\site-packages\\jinja2\\parser.py\u001b[0m in \u001b[0;36mfail\u001b[1;34m(self, msg, lineno, exc)\u001b[0m\n\u001b[0;32m     57\u001b[0m         \u001b[1;32mif\u001b[0m \u001b[0mlineno\u001b[0m \u001b[1;32mis\u001b[0m \u001b[1;32mNone\u001b[0m\u001b[1;33m:\u001b[0m\u001b[1;33m\u001b[0m\u001b[0m\n\u001b[0;32m     58\u001b[0m             \u001b[0mlineno\u001b[0m \u001b[1;33m=\u001b[0m \u001b[0mself\u001b[0m\u001b[1;33m.\u001b[0m\u001b[0mstream\u001b[0m\u001b[1;33m.\u001b[0m\u001b[0mcurrent\u001b[0m\u001b[1;33m.\u001b[0m\u001b[0mlineno\u001b[0m\u001b[1;33m\u001b[0m\u001b[0m\n\u001b[1;32m---> 59\u001b[1;33m         \u001b[1;32mraise\u001b[0m \u001b[0mexc\u001b[0m\u001b[1;33m(\u001b[0m\u001b[0mmsg\u001b[0m\u001b[1;33m,\u001b[0m \u001b[0mlineno\u001b[0m\u001b[1;33m,\u001b[0m \u001b[0mself\u001b[0m\u001b[1;33m.\u001b[0m\u001b[0mname\u001b[0m\u001b[1;33m,\u001b[0m \u001b[0mself\u001b[0m\u001b[1;33m.\u001b[0m\u001b[0mfilename\u001b[0m\u001b[1;33m)\u001b[0m\u001b[1;33m\u001b[0m\u001b[0m\n\u001b[0m\u001b[0;32m     60\u001b[0m \u001b[1;33m\u001b[0m\u001b[0m\n\u001b[0;32m     61\u001b[0m     \u001b[1;32mdef\u001b[0m \u001b[0m_fail_ut_eof\u001b[0m\u001b[1;33m(\u001b[0m\u001b[0mself\u001b[0m\u001b[1;33m,\u001b[0m \u001b[0mname\u001b[0m\u001b[1;33m,\u001b[0m \u001b[0mend_token_stack\u001b[0m\u001b[1;33m,\u001b[0m \u001b[0mlineno\u001b[0m\u001b[1;33m)\u001b[0m\u001b[1;33m:\u001b[0m\u001b[1;33m\u001b[0m\u001b[0m\n",
      "\u001b[1;31mTemplateSyntaxError\u001b[0m: Expected an expression, got 'end of print statement'"
     ]
    }
   ],
   "source": [
    "import jinja2\n",
    "fcn_template = jinja2.Template(\"\"\"\n",
    "def {{ function_name }} \n",
    "\n",
    "\n",
    "\"\"\")"
   ]
  },
  {
   "cell_type": "code",
   "execution_count": 50,
   "metadata": {},
   "outputs": [],
   "source": [
    "ctypes_template = jinja2.Template(\"\"\"dll.Asap3Init5.restype = ctypes.c_bool\n",
    "dll.Asap3Init5.argtypes = (\n",
    "    ctypes.POINTER(TAsap3Hdl),\n",
    "    ctypes.c_ulong,\n",
    "    ctypes.c_char_p,\n",
    "    ctypes.c_ulong,\n",
    "    ctypes.c_ulong,\n",
    "    ctypes.c_bool,\n",
    "    ctypes.c_bool,\n",
    "    ctypes.c_bool,\n",
    "    ctypes.c_bool\n",
    ")\"\"\")"
   ]
  },
  {
   "cell_type": "code",
   "execution_count": null,
   "metadata": {},
   "outputs": [],
   "source": []
  },
  {
   "cell_type": "code",
   "execution_count": 70,
   "metadata": {},
   "outputs": [],
   "source": [
    "lookup = {\n",
    "    \"unsigned long\": \"ctypes.c_ulong\",\n",
    "    \"bool\": \"ctypes.c_bool\",    \n",
    "}"
   ]
  },
  {
   "cell_type": "code",
   "execution_count": 89,
   "metadata": {},
   "outputs": [],
   "source": [
    "def to_c_type(arg_type):\n",
    "    if arg_type in [\"TAsap3Hdl\", ]:\n",
    "        return arg_type\n",
    "    if arg_type in lookup:\n",
    "        return lookup[arg_type]\n",
    "    raise Exception(arg_type)"
   ]
  },
  {
   "cell_type": "code",
   "execution_count": 90,
   "metadata": {},
   "outputs": [
    {
     "data": {
      "text/plain": [
       "True"
      ]
     },
     "execution_count": 90,
     "metadata": {},
     "output_type": "execute_result"
    }
   ],
   "source": [
    "\"TAsap3Hdl\" in [\"TAsap3Hdl\", ]"
   ]
  },
  {
   "cell_type": "code",
   "execution_count": 93,
   "metadata": {},
   "outputs": [
    {
     "name": "stdout",
     "output_type": "stream",
     "text": [
      "Asap3OpenDisplay.argtypes=(\n",
      "    ctypes.POINTER(TAsap3Hdl),\n",
      "    ctypes.c_ulong,\n",
      "    ctypes.POINTER(ctypes.c_char_p),\n",
      "    ctypes.c_ulong,\n",
      "    ctypes.c_bool,\n",
      ")\n"
     ]
    }
   ],
   "source": [
    "print(f\"{function_name}.argtypes=(\")\n",
    "for arg in args.split(\",\"):\n",
    "    arg_words = arg.strip().split(\" \")\n",
    "    var_name = arg_words[-1]\n",
    "    arg_type = \" \".join(arg_words[:-1])\n",
    "    pointer = False\n",
    "    if arg_type.endswith(\"*\"):\n",
    "        arg_type=arg_type.rstrip(\"*\").strip()\n",
    "        pointer=True\n",
    "    elif var_name.startswith(\"*\"):\n",
    "        var_name=var_name.lstrip(\"*\").strip()\n",
    "        pointer=True\n",
    "    if arg_type == \"const char\":\n",
    "        c_type = \"ctypes.c_char_p\"\n",
    "    else:\n",
    "        c_type = to_c_type(arg_type)\n",
    "    if pointer:\n",
    "        c_type=f\"ctypes.POINTER({c_type})\"\n",
    "    print(f\"\"\"    {c_type},\"\"\")\n",
    "print(\")\")"
   ]
  },
  {
   "cell_type": "code",
   "execution_count": 84,
   "metadata": {},
   "outputs": [],
   "source": [
    "c_type = to_c_type(return_type)"
   ]
  },
  {
   "cell_type": "code",
   "execution_count": 86,
   "metadata": {},
   "outputs": [
    {
     "name": "stdout",
     "output_type": "stream",
     "text": [
      "Asap3OpenDisplay.restype=ctypes.c_bool\n"
     ]
    }
   ],
   "source": [
    "print(f\"{function_name}.restype={c_type}\")"
   ]
  }
 ],
 "metadata": {
  "kernelspec": {
   "display_name": "Python 3",
   "language": "python",
   "name": "python3"
  },
  "language_info": {
   "codemirror_mode": {
    "name": "ipython",
    "version": 3
   },
   "file_extension": ".py",
   "mimetype": "text/x-python",
   "name": "python",
   "nbconvert_exporter": "python",
   "pygments_lexer": "ipython3",
   "version": "3.6.6"
  }
 },
 "nbformat": 4,
 "nbformat_minor": 2
}
