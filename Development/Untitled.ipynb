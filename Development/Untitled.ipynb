{
 "cells": [
  {
   "cell_type": "code",
   "execution_count": 1,
   "metadata": {},
   "outputs": [],
   "source": [
    "import re"
   ]
  },
  {
   "cell_type": "code",
   "execution_count": 17,
   "metadata": {},
   "outputs": [],
   "source": [
    "fcn = re.compile(\"^extern ([^ ]+) ASAP3_EXPORT CALL_CONV ([^(]+)\\(([^)]+)\\);\", flags=re.MULTILINE)"
   ]
  },
  {
   "cell_type": "code",
   "execution_count": 18,
   "metadata": {},
   "outputs": [],
   "source": [
    "with open(\"CANapAPI.h\", \"r\") as fid:\n",
    "    header = fid.read()"
   ]
  },
  {
   "cell_type": "code",
   "execution_count": 21,
   "metadata": {},
   "outputs": [
    {
     "name": "stdout",
     "output_type": "stream",
     "text": [
      "version_t * version\n",
      "const char* ipAddress, unsigned long portNumber\n",
      "TAsap3Hdl * hdl,\n",
      "                                             unsigned long responseTimeout,\n",
      "                                             const char *workingDir,\n",
      "                                             unsigned long fifoSize,\n",
      "                                             bool debugMode\n"
     ]
    }
   ],
   "source": [
    "for f in fcn.findall(header):\n",
    "    print(f[-1])\n",
    "    if \"\\n\" in f[-1]:\n",
    "        break"
   ]
  },
  {
   "cell_type": "code",
   "execution_count": 23,
   "metadata": {},
   "outputs": [],
   "source": [
    "args=f[-1]"
   ]
  },
  {
   "cell_type": "code",
   "execution_count": 26,
   "metadata": {},
   "outputs": [
    {
     "data": {
      "text/plain": [
       "['TAsap3Hdl * hdl',\n",
       " '\\n                                             unsigned long responseTimeout',\n",
       " '\\n                                             const char *workingDir',\n",
       " '\\n                                             unsigned long fifoSize',\n",
       " '\\n                                             bool debugMode']"
      ]
     },
     "execution_count": 26,
     "metadata": {},
     "output_type": "execute_result"
    }
   ],
   "source": [
    "args.split(\",\")"
   ]
  },
  {
   "cell_type": "code",
   "execution_count": 27,
   "metadata": {},
   "outputs": [
    {
     "name": "stdout",
     "output_type": "stream",
     "text": [
      "TAsap3Hdl * hdl\n",
      "unsigned long responseTimeout\n",
      "const char *workingDir\n",
      "unsigned long fifoSize\n",
      "bool debugMode\n"
     ]
    }
   ],
   "source": [
    "for arg in args.split(\",\"):\n",
    "    print(arg.strip())"
   ]
  },
  {
   "cell_type": "code",
   "execution_count": 15,
   "metadata": {},
   "outputs": [],
   "source": [
    "for a in f:\n",
    "    break"
   ]
  },
  {
   "cell_type": "code",
   "execution_count": null,
   "metadata": {},
   "outputs": [],
   "source": []
  }
 ],
 "metadata": {
  "kernelspec": {
   "display_name": "Python 3",
   "language": "python",
   "name": "python3"
  },
  "language_info": {
   "codemirror_mode": {
    "name": "ipython",
    "version": 3
   },
   "file_extension": ".py",
   "mimetype": "text/x-python",
   "name": "python",
   "nbconvert_exporter": "python",
   "pygments_lexer": "ipython3",
   "version": "3.6.6"
  }
 },
 "nbformat": 4,
 "nbformat_minor": 2
}
